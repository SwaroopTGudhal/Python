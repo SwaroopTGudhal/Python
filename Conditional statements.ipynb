{
 "cells": [
  {
   "cell_type": "markdown",
   "metadata": {},
   "source": [
    "# Conditional statements\n",
    "\n",
    "if, else and elif  \n",
    "\n",
    "Maintain indentation properly.  "
   ]
  },
  {
   "cell_type": "code",
   "execution_count": 9,
   "metadata": {},
   "outputs": [],
   "source": [
    "# if statement\n",
    "\n",
    "a = 202\n",
    "if (a == 20):\n",
    "    print(\"its twenty\")\n",
    "    \n",
    "# in IF statement we get only outfut if condition satisfies, otherwise we dont get any output."
   ]
  },
  {
   "cell_type": "code",
   "execution_count": 12,
   "metadata": {},
   "outputs": [],
   "source": [
    "a = 9\n",
    "\n",
    "if a == 9:\n",
    "    pass"
   ]
  },
  {
   "cell_type": "code",
   "execution_count": null,
   "metadata": {},
   "outputs": [],
   "source": []
  },
  {
   "cell_type": "code",
   "execution_count": 4,
   "metadata": {},
   "outputs": [
    {
     "name": "stdout",
     "output_type": "stream",
     "text": [
      "its twenty\n"
     ]
    }
   ],
   "source": [
    "# if else statement\n",
    "\n",
    "a = 20\n",
    "if (a == 20):\n",
    "    print(\"its twenty\")\n",
    "else:\n",
    "    print(\"its not twenty\")"
   ]
  },
  {
   "cell_type": "code",
   "execution_count": null,
   "metadata": {},
   "outputs": [],
   "source": []
  },
  {
   "cell_type": "code",
   "execution_count": 5,
   "metadata": {},
   "outputs": [
    {
     "name": "stdout",
     "output_type": "stream",
     "text": [
      "equal to 10\n"
     ]
    }
   ],
   "source": [
    "# elif (else if statement)\n",
    "\n",
    "a = 10\n",
    "if (a < 10):\n",
    "    print(\"less than 10\")\n",
    "elif (a>10):\n",
    "    print(\"more than 10\")\n",
    "else :\n",
    "    print(\"equal to 10\")"
   ]
  },
  {
   "cell_type": "code",
   "execution_count": 6,
   "metadata": {},
   "outputs": [
    {
     "name": "stdout",
     "output_type": "stream",
     "text": [
      "qualified for USA visa\n"
     ]
    }
   ],
   "source": [
    "age = 25\n",
    "qual = \"PG\"\n",
    "marital_status = \"married\"\n",
    "\n",
    "if(age < 35 and qual == \"PG\" and marital_status == \"married\"):\n",
    "    print(\"qualified for USA visa\")\n",
    "elif(age >= 35):\n",
    "    print(\"age test fail\")\n",
    "elif(qual == \"UG\"):\n",
    "    print(\"underqualified\")\n",
    "elif(marital_status != \"married\"):\n",
    "    print(\"you have failed marital status\")"
   ]
  },
  {
   "cell_type": "code",
   "execution_count": 8,
   "metadata": {},
   "outputs": [
    {
     "name": "stdout",
     "output_type": "stream",
     "text": [
      " print this default\n"
     ]
    }
   ],
   "source": [
    "a = 9\n",
    "\n",
    "if (a < 3):\n",
    "    print()\n",
    "    print(\" this is a correct var\")\n",
    "if (a < 7):\n",
    "    print(\" get inside elif\")\n",
    "else :\n",
    "    print(\" print this default\")"
   ]
  },
  {
   "cell_type": "code",
   "execution_count": 24,
   "metadata": {},
   "outputs": [
    {
     "name": "stdout",
     "output_type": "stream",
     "text": [
      " the number is equal to 10\n"
     ]
    }
   ],
   "source": [
    "i = 10\n",
    "if i < 10:\n",
    "    print(\"the number is less than 10\")\n",
    "elif i == 10:\n",
    "    print(\" the number is equal to 10\")\n",
    "else:\n",
    "    print(\"the number is greater than 10\")"
   ]
  },
  {
   "cell_type": "code",
   "execution_count": null,
   "metadata": {},
   "outputs": [],
   "source": []
  },
  {
   "cell_type": "code",
   "execution_count": 27,
   "metadata": {},
   "outputs": [
    {
     "name": "stdout",
     "output_type": "stream",
     "text": [
      "name is swaroop\n"
     ]
    }
   ],
   "source": [
    "# nested if\n",
    "\n",
    "s = \"swaroop\"\n",
    "if True:\n",
    "    if s == \"swaroop\":\n",
    "        print(\"name is swaroop\")\n",
    "    else :\n",
    "        print(\"if condition is not satisfied\")\n",
    "else :\n",
    "    print(\" this is second else\")\n",
    "    \n",
    "    \n",
    "# Strict rule for nested if : maintain proper indentation."
   ]
  },
  {
   "cell_type": "code",
   "execution_count": 33,
   "metadata": {},
   "outputs": [
    {
     "name": "stdout",
     "output_type": "stream",
     "text": [
      "5 or more\n"
     ]
    }
   ],
   "source": [
    "i = 7\n",
    "if i <3 and i > 1:\n",
    "    print(\" less than 3\")\n",
    "elif i<5:\n",
    "    print(\"less than 5\")\n",
    "else:\n",
    "    print('5 or more')"
   ]
  },
  {
   "cell_type": "code",
   "execution_count": null,
   "metadata": {},
   "outputs": [],
   "source": []
  }
 ],
 "metadata": {
  "kernelspec": {
   "display_name": "Python 3",
   "language": "python",
   "name": "python3"
  },
  "language_info": {
   "codemirror_mode": {
    "name": "ipython",
    "version": 3
   },
   "file_extension": ".py",
   "mimetype": "text/x-python",
   "name": "python",
   "nbconvert_exporter": "python",
   "pygments_lexer": "ipython3",
   "version": "3.7.4"
  }
 },
 "nbformat": 4,
 "nbformat_minor": 2
}
