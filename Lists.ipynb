{
 "cells": [
  {
   "cell_type": "markdown",
   "metadata": {},
   "source": [
    "# Lists Data Structure\n",
    "\n",
    "List can store a sequence of objects.  \n",
    "objects can be of different data types.  \n",
    "List is ordered, #mutable#.  \n",
    "\n",
    "Basic python has no array data type.  \n",
    "Array has been included in NUMPY."
   ]
  },
  {
   "cell_type": "markdown",
   "metadata": {},
   "source": [
    "### Creating a list\n",
    "give list name assign the list enclosed in square bracket.  \n",
    "\n",
    "i = [    ]    - list  \n",
    "j = list(    ) - function  \n",
    "\n",
    "In a list we can have any data type. A collection of int, float, str....etc (HETERROGENEOUS DATA)   "
   ]
  },
  {
   "cell_type": "code",
   "execution_count": 1,
   "metadata": {},
   "outputs": [
    {
     "name": "stdout",
     "output_type": "stream",
     "text": [
      "['hello', 12, 'world', 11.11, 'me2']\n"
     ]
    },
    {
     "data": {
      "text/plain": [
       "list"
      ]
     },
     "execution_count": 1,
     "metadata": {},
     "output_type": "execute_result"
    }
   ],
   "source": [
    "mylist = [\"hello\", 12, \"world\", 11.11,'me2']                            #assigning a list\n",
    "print(mylist)                                                           # print a list\n",
    "type(mylist)                                                            # check the type of variable."
   ]
  },
  {
   "cell_type": "code",
   "execution_count": 45,
   "metadata": {},
   "outputs": [
    {
     "data": {
      "text/plain": [
       "['s', 'w', 'a', 'r', 'o', 'o', 'p']"
      ]
     },
     "execution_count": 45,
     "metadata": {},
     "output_type": "execute_result"
    }
   ],
   "source": [
    "# difference of [ ] and list(  )\n",
    "\n",
    "m = list(\"swaroop\")\n",
    "m"
   ]
  },
  {
   "cell_type": "code",
   "execution_count": 52,
   "metadata": {},
   "outputs": [
    {
     "data": {
      "text/plain": [
       "['1', '2', '3', '4', '5', '6']"
      ]
     },
     "execution_count": 52,
     "metadata": {},
     "output_type": "execute_result"
    }
   ],
   "source": [
    "n = list(\"123456\")\n",
    "n\n",
    "\n",
    "# n = list(123456)\n",
    "# n \n",
    "# The above code gives error as the list function works for char and int is not iterable."
   ]
  },
  {
   "cell_type": "code",
   "execution_count": 57,
   "metadata": {},
   "outputs": [
    {
     "data": {
      "text/plain": [
       "'raw'"
      ]
     },
     "execution_count": 57,
     "metadata": {},
     "output_type": "execute_result"
    }
   ],
   "source": [
    "name = \"swaroop\"\n",
    "name[0]\n",
    "name[-1]\n",
    "name[0:10:2]\n",
    "name[0:3]\n",
    "name[3:0:-1]   # starts with 3rd index and goes till 1st index excluding 0th in negative direction.\n",
    "name[3:0:-1]    #gives the blank list as we cant move from 3 to 0 in positive direction."
   ]
  },
  {
   "cell_type": "markdown",
   "metadata": {},
   "source": [
    "## Indexing a list\n",
    "Indexing can be done similar to strings.  \n",
    "starts from 0 and so on from left to right.  \n",
    "starts from -1 and so on from right to left."
   ]
  },
  {
   "cell_type": "code",
   "execution_count": 2,
   "metadata": {},
   "outputs": [
    {
     "name": "stdout",
     "output_type": "stream",
     "text": [
      "hello\n",
      "12\n",
      "world\n",
      "11.11\n",
      "me2\n",
      "me2\n",
      "11.11\n",
      "world\n",
      "12\n",
      "hello\n"
     ]
    }
   ],
   "source": [
    "print(mylist[0])\n",
    "print(mylist[1])\n",
    "print(mylist[2])\n",
    "print(mylist[3])\n",
    "print(mylist[4])\n",
    "print(mylist[-1])\n",
    "print(mylist[-2])\n",
    "print(mylist[-3])\n",
    "print(mylist[-4])\n",
    "print(mylist[-5])"
   ]
  },
  {
   "cell_type": "markdown",
   "metadata": {},
   "source": [
    "### Indexing a range of list : Slicing\n",
    "\n",
    "## NOTE : That the upper value(Ending index) of range is not included.  \n",
    "\n",
    "#### [ included  :  excluded]\n",
    "\n",
    "#### [startpt : endpt : step_size]   #deafult stepsize is 1.\n",
    "If Step size is positive - left to right  \n",
    "If step size is negative - right to left\n",
    "\n",
    "If any value is left blank, it takes the extreme ends of the list.  "
   ]
  },
  {
   "cell_type": "code",
   "execution_count": 7,
   "metadata": {},
   "outputs": [
    {
     "name": "stdout",
     "output_type": "stream",
     "text": [
      "['hello', 12]\n",
      "['hello', 12, 'world', 11.11, 'me2']\n",
      "['hello', 12, 'world', 11.11]\n",
      "['world', 11.11]\n"
     ]
    }
   ],
   "source": [
    "print(mylist[0:2])\n",
    "print(mylist[0:])\n",
    "print(mylist[:-1])\n",
    "print(mylist[-3:-1])"
   ]
  },
  {
   "cell_type": "code",
   "execution_count": 44,
   "metadata": {},
   "outputs": [
    {
     "data": {
      "text/plain": [
       "'pooraws'"
      ]
     },
     "execution_count": 44,
     "metadata": {},
     "output_type": "execute_result"
    }
   ],
   "source": [
    "# Simple and easy way to reverse the text.\n",
    "\n",
    "s = \"swaroop\"\n",
    "s[::-1]"
   ]
  },
  {
   "cell_type": "code",
   "execution_count": 66,
   "metadata": {},
   "outputs": [
    {
     "data": {
      "text/plain": [
       "['s', 'w', 'a', 'r', 'o', 'o', 'p']"
      ]
     },
     "execution_count": 66,
     "metadata": {},
     "output_type": "execute_result"
    }
   ],
   "source": [
    "# indexing list in a list\n",
    "l = [[\"swaroop\",\"gudhal\"], 12345, 2+3j]\n",
    "l[0][0]\n",
    "l[0][1]\n",
    "list(l[0][0])"
   ]
  },
  {
   "cell_type": "code",
   "execution_count": null,
   "metadata": {},
   "outputs": [],
   "source": []
  },
  {
   "cell_type": "markdown",
   "metadata": {},
   "source": [
    "## Concatenation of list\n",
    "\n",
    "for concat we need to have the same datatype with + operation.  \n",
    "For ex we cant concat list with int and same way."
   ]
  },
  {
   "cell_type": "code",
   "execution_count": 9,
   "metadata": {},
   "outputs": [
    {
     "name": "stdout",
     "output_type": "stream",
     "text": [
      "['A', 'B', 'C', 'A', 500, 'c']\n",
      "[1, 2, 3, 4, 'A', 'B', 'C', 'A', 500, 'c']\n"
     ]
    }
   ],
   "source": [
    "a = [1,2,3,4]\n",
    "b = ['A','B','C']                                                           #assigning a list\n",
    "c = ['A', 500, 'c']\n",
    "print(b + c)                                                                #concatenating and printing the lists\n",
    "print(a + b + c)"
   ]
  },
  {
   "cell_type": "code",
   "execution_count": 11,
   "metadata": {},
   "outputs": [
    {
     "data": {
      "text/plain": [
       "[1, 2, 3, 4, 'A', 'B', 'C', 'A', 500, 'c']"
      ]
     },
     "execution_count": 11,
     "metadata": {},
     "output_type": "execute_result"
    }
   ],
   "source": [
    "d = a + b + c                                                               #assigning the concatenated list to a variable \n",
    "d                                                                     # from this new list we can index and slice the elements."
   ]
  },
  {
   "cell_type": "code",
   "execution_count": 12,
   "metadata": {},
   "outputs": [
    {
     "data": {
      "text/plain": [
       "'c'"
      ]
     },
     "execution_count": 12,
     "metadata": {},
     "output_type": "execute_result"
    }
   ],
   "source": [
    "d[-1]"
   ]
  },
  {
   "cell_type": "code",
   "execution_count": 13,
   "metadata": {},
   "outputs": [
    {
     "data": {
      "text/plain": [
       "['B', 'C', 'A', 500, 'c']"
      ]
     },
     "execution_count": 13,
     "metadata": {},
     "output_type": "execute_result"
    }
   ],
   "source": [
    "d[-5:]"
   ]
  },
  {
   "cell_type": "code",
   "execution_count": 67,
   "metadata": {},
   "outputs": [
    {
     "data": {
      "text/plain": [
       "'swaroop gudhal'"
      ]
     },
     "execution_count": 67,
     "metadata": {},
     "output_type": "execute_result"
    }
   ],
   "source": [
    "# concat in string\n",
    "\n",
    "\"swaroop\"+\" \"+\"gudhal\""
   ]
  },
  {
   "cell_type": "code",
   "execution_count": 74,
   "metadata": {},
   "outputs": [
    {
     "data": {
      "text/plain": [
       "[1, 2, 3, 4, 'swar', (3+5j), 1, 2, 3, 4, 'swar', (3+5j)]"
      ]
     },
     "execution_count": 74,
     "metadata": {},
     "output_type": "execute_result"
    }
   ],
   "source": [
    "# multiply of a list\n",
    "\n",
    "s = [1,2,3,4,'swar',3+5j]\n",
    "s*2"
   ]
  },
  {
   "cell_type": "code",
   "execution_count": null,
   "metadata": {},
   "outputs": [],
   "source": []
  },
  {
   "cell_type": "markdown",
   "metadata": {},
   "source": [
    "## More functions of lists"
   ]
  },
  {
   "cell_type": "code",
   "execution_count": 19,
   "metadata": {},
   "outputs": [
    {
     "name": "stdout",
     "output_type": "stream",
     "text": [
      "['Bangalore', 'Delhi', 'chennai', 2000, 3400.56, 'cool']\n"
     ]
    }
   ],
   "source": [
    "mylist = ['Bangalore', 'Delhi', 'chennai', 2000, 3400.56, \"cool\"]\n",
    "print(mylist)"
   ]
  },
  {
   "cell_type": "code",
   "execution_count": 20,
   "metadata": {},
   "outputs": [
    {
     "data": {
      "text/plain": [
       "6"
      ]
     },
     "execution_count": 20,
     "metadata": {},
     "output_type": "execute_result"
    }
   ],
   "source": [
    "# length of the list\n",
    "\n",
    "len(mylist)"
   ]
  },
  {
   "cell_type": "code",
   "execution_count": 21,
   "metadata": {},
   "outputs": [],
   "source": [
    "# remore an element from the list using index.\n",
    "\n",
    "del(mylist[5])"
   ]
  },
  {
   "cell_type": "code",
   "execution_count": 22,
   "metadata": {},
   "outputs": [
    {
     "name": "stdout",
     "output_type": "stream",
     "text": [
      "['Bangalore', 'Delhi', 'chennai', 2000, 3400.56]\n"
     ]
    }
   ],
   "source": [
    "print(mylist)"
   ]
  },
  {
   "cell_type": "code",
   "execution_count": 27,
   "metadata": {
    "scrolled": false
   },
   "outputs": [
    {
     "name": "stdout",
     "output_type": "stream",
     "text": [
      "[1, 2, 4]\n",
      "[2, 4]\n"
     ]
    }
   ],
   "source": [
    "# another method to do so is using pop\n",
    "\n",
    "l1 = [1,2,3,4]\n",
    "l1.pop(2)\n",
    "print(l1)\n",
    "l1.pop(0)\n",
    "print(l1)           # the value in the round bracket refer to the index value of the list.\n",
    "# if we dont give the index, the value in -1 gets popped up.\n",
    "#l1.pop() - pop -1 index element."
   ]
  },
  {
   "cell_type": "code",
   "execution_count": null,
   "metadata": {},
   "outputs": [],
   "source": []
  },
  {
   "cell_type": "code",
   "execution_count": 23,
   "metadata": {},
   "outputs": [],
   "source": [
    "# remove elements by slicing\n",
    "\n",
    "del(mylist[-2:])"
   ]
  },
  {
   "cell_type": "code",
   "execution_count": 24,
   "metadata": {},
   "outputs": [
    {
     "data": {
      "text/plain": [
       "['Bangalore', 'Delhi', 'chennai']"
      ]
     },
     "execution_count": 24,
     "metadata": {},
     "output_type": "execute_result"
    }
   ],
   "source": [
    "mylist"
   ]
  },
  {
   "cell_type": "code",
   "execution_count": null,
   "metadata": {},
   "outputs": [],
   "source": []
  },
  {
   "cell_type": "code",
   "execution_count": 25,
   "metadata": {},
   "outputs": [],
   "source": [
    "# delete the elements by the names.\n",
    "\n",
    "newlist = [\"hello\", 2, 3, 2, 'world',2]\n",
    "newlist.remove(2)"
   ]
  },
  {
   "cell_type": "code",
   "execution_count": 116,
   "metadata": {},
   "outputs": [
    {
     "data": {
      "text/plain": [
       "['hello', 3, 2, 'world', 2]"
      ]
     },
     "execution_count": 116,
     "metadata": {},
     "output_type": "execute_result"
    }
   ],
   "source": [
    "newlist             # removed only one element. REMOVE only deletes the first matching element."
   ]
  },
  {
   "cell_type": "code",
   "execution_count": null,
   "metadata": {},
   "outputs": [],
   "source": []
  },
  {
   "cell_type": "code",
   "execution_count": 29,
   "metadata": {},
   "outputs": [
    {
     "data": {
      "text/plain": [
       "True"
      ]
     },
     "execution_count": 29,
     "metadata": {},
     "output_type": "execute_result"
    }
   ],
   "source": [
    "#finding the existance in the list\n",
    "\n",
    "# output is the boolean value.\n",
    "\n",
    "'hello' in newlist"
   ]
  },
  {
   "cell_type": "code",
   "execution_count": 31,
   "metadata": {},
   "outputs": [
    {
     "data": {
      "text/plain": [
       "False"
      ]
     },
     "execution_count": 31,
     "metadata": {},
     "output_type": "execute_result"
    }
   ],
   "source": [
    "5 in newlist"
   ]
  },
  {
   "cell_type": "code",
   "execution_count": 32,
   "metadata": {},
   "outputs": [
    {
     "data": {
      "text/plain": [
       "True"
      ]
     },
     "execution_count": 32,
     "metadata": {},
     "output_type": "execute_result"
    }
   ],
   "source": [
    "5 not in newlist"
   ]
  },
  {
   "cell_type": "code",
   "execution_count": 33,
   "metadata": {},
   "outputs": [
    {
     "name": "stdout",
     "output_type": "stream",
     "text": [
      "3\n",
      "1\n"
     ]
    }
   ],
   "source": [
    "# checking the max and min value in the list\n",
    "\n",
    "# max and min works for only numeric data. strings are excluded.\n",
    "\n",
    "l1 = [1,2,3]\n",
    "print(max(l1))\n",
    "print(min(l1))"
   ]
  },
  {
   "cell_type": "code",
   "execution_count": null,
   "metadata": {},
   "outputs": [],
   "source": []
  },
  {
   "cell_type": "code",
   "execution_count": 35,
   "metadata": {},
   "outputs": [
    {
     "data": {
      "text/plain": [
       "[1, 2, 3, 5]"
      ]
     },
     "execution_count": 35,
     "metadata": {},
     "output_type": "execute_result"
    }
   ],
   "source": [
    "# adding the single value at the end of the list\n",
    "\n",
    "l1 = [1,2,3]\n",
    "l1.append(5)\n",
    "l1\n",
    "\n",
    "#limitation is we can add only one element at the end."
   ]
  },
  {
   "cell_type": "code",
   "execution_count": 36,
   "metadata": {},
   "outputs": [
    {
     "data": {
      "text/plain": [
       "[1, 2, 3, 5, [6, 7]]"
      ]
     },
     "execution_count": 36,
     "metadata": {},
     "output_type": "execute_result"
    }
   ],
   "source": [
    "l1.append([6,7])\n",
    "l1"
   ]
  },
  {
   "cell_type": "code",
   "execution_count": 59,
   "metadata": {},
   "outputs": [
    {
     "data": {
      "text/plain": [
       "['swaroop', 'texas', 'bangalore', 12345, ['qwe', 23, (3+5j), 32.002]]"
      ]
     },
     "execution_count": 59,
     "metadata": {},
     "output_type": "execute_result"
    }
   ],
   "source": [
    "l = []\n",
    "l.append(\"swaroop\")\n",
    "l.append(\"texas\")\n",
    "l.append(\"bangalore\")\n",
    "l.append(12345)\n",
    "l.append(['qwe', 23, 3+5j, 32.002])\n",
    "l"
   ]
  },
  {
   "cell_type": "code",
   "execution_count": null,
   "metadata": {},
   "outputs": [],
   "source": []
  },
  {
   "cell_type": "code",
   "execution_count": 38,
   "metadata": {},
   "outputs": [
    {
     "data": {
      "text/plain": [
       "[1, 2, 3, 4, 5, 6]"
      ]
     },
     "execution_count": 38,
     "metadata": {},
     "output_type": "execute_result"
    }
   ],
   "source": [
    "# to over come limitaion of the append we have extend\n",
    "\n",
    "l1 = [1,2,3]\n",
    "l1.extend([4,5,6])\n",
    "l1\n",
    "\n",
    "# limitation is we can add multiple elements at the end only not in between the list."
   ]
  },
  {
   "cell_type": "code",
   "execution_count": 114,
   "metadata": {},
   "outputs": [
    {
     "data": {
      "text/plain": [
       "[1, 2, 3, 's', 'w', 'a', 'r', 'o', 'o', 'p']"
      ]
     },
     "execution_count": 114,
     "metadata": {},
     "output_type": "execute_result"
    }
   ],
   "source": [
    "l1.extend(\"swaroop\")\n",
    "l1\n",
    "\n",
    "# Extend work similat to concat.\n",
    "# first it will unravel(expand) the data and then adds it."
   ]
  },
  {
   "cell_type": "code",
   "execution_count": null,
   "metadata": {},
   "outputs": [],
   "source": []
  },
  {
   "cell_type": "code",
   "execution_count": null,
   "metadata": {},
   "outputs": [],
   "source": []
  },
  {
   "cell_type": "code",
   "execution_count": 77,
   "metadata": {},
   "outputs": [
    {
     "data": {
      "text/plain": [
       "[1, 101, 2, 3, 4]"
      ]
     },
     "execution_count": 77,
     "metadata": {},
     "output_type": "execute_result"
    }
   ],
   "source": [
    "# to insert the elements in between the list\n",
    "\n",
    "l1 = [1,2,3,4]\n",
    "l1.insert(1, 101)\n",
    "l1\n",
    "\n",
    "# first we give the index and later give the value to be added to list"
   ]
  },
  {
   "cell_type": "code",
   "execution_count": 76,
   "metadata": {},
   "outputs": [
    {
     "data": {
      "text/plain": [
       "[1, 2, 3, 202, 4]"
      ]
     },
     "execution_count": 76,
     "metadata": {},
     "output_type": "execute_result"
    }
   ],
   "source": [
    "l1 = [1,2,3,4]\n",
    "l1.insert(-1,202)\n",
    "l1\n",
    "\n",
    "# insert adds the value before the index value. Analyze the case by shift + tab."
   ]
  },
  {
   "cell_type": "code",
   "execution_count": null,
   "metadata": {},
   "outputs": [],
   "source": []
  },
  {
   "cell_type": "code",
   "execution_count": 63,
   "metadata": {},
   "outputs": [
    {
     "data": {
      "text/plain": [
       "['swaroop',\n",
       " 'texas',\n",
       " ['not', 'bangalore'],\n",
       " 'bangalore',\n",
       " 12345,\n",
       " ['qwe', 23, (3+5j), 32.002]]"
      ]
     },
     "execution_count": 63,
     "metadata": {},
     "output_type": "execute_result"
    }
   ],
   "source": [
    "l = []\n",
    "l.append(\"swaroop\")\n",
    "l.append(\"texas\")\n",
    "l.append(\"bangalore\")\n",
    "l.append(12345)\n",
    "l.append(['qwe', 23, 3+5j, 32.002])\n",
    "l.insert(2,[\"not\", \"bangalore\"])\n",
    "l"
   ]
  },
  {
   "cell_type": "code",
   "execution_count": null,
   "metadata": {},
   "outputs": [],
   "source": []
  },
  {
   "cell_type": "code",
   "execution_count": 41,
   "metadata": {},
   "outputs": [
    {
     "name": "stdout",
     "output_type": "stream",
     "text": [
      "[-1, 0, 1, 23, 45]\n"
     ]
    }
   ],
   "source": [
    "# sorting the elements in list in ascending order\n",
    "\n",
    "l2 = [23,1,0,45,-1]\n",
    "l2.sort()\n",
    "print(l2)"
   ]
  },
  {
   "cell_type": "code",
   "execution_count": 87,
   "metadata": {},
   "outputs": [
    {
     "data": {
      "text/plain": [
       "['a', 'd', 'f', 'q']"
      ]
     },
     "execution_count": 87,
     "metadata": {},
     "output_type": "execute_result"
    }
   ],
   "source": [
    "l1 = ['q','a','d','f']\n",
    "l1.sort()\n",
    "l1"
   ]
  },
  {
   "cell_type": "code",
   "execution_count": null,
   "metadata": {},
   "outputs": [],
   "source": []
  },
  {
   "cell_type": "code",
   "execution_count": 88,
   "metadata": {},
   "outputs": [
    {
     "name": "stdout",
     "output_type": "stream",
     "text": [
      "[-1, 0, 1, 23, 45]\n",
      "[23, 1, 0, 45, -1]\n"
     ]
    }
   ],
   "source": [
    "# sort changes the list to the ascending order permanently. \n",
    "#BUt in case if we have to view only sorted elements and not change the list we have SORTED function.\n",
    "\n",
    "l2 = [23,1,0,45,-1]\n",
    "print(sorted(l2))\n",
    "print(l2)\n",
    "\n",
    "# sort function can be applied only for numeric or alphabetic separately.\n",
    "# ie only we can pass str or int. Not the mixture of both."
   ]
  },
  {
   "cell_type": "code",
   "execution_count": null,
   "metadata": {},
   "outputs": [],
   "source": []
  },
  {
   "cell_type": "code",
   "execution_count": 115,
   "metadata": {},
   "outputs": [
    {
     "data": {
      "text/plain": [
       "2"
      ]
     },
     "execution_count": 115,
     "metadata": {},
     "output_type": "execute_result"
    }
   ],
   "source": [
    "# to find the index of the given var in the list\n",
    "# gives the index of the first encounter\n",
    "\n",
    "l = [1,2,3,4,5,6,8,7,9]\n",
    "l.index(3)"
   ]
  },
  {
   "cell_type": "code",
   "execution_count": null,
   "metadata": {},
   "outputs": [],
   "source": []
  },
  {
   "cell_type": "code",
   "execution_count": 90,
   "metadata": {},
   "outputs": [
    {
     "name": "stdout",
     "output_type": "stream",
     "text": [
      "[23, 1, 56, 45, -1]\n"
     ]
    }
   ],
   "source": [
    "# reassigning the value of the list element with index.(mutability property)\n",
    "\n",
    "l2[2]= 56\n",
    "print(l2)"
   ]
  },
  {
   "cell_type": "code",
   "execution_count": null,
   "metadata": {},
   "outputs": [],
   "source": []
  },
  {
   "cell_type": "code",
   "execution_count": 84,
   "metadata": {},
   "outputs": [
    {
     "name": "stdout",
     "output_type": "stream",
     "text": [
      "[6, 5, 4, 3, 2, 1]\n",
      "[1, 2, 3, 4, 5, 6]\n"
     ]
    }
   ],
   "source": [
    "# Reversing the list\n",
    "#type 01 \n",
    "# original list doesnt get affected\n",
    "\n",
    "list01 = [1,2,3,4,5,6,]\n",
    "print(list01[::-1])\n",
    "print(list01)"
   ]
  },
  {
   "cell_type": "code",
   "execution_count": 85,
   "metadata": {},
   "outputs": [
    {
     "data": {
      "text/plain": [
       "[6, 5, 4, 3, 2, 1]"
      ]
     },
     "execution_count": 85,
     "metadata": {},
     "output_type": "execute_result"
    }
   ],
   "source": [
    "#type 02\n",
    "# original list is reversed.\n",
    "\n",
    "list01 = [1,2,3,4,5,6,]\n",
    "list01.reverse()\n",
    "list01"
   ]
  },
  {
   "cell_type": "code",
   "execution_count": null,
   "metadata": {},
   "outputs": [],
   "source": []
  },
  {
   "cell_type": "code",
   "execution_count": 113,
   "metadata": {},
   "outputs": [
    {
     "data": {
      "text/plain": [
       "3"
      ]
     },
     "execution_count": 113,
     "metadata": {},
     "output_type": "execute_result"
    }
   ],
   "source": [
    "# to identify the number of value in the list\n",
    "\n",
    "l = [1,2,3,2,3,5,6,8,2,1,3,5]\n",
    "l.count(2)"
   ]
  },
  {
   "cell_type": "code",
   "execution_count": null,
   "metadata": {},
   "outputs": [],
   "source": []
  },
  {
   "cell_type": "code",
   "execution_count": 70,
   "metadata": {},
   "outputs": [
    {
     "data": {
      "text/plain": [
       "['21', 'cxz', 'dsa', 'ewq']"
      ]
     },
     "execution_count": 70,
     "metadata": {},
     "output_type": "execute_result"
    }
   ],
   "source": [
    "l = []\n",
    "\n",
    "for i in [1,2,3,\"swar\", [\"qwe\",\"asd\",\"zxc\",\"12\"]]:\n",
    "    if type(i) == list:\n",
    "        for j in i[::-1]:\n",
    "            l.append(j[::-1])\n",
    "l"
   ]
  },
  {
   "cell_type": "code",
   "execution_count": null,
   "metadata": {},
   "outputs": [],
   "source": []
  },
  {
   "cell_type": "markdown",
   "metadata": {},
   "source": [
    "## Nested list"
   ]
  },
  {
   "cell_type": "code",
   "execution_count": 91,
   "metadata": {},
   "outputs": [],
   "source": [
    "l1=[1,2,3] \n",
    "l2=[4,5,6]\n",
    "l3=[7,8,9]\n",
    "\n",
    "matrix = [l1,l2,l3]"
   ]
  },
  {
   "cell_type": "code",
   "execution_count": 92,
   "metadata": {},
   "outputs": [
    {
     "data": {
      "text/plain": [
       "[[1, 2, 3], [4, 5, 6], [7, 8, 9]]"
      ]
     },
     "execution_count": 92,
     "metadata": {},
     "output_type": "execute_result"
    }
   ],
   "source": [
    "matrix"
   ]
  },
  {
   "cell_type": "code",
   "execution_count": 93,
   "metadata": {},
   "outputs": [
    {
     "data": {
      "text/plain": [
       "list"
      ]
     },
     "execution_count": 93,
     "metadata": {},
     "output_type": "execute_result"
    }
   ],
   "source": [
    "type(matrix)"
   ]
  },
  {
   "cell_type": "code",
   "execution_count": 94,
   "metadata": {},
   "outputs": [
    {
     "data": {
      "text/plain": [
       "5"
      ]
     },
     "execution_count": 94,
     "metadata": {},
     "output_type": "execute_result"
    }
   ],
   "source": [
    "matrix[1][1]"
   ]
  },
  {
   "cell_type": "code",
   "execution_count": 95,
   "metadata": {},
   "outputs": [
    {
     "data": {
      "text/plain": [
       "1"
      ]
     },
     "execution_count": 95,
     "metadata": {},
     "output_type": "execute_result"
    }
   ],
   "source": [
    "matrix[0][0]"
   ]
  },
  {
   "cell_type": "markdown",
   "metadata": {},
   "source": [
    "### List Comprehension"
   ]
  },
  {
   "cell_type": "code",
   "execution_count": 98,
   "metadata": {},
   "outputs": [
    {
     "name": "stdout",
     "output_type": "stream",
     "text": [
      "[2, 5, 8]\n"
     ]
    }
   ],
   "source": [
    "# Normal or conventional approach\n",
    "\n",
    "p = []\n",
    "for i in matrix:\n",
    "    p.append(i[1])\n",
    "print(p)"
   ]
  },
  {
   "cell_type": "code",
   "execution_count": 100,
   "metadata": {},
   "outputs": [
    {
     "data": {
      "text/plain": [
       "[2, 5, 8]"
      ]
     },
     "execution_count": 100,
     "metadata": {},
     "output_type": "execute_result"
    }
   ],
   "source": [
    "# building a list comprehension by deconstructing a for loop within a []\n",
    "\n",
    "col = [row[1] for row in matrix]\n",
    "col"
   ]
  },
  {
   "cell_type": "code",
   "execution_count": 101,
   "metadata": {},
   "outputs": [
    {
     "data": {
      "text/plain": [
       "[10, 25, 40]"
      ]
     },
     "execution_count": 101,
     "metadata": {},
     "output_type": "execute_result"
    }
   ],
   "source": [
    "col = [row[1]*5 for row in matrix]\n",
    "col"
   ]
  },
  {
   "cell_type": "code",
   "execution_count": 102,
   "metadata": {},
   "outputs": [
    {
     "data": {
      "text/plain": [
       "[2.5, 5.5, 8.5]"
      ]
     },
     "execution_count": 102,
     "metadata": {},
     "output_type": "execute_result"
    }
   ],
   "source": [
    "col = [row[1]+0.5 for row in matrix]\n",
    "col"
   ]
  },
  {
   "cell_type": "code",
   "execution_count": 103,
   "metadata": {},
   "outputs": [
    {
     "data": {
      "text/plain": [
       "[[1, 2, 3], [4, 5, 6], [7, 8, 9]]"
      ]
     },
     "execution_count": 103,
     "metadata": {},
     "output_type": "execute_result"
    }
   ],
   "source": [
    "matrix"
   ]
  },
  {
   "cell_type": "code",
   "execution_count": 104,
   "metadata": {},
   "outputs": [
    {
     "data": {
      "text/plain": [
       "[(1, 2), (4, 5), (7, 8)]"
      ]
     },
     "execution_count": 104,
     "metadata": {},
     "output_type": "execute_result"
    }
   ],
   "source": [
    "col = [(i[0],i[1]) for i in matrix]\n",
    "col"
   ]
  },
  {
   "cell_type": "code",
   "execution_count": 112,
   "metadata": {},
   "outputs": [
    {
     "name": "stdout",
     "output_type": "stream",
     "text": [
      "[(1, 2), (4, 5), (7, 8)]\n"
     ]
    }
   ],
   "source": [
    "l = []\n",
    "for i in matrix:\n",
    "    l.append((i[0],i[1]))\n",
    "print(l)"
   ]
  },
  {
   "cell_type": "code",
   "execution_count": 1,
   "metadata": {},
   "outputs": [
    {
     "name": "stdout",
     "output_type": "stream",
     "text": [
      "[1, 4, 9, 16]\n"
     ]
    }
   ],
   "source": [
    "lst = [1,2,3,4]\n",
    "lst1 = []\n",
    "for i in lst:\n",
    "    lst1.append(i**2)\n",
    "    \n",
    "print(lst1)\n",
    "    "
   ]
  },
  {
   "cell_type": "code",
   "execution_count": 2,
   "metadata": {},
   "outputs": [
    {
     "data": {
      "text/plain": [
       "[1, 4, 9, 16]"
      ]
     },
     "execution_count": 2,
     "metadata": {},
     "output_type": "execute_result"
    }
   ],
   "source": [
    "[i**2 for i in lst]"
   ]
  },
  {
   "cell_type": "code",
   "execution_count": 3,
   "metadata": {},
   "outputs": [
    {
     "data": {
      "text/plain": [
       "[2, 4, 6, 8, 10]"
      ]
     },
     "execution_count": 3,
     "metadata": {},
     "output_type": "execute_result"
    }
   ],
   "source": [
    "## List comprehension for sum of even nos in a collection\n",
    "\n",
    "lst = [1,2,3,4,5,6,7,8,9,10]\n",
    "lsteven = [i for i in lst if i%2==0]\n",
    "lsteven"
   ]
  },
  {
   "cell_type": "code",
   "execution_count": 4,
   "metadata": {},
   "outputs": [
    {
     "data": {
      "text/plain": [
       "30"
      ]
     },
     "execution_count": 4,
     "metadata": {},
     "output_type": "execute_result"
    }
   ],
   "source": [
    "lsteven = sum([i for i in lst if i%2==0])\n",
    "lsteven"
   ]
  },
  {
   "cell_type": "code",
   "execution_count": 5,
   "metadata": {},
   "outputs": [
    {
     "data": {
      "text/plain": [
       "[1, 3, 5, 7, 9]"
      ]
     },
     "execution_count": 5,
     "metadata": {},
     "output_type": "execute_result"
    }
   ],
   "source": [
    "## List comprehension for sum of odd nos in a collection\n",
    "\n",
    "lst = [1,2,3,4,5,6,7,8,9,10]\n",
    "lstodd = [i for i in lst if i%2!=0]\n",
    "lstodd"
   ]
  },
  {
   "cell_type": "code",
   "execution_count": 6,
   "metadata": {},
   "outputs": [
    {
     "data": {
      "text/plain": [
       "25"
      ]
     },
     "execution_count": 6,
     "metadata": {},
     "output_type": "execute_result"
    }
   ],
   "source": [
    "lstodd = sum([i for i in lst if i%2!=0])\n",
    "lstodd"
   ]
  },
  {
   "cell_type": "code",
   "execution_count": 18,
   "metadata": {},
   "outputs": [
    {
     "data": {
      "text/plain": [
       "['tariV', 'htimS', 'eniaP']"
      ]
     },
     "execution_count": 18,
     "metadata": {},
     "output_type": "execute_result"
    }
   ],
   "source": [
    "## List comprehesion to reverse a list of strings with reverse of strings.\n",
    "\n",
    "lst = [\"Paine\", \"Smith\",\"Virat\" ]      #lst is the given list\n",
    "\n",
    "           #reverse the strings  #Reverse the reversed list\n",
    "#          ----------------------______\n",
    "lstfinal = [i[::-1] for i in lst][::-1]\n",
    "lstfinal"
   ]
  },
  {
   "cell_type": "code",
   "execution_count": 28,
   "metadata": {},
   "outputs": [],
   "source": [
    "lst.reverse()"
   ]
  },
  {
   "cell_type": "code",
   "execution_count": 29,
   "metadata": {},
   "outputs": [
    {
     "data": {
      "text/plain": [
       "['Paine', 'Smith', 'Virat']"
      ]
     },
     "execution_count": 29,
     "metadata": {},
     "output_type": "execute_result"
    }
   ],
   "source": [
    "lst"
   ]
  },
  {
   "cell_type": "code",
   "execution_count": null,
   "metadata": {},
   "outputs": [],
   "source": []
  },
  {
   "cell_type": "code",
   "execution_count": 157,
   "metadata": {},
   "outputs": [
    {
     "name": "stdout",
     "output_type": "stream",
     "text": [
      "['s', 'w', 'a', 'r', 'o', 'o', 'p', '1', '3', '7', '7', '9', '9']\n",
      "swaroop\n",
      "137799"
     ]
    }
   ],
   "source": [
    "x = \"swaroop137799\"\n",
    "y = list(x)\n",
    "print(y)\n",
    "\n",
    "m = []\n",
    "n = []\n",
    "str = ''\n",
    "num = 0\n",
    "for i in y:\n",
    "    if i.isalpha() == True:\n",
    "        m.append(i)\n",
    "    if i.isnumeric() == True:\n",
    "        n.append(i)\n",
    "for i in m:\n",
    "    str = str + i\n",
    "print(str)\n",
    "for i in n:\n",
    "    i = int(i)\n",
    "    print(i,end='')\n",
    "    #sum = sum + i\n",
    "#print(sum)"
   ]
  },
  {
   "cell_type": "code",
   "execution_count": 154,
   "metadata": {},
   "outputs": [
    {
     "data": {
      "text/plain": [
       "['1', '3', '7', '7', '9', '9']"
      ]
     },
     "execution_count": 154,
     "metadata": {},
     "output_type": "execute_result"
    }
   ],
   "source": [
    "n"
   ]
  },
  {
   "cell_type": "code",
   "execution_count": null,
   "metadata": {},
   "outputs": [],
   "source": []
  },
  {
   "cell_type": "code",
   "execution_count": null,
   "metadata": {},
   "outputs": [],
   "source": []
  },
  {
   "cell_type": "code",
   "execution_count": null,
   "metadata": {},
   "outputs": [],
   "source": []
  }
 ],
 "metadata": {
  "kernelspec": {
   "display_name": "Python 3",
   "language": "python",
   "name": "python3"
  },
  "language_info": {
   "codemirror_mode": {
    "name": "ipython",
    "version": 3
   },
   "file_extension": ".py",
   "mimetype": "text/x-python",
   "name": "python",
   "nbconvert_exporter": "python",
   "pygments_lexer": "ipython3",
   "version": "3.7.4"
  }
 },
 "nbformat": 4,
 "nbformat_minor": 2
}
