{
 "cells": [
  {
   "cell_type": "code",
   "execution_count": null,
   "metadata": {},
   "outputs": [],
   "source": []
  },
  {
   "cell_type": "markdown",
   "metadata": {},
   "source": [
    "### Modules and packages"
   ]
  },
  {
   "cell_type": "code",
   "execution_count": 1,
   "metadata": {},
   "outputs": [],
   "source": [
    "# Importing the library\n",
    "\n",
    "import math"
   ]
  },
  {
   "cell_type": "code",
   "execution_count": 7,
   "metadata": {},
   "outputs": [
    {
     "name": "stdout",
     "output_type": "stream",
     "text": [
      "['__doc__', '__loader__', '__name__', '__package__', '__spec__', 'acos', 'acosh', 'asin', 'asinh', 'atan', 'atan2', 'atanh', 'ceil', 'copysign', 'cos', 'cosh', 'degrees', 'e', 'erf', 'erfc', 'exp', 'expm1', 'fabs', 'factorial', 'floor', 'fmod', 'frexp', 'fsum', 'gamma', 'gcd', 'hypot', 'inf', 'isclose', 'isfinite', 'isinf', 'isnan', 'ldexp', 'lgamma', 'log', 'log10', 'log1p', 'log2', 'modf', 'nan', 'pi', 'pow', 'radians', 'remainder', 'sin', 'sinh', 'sqrt', 'tan', 'tanh', 'tau', 'trunc']\n"
     ]
    },
    {
     "data": {
      "text/plain": [
       "3"
      ]
     },
     "execution_count": 7,
     "metadata": {},
     "output_type": "execute_result"
    }
   ],
   "source": [
    "# exploring the modules\n",
    "# help and dir command is useful\n",
    "\n",
    "print(dir(math))\n",
    "math.ceil(2.3)"
   ]
  },
  {
   "cell_type": "code",
   "execution_count": 8,
   "metadata": {},
   "outputs": [
    {
     "name": "stdout",
     "output_type": "stream",
     "text": [
      "Help on built-in function ceil in module math:\n",
      "\n",
      "ceil(x, /)\n",
      "    Return the ceiling of x as an Integral.\n",
      "    \n",
      "    This is the smallest integer >= x.\n",
      "\n"
     ]
    }
   ],
   "source": [
    "help(math.ceil)"
   ]
  },
  {
   "cell_type": "code",
   "execution_count": null,
   "metadata": {},
   "outputs": [],
   "source": []
  },
  {
   "cell_type": "markdown",
   "metadata": {},
   "source": [
    "## Error and Exception Handling\n",
    "\n",
    "Types:  \n",
    "1> syntax / compile time error  \n",
    "2> Run time error  \n",
    "\n",
    "Exception handling is designed to handle runtime error.  \n",
    "\n",
    "#### Why to handle runtime error?  \n",
    "Upon running the code if there are any runtime error occured. The non technical end used cant understand. So we have to handle such errors and give a description of error understandable by the user. \n",
    "\n",
    "    Try:  \n",
    "        Your logical codes.....  \n",
    "        .........  \n",
    "    Except:  \n",
    "        any exception.  \n",
    "    Else:  \n",
    "        If there is no exception execute this block.\n",
    "\n",
    "#### combinations possible\n",
    "try, except  \n",
    "try, except1, except2, .......  \n",
    "try, except, else  \n",
    "try, except1, except2, ...., else  \n",
    "try, finally  \n",
    "try, except1, except2, ...., finally  \n",
    "\n",
    "We can have try and finally alone.  \n",
    "we can not have try and else alone without except.  "
   ]
  },
  {
   "cell_type": "code",
   "execution_count": 17,
   "metadata": {},
   "outputs": [
    {
     "ename": "SyntaxError",
     "evalue": "EOL while scanning string literal (<ipython-input-17-80d1bb95affc>, line 1)",
     "output_type": "error",
     "traceback": [
      "\u001b[1;36m  File \u001b[1;32m\"<ipython-input-17-80d1bb95affc>\"\u001b[1;36m, line \u001b[1;32m1\u001b[0m\n\u001b[1;33m    print(\"hello)    # syntax error handled by developer\u001b[0m\n\u001b[1;37m                                                        ^\u001b[0m\n\u001b[1;31mSyntaxError\u001b[0m\u001b[1;31m:\u001b[0m EOL while scanning string literal\n"
     ]
    }
   ],
   "source": [
    "print(\"hello)    # syntax error handled by developer"
   ]
  },
  {
   "cell_type": "code",
   "execution_count": 18,
   "metadata": {},
   "outputs": [
    {
     "ename": "ZeroDivisionError",
     "evalue": "division by zero",
     "output_type": "error",
     "traceback": [
      "\u001b[1;31m---------------------------------------------------------------------------\u001b[0m",
      "\u001b[1;31mZeroDivisionError\u001b[0m                         Traceback (most recent call last)",
      "\u001b[1;32m<ipython-input-18-971f5775ab48>\u001b[0m in \u001b[0;36m<module>\u001b[1;34m\u001b[0m\n\u001b[0;32m      1\u001b[0m \u001b[0ma\u001b[0m \u001b[1;33m=\u001b[0m \u001b[1;36m1\u001b[0m\u001b[1;33m\u001b[0m\u001b[1;33m\u001b[0m\u001b[0m\n\u001b[0;32m      2\u001b[0m \u001b[0mb\u001b[0m \u001b[1;33m=\u001b[0m \u001b[1;36m0\u001b[0m\u001b[1;33m\u001b[0m\u001b[1;33m\u001b[0m\u001b[0m\n\u001b[1;32m----> 3\u001b[1;33m \u001b[0ma\u001b[0m\u001b[1;33m/\u001b[0m\u001b[0mb\u001b[0m    \u001b[1;31m# sysntax is correct. its a runtime error because of value\u001b[0m\u001b[1;33m\u001b[0m\u001b[1;33m\u001b[0m\u001b[0m\n\u001b[0m",
      "\u001b[1;31mZeroDivisionError\u001b[0m: division by zero"
     ]
    }
   ],
   "source": [
    "a = 1\n",
    "b = 0\n",
    "a/b    # sysntax is correct. its a runtime error because of value"
   ]
  },
  {
   "cell_type": "code",
   "execution_count": 19,
   "metadata": {},
   "outputs": [
    {
     "data": {
      "text/plain": [
       "'an applean apple'"
      ]
     },
     "execution_count": 19,
     "metadata": {},
     "output_type": "execute_result"
    }
   ],
   "source": [
    "f = open(\"testtest\", \"r\")\n",
    "f.read()"
   ]
  },
  {
   "cell_type": "code",
   "execution_count": 20,
   "metadata": {},
   "outputs": [
    {
     "name": "stdout",
     "output_type": "stream",
     "text": [
      "please check your file path\n",
      "[Errno 2] No such file or directory: 'testtest123'\n"
     ]
    }
   ],
   "source": [
    "try:\n",
    "    f = open(\"testtest123\", \"r\")\n",
    "    f.read()\n",
    "except FileNotFoundError as fe:\n",
    "    print(\"please check your file path\")  # user defined warning\n",
    "    print(fe)                             # python defined warning"
   ]
  },
  {
   "cell_type": "code",
   "execution_count": 21,
   "metadata": {},
   "outputs": [
    {
     "name": "stdout",
     "output_type": "stream",
     "text": [
      "input output error\n",
      "not writable\n"
     ]
    }
   ],
   "source": [
    "try:\n",
    "    #f = open(\"testtest\", \"w\")    #file created\n",
    "    #f.write(\"an apple\")\n",
    "    d = open(\"testtest\", \"r\")   # file in read mode\n",
    "    d.write(\"an apple\")         # write code for file (not possible)\n",
    "    \n",
    "except FileNotFoundError as fe:\n",
    "    print(\"please check your file path\")  # user defined warning\n",
    "    print(fe)                             # python defined warning\n",
    "except IOError as io:\n",
    "    print(\"input output error\")\n",
    "    print(io)"
   ]
  },
  {
   "cell_type": "code",
   "execution_count": null,
   "metadata": {},
   "outputs": [],
   "source": []
  },
  {
   "cell_type": "markdown",
   "metadata": {},
   "source": [
    "In above cases we have declared the type of error with exception block.  \n",
    "But if we dont declare anything with exception block any type of error will go to the except block. see below example."
   ]
  },
  {
   "cell_type": "code",
   "execution_count": 22,
   "metadata": {},
   "outputs": [
    {
     "name": "stdout",
     "output_type": "stream",
     "text": [
      "Error : cant find file or write data\n",
      "<_io.TextIOWrapper name='testfile' mode='r' encoding='cp1252'>\n"
     ]
    }
   ],
   "source": [
    "# if try block is executed then else will also execute, except will not execute\n",
    "# if try doesnot execute then except will execute and else will not.\n",
    "\n",
    "try:\n",
    "    f = open('testfile','r')\n",
    "    f.write('test writing this file')\n",
    "except IOError:                                      # can handle any error \n",
    "    print(\"Error : cant find file or write data\")\n",
    "    print(f)\n",
    "else:\n",
    "    print('content written successfully')\n",
    "    f.close"
   ]
  },
  {
   "cell_type": "code",
   "execution_count": 23,
   "metadata": {},
   "outputs": [
    {
     "name": "stdout",
     "output_type": "stream",
     "text": [
      "content written successfully\n"
     ]
    }
   ],
   "source": [
    "try:\n",
    "    f = open('testfile','w')\n",
    "    f.write('test writing this file')\n",
    "except:\n",
    "    print(\"Error : cant find file or read data\")\n",
    "    print(\"my name\")\n",
    "else:\n",
    "    print('content written successfully')\n",
    "    f.close"
   ]
  },
  {
   "cell_type": "code",
   "execution_count": null,
   "metadata": {},
   "outputs": [],
   "source": []
  },
  {
   "cell_type": "code",
   "execution_count": 24,
   "metadata": {},
   "outputs": [
    {
     "name": "stdout",
     "output_type": "stream",
     "text": [
      "this is finally statement\n"
     ]
    }
   ],
   "source": [
    "# if try block is executed then finally will also execute, except will not execute\n",
    "# if try doesnot execute then except will execute and finally will execute.\n",
    "# Finally should always be at the last.\n",
    "# try > except > else > finally \n",
    "\n",
    "try:    \n",
    "    f = open(\"testfile\",\"w\")\n",
    "    f.write(\"Test Write Statement\")\n",
    "finally:\n",
    "    print(\"this is finally statement\")"
   ]
  },
  {
   "cell_type": "code",
   "execution_count": 25,
   "metadata": {},
   "outputs": [],
   "source": [
    "def askint():\n",
    "    try:\n",
    "        val = int(input(\" please enter an integer\"))\n",
    "        print(\"swaroop\")\n",
    "    except:\n",
    "        print(\"looks like you did not enter an integer\")\n",
    "    finally:\n",
    "        print(\"finally, I executed\")\n",
    "        print(val)"
   ]
  },
  {
   "cell_type": "code",
   "execution_count": 26,
   "metadata": {},
   "outputs": [
    {
     "name": "stdout",
     "output_type": "stream",
     "text": [
      " please enter an integer5\n",
      "swaroop\n",
      "finally, I executed\n",
      "5\n"
     ]
    }
   ],
   "source": [
    "askint()"
   ]
  },
  {
   "cell_type": "code",
   "execution_count": 28,
   "metadata": {},
   "outputs": [
    {
     "name": "stdout",
     "output_type": "stream",
     "text": [
      " please enter an integer55l\n",
      "looks like you did not enter an integer\n",
      "finally, I executed\n"
     ]
    },
    {
     "ename": "UnboundLocalError",
     "evalue": "local variable 'val' referenced before assignment",
     "output_type": "error",
     "traceback": [
      "\u001b[1;31m---------------------------------------------------------------------------\u001b[0m",
      "\u001b[1;31mUnboundLocalError\u001b[0m                         Traceback (most recent call last)",
      "\u001b[1;32m<ipython-input-28-ae5cc801a162>\u001b[0m in \u001b[0;36m<module>\u001b[1;34m\u001b[0m\n\u001b[1;32m----> 1\u001b[1;33m \u001b[0maskint\u001b[0m\u001b[1;33m(\u001b[0m\u001b[1;33m)\u001b[0m\u001b[1;33m\u001b[0m\u001b[1;33m\u001b[0m\u001b[0m\n\u001b[0m\u001b[0;32m      2\u001b[0m \u001b[1;33m\u001b[0m\u001b[0m\n\u001b[0;32m      3\u001b[0m \u001b[1;31m# print(val) has the error. Note print val is not in the try block. so we are getting the error.\u001b[0m\u001b[1;33m\u001b[0m\u001b[1;33m\u001b[0m\u001b[1;33m\u001b[0m\u001b[0m\n",
      "\u001b[1;32m<ipython-input-25-c75d34f304e7>\u001b[0m in \u001b[0;36maskint\u001b[1;34m()\u001b[0m\n\u001b[0;32m      7\u001b[0m     \u001b[1;32mfinally\u001b[0m\u001b[1;33m:\u001b[0m\u001b[1;33m\u001b[0m\u001b[1;33m\u001b[0m\u001b[0m\n\u001b[0;32m      8\u001b[0m         \u001b[0mprint\u001b[0m\u001b[1;33m(\u001b[0m\u001b[1;34m\"finally, I executed\"\u001b[0m\u001b[1;33m)\u001b[0m\u001b[1;33m\u001b[0m\u001b[1;33m\u001b[0m\u001b[0m\n\u001b[1;32m----> 9\u001b[1;33m         \u001b[0mprint\u001b[0m\u001b[1;33m(\u001b[0m\u001b[0mval\u001b[0m\u001b[1;33m)\u001b[0m\u001b[1;33m\u001b[0m\u001b[1;33m\u001b[0m\u001b[0m\n\u001b[0m",
      "\u001b[1;31mUnboundLocalError\u001b[0m: local variable 'val' referenced before assignment"
     ]
    }
   ],
   "source": [
    "askint()\n",
    "\n",
    "# print(val) has the error. Note print val is not in the try block. so we are getting the error."
   ]
  },
  {
   "cell_type": "code",
   "execution_count": 30,
   "metadata": {},
   "outputs": [
    {
     "name": "stdout",
     "output_type": "stream",
     "text": [
      "file not found\n",
      "always executes\n"
     ]
    }
   ],
   "source": [
    "# use case of try, except, finally\n",
    "\n",
    "try:\n",
    "    f = open(\"test012345\")\n",
    "    f.write(\"a wise man once said\")\n",
    "except FileNotFoundError as fe:\n",
    "    print(\"file not found\")\n",
    "finally:\n",
    "    print(\"always executes\")\n",
    "    f.close\n",
    "    \n",
    "# in the above use case opening of the file is executed.\n",
    "# BUt since the file is in read mode we cant write.\n",
    "# so it will go to the except block. File is still open.\n",
    "# So to close the file, finally block will be useful."
   ]
  },
  {
   "cell_type": "code",
   "execution_count": null,
   "metadata": {},
   "outputs": [],
   "source": []
  },
  {
   "cell_type": "code",
   "execution_count": 31,
   "metadata": {},
   "outputs": [],
   "source": [
    "def askint():\n",
    "    try:\n",
    "        val = int(input(\" please enter an integer\"))\n",
    "        print(\"swaroop\")\n",
    "    except:\n",
    "        print(\"looks like you did not enter an integer\")\n",
    "    else:\n",
    "        print(val)\n",
    "    finally:\n",
    "        print(\"finally, I executed\")"
   ]
  },
  {
   "cell_type": "code",
   "execution_count": 33,
   "metadata": {},
   "outputs": [
    {
     "name": "stdout",
     "output_type": "stream",
     "text": [
      " please enter an integer55l\n",
      "looks like you did not enter an integer\n",
      "finally, I executed\n"
     ]
    }
   ],
   "source": [
    "askint()"
   ]
  },
  {
   "cell_type": "code",
   "execution_count": null,
   "metadata": {},
   "outputs": [],
   "source": []
  },
  {
   "cell_type": "code",
   "execution_count": 34,
   "metadata": {},
   "outputs": [],
   "source": [
    "def askint():\n",
    "    try:\n",
    "        val = int(input(\" please enter an integer\"))\n",
    "    except:\n",
    "        print(\"looks like you did not enter an integer\")\n",
    "        try:\n",
    "            val = int(input(\"try again entering an integer\"))\n",
    "        except:\n",
    "            print(\"handle it\")\n",
    "    finally:\n",
    "        print(\"finally, I executed\")"
   ]
  },
  {
   "cell_type": "code",
   "execution_count": 37,
   "metadata": {},
   "outputs": [
    {
     "name": "stdout",
     "output_type": "stream",
     "text": [
      " please enter an integer55l\n",
      "looks like you did not enter an integer\n",
      "try again entering an integer55l\n",
      "handle it\n",
      "finally, I executed\n"
     ]
    }
   ],
   "source": [
    "askint()"
   ]
  },
  {
   "cell_type": "code",
   "execution_count": null,
   "metadata": {},
   "outputs": [],
   "source": []
  },
  {
   "cell_type": "code",
   "execution_count": null,
   "metadata": {},
   "outputs": [],
   "source": [
    "def askint():\n",
    "    while True:\n",
    "        try:\n",
    "            val = int(input(\" please enter an integer  \"))\n",
    "            print(\"swaroop\")\n",
    "        except:\n",
    "            print(\"looks like you did not enter an integer\") \n",
    "            elif type(val) != str:\n",
    "                break\n",
    "        else:\n",
    "            print(\" thats an integer\", val)\n",
    "            if type(val) != int:\n",
    "                break\n",
    "        finally:\n",
    "            print(\"finally, I executed\")\n",
    "            val = \"\""
   ]
  },
  {
   "cell_type": "code",
   "execution_count": null,
   "metadata": {},
   "outputs": [],
   "source": [
    "askint()"
   ]
  },
  {
   "cell_type": "code",
   "execution_count": null,
   "metadata": {},
   "outputs": [],
   "source": []
  }
 ],
 "metadata": {
  "kernelspec": {
   "display_name": "Python 3",
   "language": "python",
   "name": "python3"
  },
  "language_info": {
   "codemirror_mode": {
    "name": "ipython",
    "version": 3
   },
   "file_extension": ".py",
   "mimetype": "text/x-python",
   "name": "python",
   "nbconvert_exporter": "python",
   "pygments_lexer": "ipython3",
   "version": "3.7.4"
  }
 },
 "nbformat": 4,
 "nbformat_minor": 2
}
