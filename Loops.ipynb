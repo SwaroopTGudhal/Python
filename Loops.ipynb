{
 "cells": [
  {
   "cell_type": "markdown",
   "metadata": {},
   "source": [
    "# LOOPS\n",
    "\n",
    "for iteration of a single line of code\n",
    "\n",
    "### FOR loop"
   ]
  },
  {
   "cell_type": "code",
   "execution_count": 2,
   "metadata": {},
   "outputs": [
    {
     "name": "stdout",
     "output_type": "stream",
     "text": [
      "Hi joe, Please come to my party\n",
      "Hi zoe, Please come to my party\n",
      "Hi brad, Please come to my party\n",
      "Hi zuki, Please come to my party\n",
      "Hi paris, Please come to my party\n"
     ]
    }
   ],
   "source": [
    "for name in [\"joe\", \"zoe\", \"brad\",\"zuki\", \"paris\"]:\n",
    "    invite = \"Hi \" + name +\", Please come to my party\"\n",
    "    print(invite)"
   ]
  },
  {
   "cell_type": "code",
   "execution_count": 3,
   "metadata": {},
   "outputs": [
    {
     "name": "stdout",
     "output_type": "stream",
     "text": [
      "10\n",
      "20\n",
      "30\n",
      "40\n",
      "50\n"
     ]
    }
   ],
   "source": [
    "l1 = [1,2,3,4,5]\n",
    "for i in l1:\n",
    "    print(i * 10)"
   ]
  },
  {
   "cell_type": "code",
   "execution_count": 10,
   "metadata": {},
   "outputs": [
    {
     "name": "stdout",
     "output_type": "stream",
     "text": [
      "34\n",
      "6\n",
      "7\n",
      "9\n",
      "[34, 6, 7, 9]\n"
     ]
    }
   ],
   "source": [
    "# for loop to get the list in list.\n",
    "\n",
    "y = [1,2,3,4,[34,6,7,9]]\n",
    "\n",
    "for i in y:\n",
    "    if type(i) == list:\n",
    "        for j in i:\n",
    "            print(j)\n",
    "else:\n",
    "    print(i)"
   ]
  },
  {
   "cell_type": "code",
   "execution_count": 7,
   "metadata": {},
   "outputs": [
    {
     "name": "stdout",
     "output_type": "stream",
     "text": [
      "46\n"
     ]
    }
   ],
   "source": [
    "# for loop to find the sum of the numbers in list.\n",
    "\n",
    "#list of numbers\n",
    "num = [6,5,3,8,4,2,5,4,9]\n",
    "\n",
    "# variable to store sum\n",
    "sum = 0\n",
    "\n",
    "# iterate in the list\n",
    "for val in num:\n",
    "    sum = sum + val\n",
    "print(sum)           #to print the sum after iteration."
   ]
  },
  {
   "cell_type": "code",
   "execution_count": 8,
   "metadata": {},
   "outputs": [
    {
     "name": "stdout",
     "output_type": "stream",
     "text": [
      "0\n",
      "1\n",
      "5\n",
      "no data left\n"
     ]
    }
   ],
   "source": [
    "# strange for else program in python.\n",
    "# no other major program gives else in the for loop.\n",
    "# the code will run the complete for loop and then once the loop is exhausted the else is executed.\n",
    "\n",
    "num = [0,1,5]\n",
    "\n",
    "for i in num:\n",
    "    print(i)\n",
    "else:\n",
    "    print(\"no data left\")"
   ]
  },
  {
   "cell_type": "code",
   "execution_count": null,
   "metadata": {},
   "outputs": [],
   "source": []
  },
  {
   "cell_type": "code",
   "execution_count": 1,
   "metadata": {},
   "outputs": [
    {
     "data": {
      "text/plain": [
       "['cba', 'zyx', 'gfd']"
      ]
     },
     "execution_count": 1,
     "metadata": {},
     "output_type": "execute_result"
    }
   ],
   "source": [
    "l = []\n",
    "\n",
    "for i in [1,2,3,\"swaroop\",[\"dfg\",'xyz','abc']]:\n",
    "    if type(i) == list:\n",
    "        for j in i[::-1]:\n",
    "            l.append(j[::-1])\n",
    "l"
   ]
  },
  {
   "cell_type": "markdown",
   "metadata": {},
   "source": [
    "### WHILE loop"
   ]
  },
  {
   "cell_type": "code",
   "execution_count": 4,
   "metadata": {},
   "outputs": [
    {
     "name": "stdout",
     "output_type": "stream",
     "text": [
      "hello World\n",
      "hello World\n",
      "hello World\n",
      "hello World\n",
      "hello World\n",
      "hello World\n",
      "hello World\n",
      "hello World\n",
      "hello World\n",
      "hello World\n"
     ]
    }
   ],
   "source": [
    "count = 1\n",
    "while (count <= 10):\n",
    "    print(\"hello World\")\n",
    "    count = count + 1"
   ]
  },
  {
   "cell_type": "code",
   "execution_count": 10,
   "metadata": {},
   "outputs": [
    {
     "name": "stdout",
     "output_type": "stream",
     "text": [
      "55\n"
     ]
    }
   ],
   "source": [
    "# simple while loop\n",
    "\n",
    "n = 10\n",
    "\n",
    "# initialize sum and counter value\n",
    "sum = 0\n",
    "i = 1\n",
    "\n",
    "while i <= n:\n",
    "    sum = sum + i\n",
    "    i = i + 1\n",
    "print(sum)"
   ]
  },
  {
   "cell_type": "code",
   "execution_count": null,
   "metadata": {},
   "outputs": [],
   "source": []
  },
  {
   "cell_type": "markdown",
   "metadata": {},
   "source": [
    "### NESTED loop"
   ]
  },
  {
   "cell_type": "code",
   "execution_count": 5,
   "metadata": {},
   "outputs": [
    {
     "name": "stdout",
     "output_type": "stream",
     "text": [
      "[560, 567, 574, 581, 588, 595, 602, 609, 616, 623, 630, 637, 644, 651, 658, 665, 672, 679, 686, 693, 700, 707, 714, 721, 728, 735, 742, 749, 756, 763, 770, 777, 784, 791, 798, 805, 812, 819, 826, 833, 840, 847, 854, 861, 868, 875, 882, 889, 896, 903, 910, 917, 924, 931, 938, 945, 952, 959, 966, 973, 980, 987, 994, 1001, 1008, 1015, 1022, 1029, 1036, 1043, 1050, 1057, 1064, 1071, 1078, 1085, 1092, 1099, 1106]\n"
     ]
    },
    {
     "data": {
      "text/plain": [
       "79"
      ]
     },
     "execution_count": 5,
     "metadata": {},
     "output_type": "execute_result"
    }
   ],
   "source": [
    "# find the numbers between 555 and 1111 divisible by 7\n",
    "\n",
    "list01 = []\n",
    "for x in range(555,1111):\n",
    "    if (x % 7 == 0):\n",
    "        list01.append(x)\n",
    "print(list01)\n",
    "len(list01)"
   ]
  },
  {
   "cell_type": "code",
   "execution_count": null,
   "metadata": {},
   "outputs": [],
   "source": []
  },
  {
   "cell_type": "markdown",
   "metadata": {},
   "source": [
    "## Range Function( )\n",
    "\n",
    "we can generate the sequence of numbers using range function.  \n",
    "Range(10) will give the numbers from 0 to 9 (ie. 10 numbers)  \n",
    "we can also define the start, stop, step size in range. Default step size is 1.  \n",
    "It stores only start and stop value and does not give the values.  \n",
    "By LIST function we can store and get all the values in the list format.\n",
    "\n",
    "Range will generate only int and dont generate float.  \n",
    "In numpy arange we can generate int as well as float."
   ]
  },
  {
   "cell_type": "code",
   "execution_count": 11,
   "metadata": {},
   "outputs": [
    {
     "data": {
      "text/plain": [
       "range(0, 10)"
      ]
     },
     "execution_count": 11,
     "metadata": {},
     "output_type": "execute_result"
    }
   ],
   "source": [
    "range(10)"
   ]
  },
  {
   "cell_type": "code",
   "execution_count": 12,
   "metadata": {},
   "outputs": [
    {
     "name": "stdout",
     "output_type": "stream",
     "text": [
      "range(0, 10)\n"
     ]
    }
   ],
   "source": [
    "print(range(10))"
   ]
  },
  {
   "cell_type": "code",
   "execution_count": 13,
   "metadata": {},
   "outputs": [
    {
     "data": {
      "text/plain": [
       "[0, 1, 2, 3, 4, 5, 6, 7, 8, 9]"
      ]
     },
     "execution_count": 13,
     "metadata": {},
     "output_type": "execute_result"
    }
   ],
   "source": [
    "list(range(10))   # upon passing the range in list function we can get all the values in range."
   ]
  },
  {
   "cell_type": "code",
   "execution_count": 14,
   "metadata": {},
   "outputs": [
    {
     "data": {
      "text/plain": [
       "[10, 9, 8, 7, 6, 5, 4, 3, 2, 1]"
      ]
     },
     "execution_count": 14,
     "metadata": {},
     "output_type": "execute_result"
    }
   ],
   "source": [
    "list(range(10,0,-1))"
   ]
  },
  {
   "cell_type": "code",
   "execution_count": 15,
   "metadata": {},
   "outputs": [
    {
     "data": {
      "text/plain": [
       "[0, 2, 4, 6, 8]"
      ]
     },
     "execution_count": 15,
     "metadata": {},
     "output_type": "execute_result"
    }
   ],
   "source": [
    "list(range(0,10,2))"
   ]
  },
  {
   "cell_type": "code",
   "execution_count": 16,
   "metadata": {},
   "outputs": [
    {
     "data": {
      "text/plain": [
       "[0, 1, 2, 3, 4, 5]"
      ]
     },
     "execution_count": 16,
     "metadata": {},
     "output_type": "execute_result"
    }
   ],
   "source": [
    "list01 = [1,2,3,5,6,7]\n",
    "\n",
    "list(range(len(list01)))"
   ]
  },
  {
   "cell_type": "code",
   "execution_count": 5,
   "metadata": {},
   "outputs": [
    {
     "data": {
      "text/plain": [
       "['26', '25', '23', 'washington', 'california', 'sydney', 'gudhal', 'swaroop']"
      ]
     },
     "execution_count": 5,
     "metadata": {},
     "output_type": "execute_result"
    }
   ],
   "source": [
    "l = [\"swaroop\", \"gudhal\", \"sydney\", \"california\", \"washington\", '23', '25', '26']\n",
    "m = []\n",
    "for i in range(len(l)-1,-1,-1) :\n",
    "    m.append(l[i])\n",
    "m"
   ]
  },
  {
   "cell_type": "code",
   "execution_count": 31,
   "metadata": {},
   "outputs": [
    {
     "name": "stdout",
     "output_type": "stream",
     "text": [
      "I like  pop\n",
      "I like  jazz\n"
     ]
    }
   ],
   "source": [
    "genre = ['pop', 'rock', 'jazz', 'sapna']\n",
    "\n",
    "for i in range(0,len(genre)-1,2):\n",
    "    print(\"I like \", genre[i])"
   ]
  },
  {
   "cell_type": "markdown",
   "metadata": {},
   "source": [
    "## Break and Continue statement"
   ]
  },
  {
   "cell_type": "code",
   "execution_count": 33,
   "metadata": {},
   "outputs": [
    {
     "name": "stdout",
     "output_type": "stream",
     "text": [
      "s\n",
      "w\n",
      "a\n",
      "r\n",
      "o\n",
      "o\n",
      "p\n"
     ]
    }
   ],
   "source": [
    "for i in \"swaroop\":\n",
    "    print(i)"
   ]
  },
  {
   "cell_type": "code",
   "execution_count": null,
   "metadata": {},
   "outputs": [],
   "source": []
  },
  {
   "cell_type": "code",
   "execution_count": 58,
   "metadata": {},
   "outputs": [],
   "source": [
    "def prime_cat(num):\n",
    "    for i in range(2,num):\n",
    "        if num%i==0:\n",
    "            print(\"not prime\")\n",
    "            break\n",
    "    else:\n",
    "        print(\"prime\")"
   ]
  },
  {
   "cell_type": "code",
   "execution_count": 60,
   "metadata": {},
   "outputs": [
    {
     "name": "stdout",
     "output_type": "stream",
     "text": [
      "not prime\n"
     ]
    }
   ],
   "source": [
    "prime_cat(27)"
   ]
  },
  {
   "cell_type": "code",
   "execution_count": null,
   "metadata": {},
   "outputs": [],
   "source": []
  },
  {
   "cell_type": "code",
   "execution_count": 93,
   "metadata": {},
   "outputs": [],
   "source": [
    "def fib_sum(num):\n",
    "    l = [0,1]\n",
    "    for i in range(2,num):\n",
    "        l.append(0)\n",
    "        l[i] = l[-2]+l[-3]\n",
    "    print(l)"
   ]
  },
  {
   "cell_type": "code",
   "execution_count": 98,
   "metadata": {},
   "outputs": [
    {
     "name": "stdout",
     "output_type": "stream",
     "text": [
      "[0, 1, 1, 2, 3]\n"
     ]
    }
   ],
   "source": [
    "fib_sum(5)"
   ]
  },
  {
   "cell_type": "code",
   "execution_count": null,
   "metadata": {},
   "outputs": [],
   "source": []
  },
  {
   "cell_type": "code",
   "execution_count": 137,
   "metadata": {},
   "outputs": [],
   "source": [
    "list01 = [51,46,81,23,55,35,78,53,40,57,95,66,59,26,24,90,64,65,67,50]\n",
    "\n",
    "def list_evod_sum(lst):\n",
    "    e = []\n",
    "    o = []\n",
    "    for i in lst:\n",
    "        if i % 2 == 0:\n",
    "            e.append(i)\n",
    "        else:\n",
    "            o.append(i)\n",
    "    print(e)\n",
    "    print(o)\n",
    "    sume = 0\n",
    "    sumo = 0\n",
    "    for i in e:\n",
    "        sume = sume + i\n",
    "    print(sume)\n",
    "    for i in o:\n",
    "        sumo = sumo + i\n",
    "    print(sumo)\n",
    "    print(\"The sum of even numbers is\", sume)\n",
    "    print(\"the sum of odd numbers is\", sumo)"
   ]
  },
  {
   "cell_type": "code",
   "execution_count": 138,
   "metadata": {},
   "outputs": [
    {
     "name": "stdout",
     "output_type": "stream",
     "text": [
      "[46, 78, 40, 66, 26, 24, 90, 64, 50]\n",
      "[51, 81, 23, 55, 35, 53, 57, 95, 59, 65, 67]\n",
      "484\n",
      "641\n",
      "The sum of even numbers is 484\n",
      "the sum of odd numbers is 641\n"
     ]
    }
   ],
   "source": [
    "list_evod_sum(list01)"
   ]
  },
  {
   "cell_type": "code",
   "execution_count": null,
   "metadata": {},
   "outputs": [],
   "source": []
  },
  {
   "cell_type": "code",
   "execution_count": null,
   "metadata": {},
   "outputs": [],
   "source": []
  },
  {
   "cell_type": "code",
   "execution_count": 7,
   "metadata": {},
   "outputs": [
    {
     "name": "stdout",
     "output_type": "stream",
     "text": [
      "s\n",
      "w\n",
      "a\n",
      "the end\n"
     ]
    }
   ],
   "source": [
    "for i in \"swaroop\":\n",
    "    if i == \"r\":\n",
    "        break\n",
    "    print(i)\n",
    "else :\n",
    "    print(\"print after this loop\")\n",
    "print(\"the end\")\n",
    "\n",
    "# break is used to stop the iteration.\n",
    "# in for loop first the value is checked for equal to, if matching then the loop breaks.\n",
    "# if no matching then the entire loop is done. Else is printed upon complete execution of for loop.\n",
    "# after that \"the end \" is printed.\n",
    "# if we have two matching letter, then the break will happen at the first encounter only."
   ]
  },
  {
   "cell_type": "code",
   "execution_count": null,
   "metadata": {},
   "outputs": [],
   "source": []
  },
  {
   "cell_type": "code",
   "execution_count": 47,
   "metadata": {},
   "outputs": [
    {
     "name": "stdout",
     "output_type": "stream",
     "text": [
      "t\n",
      "r\n",
      "i\n",
      "n\n",
      "g\n",
      "else print\n",
      " the end\n"
     ]
    }
   ],
   "source": [
    "for i in \"strings\":\n",
    "    if i == \"s\":\n",
    "        continue\n",
    "    print(i)\n",
    "else:\n",
    "    print(\"else print\")\n",
    "\n",
    "print(\" the end\")\n",
    "\n",
    "# continue does not stop the iteration.\n",
    "# In for loop, first the value is checked for equal to, if matching then the loop stops for that iteration.\n",
    "# If no matching then the entire loop is done. Else is printed even if continue executes in loop.\n",
    "# After that \"the end \" is printed.\n",
    "# If we have two matching letter, then the continue will skip at the each continue statement."
   ]
  },
  {
   "cell_type": "code",
   "execution_count": 6,
   "metadata": {},
   "outputs": [
    {
     "name": "stdout",
     "output_type": "stream",
     "text": [
      "24\n",
      "28\n",
      "Wall time: 0 ns\n"
     ]
    }
   ],
   "source": [
    "%%time\n",
    "lst = [1,3,4,6,7,8,9,2,3,4,5]\n",
    "sumeven = 0\n",
    "sumodd = 0\n",
    "for i in lst:\n",
    "    if i%2==0:\n",
    "        sumeven= sumeven + i\n",
    "    else:\n",
    "        sumodd = sumodd + i\n",
    "print(sumeven)\n",
    "print(sumodd)"
   ]
  },
  {
   "cell_type": "code",
   "execution_count": 8,
   "metadata": {},
   "outputs": [
    {
     "name": "stdout",
     "output_type": "stream",
     "text": [
      "I am a student \n",
      "Wall time: 0 ns\n"
     ]
    }
   ],
   "source": [
    "%%time\n",
    "lst = ['I', 'am', 'a', 'student']\n",
    "sum01 = \"\"\n",
    "for i in lst:\n",
    "        sum01 = sum01 + i + \" \"\n",
    "print(sum01)"
   ]
  },
  {
   "cell_type": "code",
   "execution_count": 24,
   "metadata": {},
   "outputs": [
    {
     "name": "stdout",
     "output_type": "stream",
     "text": [
      "evensum more than 20\n",
      "22\n",
      "16\n"
     ]
    }
   ],
   "source": [
    "lst = [1,2,3,4,5,6,7,10,1]\n",
    "sumeven = 0\n",
    "sumodd = 0\n",
    "for i in lst:\n",
    "    if i%2==0:\n",
    "        sumeven= sumeven + i\n",
    "        if sumeven > 20:\n",
    "            print(\"evensum more than 20\")\n",
    "            break\n",
    "    else:\n",
    "        sumodd = sumodd + i\n",
    "        if sumodd > 20:\n",
    "            print(\"oddsum more than 20\")\n",
    "            break\n",
    "else:\n",
    "    print(\" the sums are less than 20\")\n",
    "print(sumeven)\n",
    "print(sumodd)"
   ]
  },
  {
   "cell_type": "code",
   "execution_count": 2,
   "metadata": {},
   "outputs": [
    {
     "name": "stdout",
     "output_type": "stream",
     "text": [
      "30\n",
      "25\n"
     ]
    }
   ],
   "source": [
    "n = 10\n",
    "i = 1\n",
    "evensum = 0\n",
    "oddsum = 0\n",
    "while i<=n:\n",
    "    if i%2 == 0:\n",
    "        evensum = evensum + i\n",
    "    else:\n",
    "        oddsum = oddsum + i\n",
    "    i = i + 1\n",
    "print(evensum)\n",
    "print(oddsum)"
   ]
  },
  {
   "cell_type": "code",
   "execution_count": 19,
   "metadata": {},
   "outputs": [
    {
     "data": {
      "text/plain": [
       "['hell', ' w', 'rld']"
      ]
     },
     "execution_count": 19,
     "metadata": {},
     "output_type": "execute_result"
    }
   ],
   "source": [
    "s = \"hello world\"\n",
    "s.split(\"o\")"
   ]
  },
  {
   "cell_type": "code",
   "execution_count": 21,
   "metadata": {},
   "outputs": [
    {
     "data": {
      "text/plain": [
       "('hell', 'o', ' world')"
      ]
     },
     "execution_count": 21,
     "metadata": {},
     "output_type": "execute_result"
    }
   ],
   "source": [
    "s.partition(\"o\")"
   ]
  },
  {
   "cell_type": "code",
   "execution_count": 38,
   "metadata": {},
   "outputs": [],
   "source": [
    "s = \"this is the best company to work for as a fresher\""
   ]
  },
  {
   "cell_type": "code",
   "execution_count": 58,
   "metadata": {},
   "outputs": [
    {
     "name": "stdout",
     "output_type": "stream",
     "text": [
      "t\n",
      "t\n",
      "t\n",
      "t\n",
      "t\n",
      "t\n",
      "t\n",
      "t\n"
     ]
    }
   ],
   "source": [
    "for i in s:\n",
    "    if i == \"t\":\n",
    "        print(i)\n",
    "        print(i)"
   ]
  },
  {
   "cell_type": "code",
   "execution_count": 63,
   "metadata": {},
   "outputs": [
    {
     "name": "stdout",
     "output_type": "stream",
     "text": [
      "0\n",
      "8\n",
      "15\n",
      "25\n"
     ]
    }
   ],
   "source": [
    "x = list(enumerate(s))\n",
    "for i in x:\n",
    "    if i[1]==\"t\":\n",
    "        print(i[0])"
   ]
  },
  {
   "cell_type": "code",
   "execution_count": 67,
   "metadata": {},
   "outputs": [
    {
     "data": {
      "text/plain": [
       "[(0, 'a'), (1, 'p'), (2, 'p'), (3, 'l'), (4, 'e')]"
      ]
     },
     "execution_count": 67,
     "metadata": {},
     "output_type": "execute_result"
    }
   ],
   "source": [
    "a = \"apple\"\n",
    "list(enumerate(a))"
   ]
  },
  {
   "cell_type": "code",
   "execution_count": null,
   "metadata": {},
   "outputs": [],
   "source": []
  },
  {
   "cell_type": "code",
   "execution_count": null,
   "metadata": {},
   "outputs": [],
   "source": []
  },
  {
   "cell_type": "code",
   "execution_count": null,
   "metadata": {},
   "outputs": [],
   "source": []
  }
 ],
 "metadata": {
  "kernelspec": {
   "display_name": "Python 3",
   "language": "python",
   "name": "python3"
  },
  "language_info": {
   "codemirror_mode": {
    "name": "ipython",
    "version": 3
   },
   "file_extension": ".py",
   "mimetype": "text/x-python",
   "name": "python",
   "nbconvert_exporter": "python",
   "pygments_lexer": "ipython3",
   "version": "3.7.4"
  }
 },
 "nbformat": 4,
 "nbformat_minor": 2
}
