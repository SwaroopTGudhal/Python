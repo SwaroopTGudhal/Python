{
 "cells": [
  {
   "cell_type": "markdown",
   "metadata": {},
   "source": [
    "# FUNCTIONS\n",
    "\n",
    "To reduce the repetability of the code.  \n",
    "Func help to break the code into modules.  \n",
    "Optimize coding by allowing reuse by function call.  \n",
    "\n",
    "\n",
    "syntax:  \n",
    "def func__name (parameters needed):  \n",
    "    code lines to perform.  \n",
    "    return(#not mandatory)\n",
    "    \n",
    "### Print and Return in function:  \n",
    "Print displays the output on the console only.  \n",
    "When return is used the output can be used for further uses.  "
   ]
  },
  {
   "cell_type": "code",
   "execution_count": 46,
   "metadata": {},
   "outputs": [
    {
     "name": "stdout",
     "output_type": "stream",
     "text": [
      "welcome to the party\n"
     ]
    }
   ],
   "source": [
    "def greeting_call():\n",
    "    print(\"welcome to the party\")\n",
    "greeting_call()"
   ]
  },
  {
   "cell_type": "code",
   "execution_count": 68,
   "metadata": {},
   "outputs": [
    {
     "name": "stdout",
     "output_type": "stream",
     "text": [
      "your mail id is :swarooptg@gmail.com\n"
     ]
    }
   ],
   "source": [
    "def mailid(fname):\n",
    "    print(\"your mail id is :{}@gmail.com\".format(fname))\n",
    "mailid(\"swarooptg\")\n",
    "\n",
    "# fname is the argument passed into the function mailid.\n",
    "# short form of arguments is args in python.\n",
    "\n",
    "# From a function's perspective:\n",
    "# A parameter is the variable listed inside the parentheses in the function definition.\n",
    "# def mailid(fname) --- here fname is the parameter\n",
    "\n",
    "# An argument is the value that is sent to the function when it is called.\n",
    "# mailid(\"swarooptg\") --- here swarooptg is the argument."
   ]
  },
  {
   "cell_type": "code",
   "execution_count": 76,
   "metadata": {},
   "outputs": [
    {
     "name": "stdout",
     "output_type": "stream",
     "text": [
      "my full name is swaroop tg\n"
     ]
    }
   ],
   "source": [
    "# number of arguments.\n",
    "# if we create a function with 2 arguments, we have to call it with same number\n",
    "#of arguments, not less not more.\n",
    "\n",
    "# example for 2 args function.\n",
    "\n",
    "def full_name(first,last):\n",
    "    print(\"my full name is {} {}\".format(first,last))\n",
    "\n",
    "    \n",
    "# now we shall calll the function with 2 args.    \n",
    "full_name(\"swaroop\", \"tg\")"
   ]
  },
  {
   "cell_type": "code",
   "execution_count": 63,
   "metadata": {},
   "outputs": [
    {
     "ename": "NameError",
     "evalue": "name 'full_name' is not defined",
     "output_type": "error",
     "traceback": [
      "\u001b[1;31m---------------------------------------------------------------------------\u001b[0m",
      "\u001b[1;31mNameError\u001b[0m                                 Traceback (most recent call last)",
      "\u001b[1;32m<ipython-input-63-3865c2909269>\u001b[0m in \u001b[0;36m<module>\u001b[1;34m\u001b[0m\n\u001b[0;32m      2\u001b[0m \u001b[1;31m# we must get error.\u001b[0m\u001b[1;33m\u001b[0m\u001b[1;33m\u001b[0m\u001b[1;33m\u001b[0m\u001b[0m\n\u001b[0;32m      3\u001b[0m \u001b[1;33m\u001b[0m\u001b[0m\n\u001b[1;32m----> 4\u001b[1;33m \u001b[0mfull_name\u001b[0m\u001b[1;33m(\u001b[0m\u001b[1;34m\"swaroop\"\u001b[0m\u001b[1;33m)\u001b[0m\u001b[1;33m\u001b[0m\u001b[1;33m\u001b[0m\u001b[0m\n\u001b[0m",
      "\u001b[1;31mNameError\u001b[0m: name 'full_name' is not defined"
     ]
    }
   ],
   "source": [
    "# calling function with one less args.\n",
    "# we must get error.\n",
    "\n",
    "full_name(\"swaroop\")"
   ]
  },
  {
   "cell_type": "code",
   "execution_count": null,
   "metadata": {},
   "outputs": [],
   "source": []
  },
  {
   "cell_type": "code",
   "execution_count": 64,
   "metadata": {},
   "outputs": [],
   "source": [
    "# function overloading\n",
    "# The below 2 functions \"calculate\" takes 2 different arguments.\n",
    "# In other languages we can have same func name with diff args.\n",
    "# When we call a func with definite args the specific func is called.\n",
    "# This func overloading is the concept in other languages.\n",
    "\n",
    "def calculate(var1:int, var2:int):\n",
    "    if operation == \"+\":\n",
    "        return var1 + var2\n",
    "    elif operation == \"-\":\n",
    "        return var1 - var2\n",
    "    else:\n",
    "        return var1 * var2"
   ]
  },
  {
   "cell_type": "code",
   "execution_count": 65,
   "metadata": {},
   "outputs": [],
   "source": [
    "def calculate(var1:str, var2:str, var3:str):\n",
    "    if operation == \"+\":\n",
    "        return var1 + var2\n",
    "    elif operation == \"-\":\n",
    "        return var1 - var2\n",
    "    else:\n",
    "        return var1 * var2"
   ]
  },
  {
   "cell_type": "code",
   "execution_count": null,
   "metadata": {},
   "outputs": [],
   "source": [
    "# But when we do the same in python, the last called func will be overwritten.\n",
    "# This case causes overriding in python."
   ]
  },
  {
   "cell_type": "code",
   "execution_count": null,
   "metadata": {},
   "outputs": [],
   "source": [
    "# In case we want a func with variable args passed we have concept of \n",
    "# 1> arbitrary arguments.\n",
    "# 2> arbitrary keyword arguments."
   ]
  },
  {
   "cell_type": "code",
   "execution_count": null,
   "metadata": {},
   "outputs": [],
   "source": []
  },
  {
   "cell_type": "code",
   "execution_count": 81,
   "metadata": {},
   "outputs": [],
   "source": [
    "# arguments, args\n",
    "# arbitrary arguments, *args (if we dont know the number of args that will be pased into the function)\n",
    "# keyword arguments, kwargs (when args are passed as key value pair)\n",
    "# arbitrary keyword arguments, **kwargs[double star]\n",
    "\n",
    "\n",
    "# Doc strings - adding doc string for functions and oops increases value."
   ]
  },
  {
   "cell_type": "code",
   "execution_count": 82,
   "metadata": {},
   "outputs": [
    {
     "name": "stdout",
     "output_type": "stream",
     "text": [
      "The opening batsman with strike is kl rahul\n"
     ]
    }
   ],
   "source": [
    "# arbitrary arguments, *args \n",
    "\n",
    "def my_function(*batsmen):\n",
    "    '''this function return the opening batsman'''\n",
    "    print(\"The opening batsman with strike is \" + batsmen[0])\n",
    "    \n",
    "my_function(\"kl rahul\", \"m agarwal\", \"virat\", \"r sharma\", \" h pandya\")\n",
    "\n",
    "# Here we can pass any number of arguments. So, its called *args."
   ]
  },
  {
   "cell_type": "code",
   "execution_count": null,
   "metadata": {},
   "outputs": [],
   "source": []
  },
  {
   "cell_type": "code",
   "execution_count": 83,
   "metadata": {},
   "outputs": [
    {
     "name": "stdout",
     "output_type": "stream",
     "text": [
      "The onedown batsman is virat\n"
     ]
    }
   ],
   "source": [
    "# keyword arguments, kwargs\n",
    "# we can send the args as key value pair.\n",
    "# In this case order of the arguments does not matter.\n",
    "\n",
    "def batsmen(strike, nonstrike, onedown):\n",
    "    '''this function return the one down batsman'''\n",
    "    print(\"The onedown batsman is \" + onedown)\n",
    "    \n",
    "batsmen(strike = \"rahul\", nonstrike=\"rohit\", onedown=\"virat\")"
   ]
  },
  {
   "cell_type": "code",
   "execution_count": 84,
   "metadata": {},
   "outputs": [
    {
     "data": {
      "text/plain": [
       "'this function return the one down batsman'"
      ]
     },
     "execution_count": 84,
     "metadata": {},
     "output_type": "execute_result"
    }
   ],
   "source": [
    "batsmen.__doc__"
   ]
  },
  {
   "cell_type": "code",
   "execution_count": null,
   "metadata": {},
   "outputs": [],
   "source": []
  },
  {
   "cell_type": "code",
   "execution_count": 89,
   "metadata": {},
   "outputs": [
    {
     "name": "stdout",
     "output_type": "stream",
     "text": [
      "opening batsman is: rahul\n"
     ]
    }
   ],
   "source": [
    "# arbitrary keyword arguments, **kwargs\n",
    "# This is the case when we dont know the exact number of kwargs\n",
    "\n",
    "def batsmen(**lineup):\n",
    "    print(\"opening batsman is: \" + lineup[\"strike\"])\n",
    "    \n",
    "batsmen(strike = \"rahul\", nonstrike=\"rohit\", onedown=\"virat\", twodown = \"manish\")"
   ]
  },
  {
   "cell_type": "code",
   "execution_count": 88,
   "metadata": {},
   "outputs": [],
   "source": [
    "# Real time example: When we fill a google for we have mandatory columns.\n",
    "# If we fill the non mandatory colmn we need not call another fun'n with required args.\n",
    "\n",
    "def name_id (**details):\n",
    "    print(\"employee name is \"+ details[\"fname\"] + details[\"mname\"] + details[\"lname\"])\n"
   ]
  },
  {
   "cell_type": "code",
   "execution_count": 90,
   "metadata": {},
   "outputs": [
    {
     "name": "stdout",
     "output_type": "stream",
     "text": [
      "employee name is swarooptgudhal\n"
     ]
    }
   ],
   "source": [
    "name_id(fname = \"swaroop\", mname = \"t\", lname = \"gudhal\")"
   ]
  },
  {
   "cell_type": "code",
   "execution_count": null,
   "metadata": {},
   "outputs": [],
   "source": []
  },
  {
   "cell_type": "code",
   "execution_count": 98,
   "metadata": {},
   "outputs": [
    {
     "name": "stdout",
     "output_type": "stream",
     "text": [
      " i support csk in ipl\n",
      " i support rcb in ipl\n"
     ]
    }
   ],
   "source": [
    "# default parameter value\n",
    "\n",
    "def my_function (my_team = \"rcb\"):\n",
    "    return(\" i support \" + my_team + \" in ipl\")\n",
    "print(my_function(\"csk\"))\n",
    "print(my_function())\n",
    "\n",
    "# in this case if we dont pass any parameter the default value will be passed."
   ]
  },
  {
   "cell_type": "code",
   "execution_count": null,
   "metadata": {},
   "outputs": [],
   "source": []
  },
  {
   "cell_type": "code",
   "execution_count": 7,
   "metadata": {},
   "outputs": [],
   "source": [
    "# to know the positional arg and keywords arg\n",
    "# name is positional arg (*args)\n",
    "# age is keyword arg (**wkargs)\n",
    "\n",
    "def greetings(name,age):\n",
    "    print(\" my name is {}, my age is {}\".format(name,age))"
   ]
  },
  {
   "cell_type": "code",
   "execution_count": 10,
   "metadata": {},
   "outputs": [
    {
     "name": "stdout",
     "output_type": "stream",
     "text": [
      " my name is swaroop, my age is 25\n"
     ]
    }
   ],
   "source": [
    "greetings(\"swaroop\",25)"
   ]
  },
  {
   "cell_type": "code",
   "execution_count": 84,
   "metadata": {},
   "outputs": [
    {
     "name": "stdout",
     "output_type": "stream",
     "text": [
      " my name is swaroop, my age is 23\n"
     ]
    }
   ],
   "source": [
    "greetings(\"swaroop\",23)"
   ]
  },
  {
   "cell_type": "code",
   "execution_count": null,
   "metadata": {},
   "outputs": [],
   "source": []
  },
  {
   "cell_type": "code",
   "execution_count": 11,
   "metadata": {},
   "outputs": [],
   "source": [
    "def greetingss(*args,**kwargs):\n",
    "    print(args)\n",
    "    print(kwargs)"
   ]
  },
  {
   "cell_type": "code",
   "execution_count": 12,
   "metadata": {},
   "outputs": [
    {
     "name": "stdout",
     "output_type": "stream",
     "text": [
      "('swaroop', 'gudhal')\n",
      "{'age': 29, 'dob': 1990}\n"
     ]
    }
   ],
   "source": [
    "greetingss(\"swaroop\",\"gudhal\",age=29,dob=1990)"
   ]
  },
  {
   "cell_type": "code",
   "execution_count": null,
   "metadata": {},
   "outputs": [],
   "source": []
  },
  {
   "cell_type": "code",
   "execution_count": 13,
   "metadata": {},
   "outputs": [],
   "source": [
    "lst = [\"swaroop\",\"gudhal\"]\n",
    "dict_arg = {'age':29,'dob':1990}"
   ]
  },
  {
   "cell_type": "code",
   "execution_count": 14,
   "metadata": {},
   "outputs": [
    {
     "name": "stdout",
     "output_type": "stream",
     "text": [
      "(['swaroop', 'gudhal'], {'age': 29, 'dob': 1990})\n",
      "{}\n"
     ]
    }
   ],
   "source": [
    "greetingss(lst, dict_arg)"
   ]
  },
  {
   "cell_type": "code",
   "execution_count": 89,
   "metadata": {},
   "outputs": [
    {
     "name": "stdout",
     "output_type": "stream",
     "text": [
      "('swaroop', 'gudhal')\n",
      "{'age': 29, 'dob': 1990}\n"
     ]
    }
   ],
   "source": [
    "greetingss(*lst, **dict_arg)"
   ]
  },
  {
   "cell_type": "code",
   "execution_count": null,
   "metadata": {},
   "outputs": [],
   "source": []
  },
  {
   "cell_type": "code",
   "execution_count": 42,
   "metadata": {},
   "outputs": [
    {
     "name": "stdout",
     "output_type": "stream",
     "text": [
      "Hello, Amigo\n"
     ]
    }
   ],
   "source": [
    "def greet_func():\n",
    "    print(\"Hello, Amigo\")\n",
    "greet_func()"
   ]
  },
  {
   "cell_type": "code",
   "execution_count": null,
   "metadata": {},
   "outputs": [],
   "source": []
  },
  {
   "cell_type": "code",
   "execution_count": 8,
   "metadata": {},
   "outputs": [
    {
     "name": "stdout",
     "output_type": "stream",
     "text": [
      "the sum of 3 and 5 is 8\n"
     ]
    }
   ],
   "source": [
    "def mysum(a,b):\n",
    "    c = a + b\n",
    "    print(\"the sum of\", a,\"and\",b ,\"is\",c)\n",
    "mysum(3,5)"
   ]
  },
  {
   "cell_type": "code",
   "execution_count": null,
   "metadata": {},
   "outputs": [],
   "source": []
  },
  {
   "cell_type": "code",
   "execution_count": 45,
   "metadata": {},
   "outputs": [
    {
     "data": {
      "text/plain": [
       "(2, 1, 5)"
      ]
     },
     "execution_count": 45,
     "metadata": {},
     "output_type": "execute_result"
    }
   ],
   "source": [
    "# sum of squares\n",
    "\n",
    "def sum_squares(num1,num2):\n",
    "    sum = (num1**2)+(num2**2)\n",
    "    return num1, num2, sum\n",
    "    \n",
    "sum_squares(2,1)"
   ]
  },
  {
   "cell_type": "code",
   "execution_count": 53,
   "metadata": {},
   "outputs": [
    {
     "name": "stdout",
     "output_type": "stream",
     "text": [
      "<class 'tuple'>\n"
     ]
    }
   ],
   "source": [
    "print(type(sum_squares(2,1)))"
   ]
  },
  {
   "cell_type": "code",
   "execution_count": null,
   "metadata": {},
   "outputs": [],
   "source": []
  },
  {
   "cell_type": "code",
   "execution_count": 48,
   "metadata": {},
   "outputs": [
    {
     "name": "stdout",
     "output_type": "stream",
     "text": [
      "this 22 is even\n"
     ]
    }
   ],
   "source": [
    "def evenodd(num):\n",
    "    if num%2==0:\n",
    "        print(\"this {} is even\".format(num))\n",
    "    else:\n",
    "        print(\"This {} is odd\".format(num))\n",
    "\n",
    "evenodd(22)"
   ]
  },
  {
   "cell_type": "code",
   "execution_count": null,
   "metadata": {},
   "outputs": [],
   "source": []
  },
  {
   "cell_type": "code",
   "execution_count": 50,
   "metadata": {},
   "outputs": [
    {
     "data": {
      "text/plain": [
       "['__add__',\n",
       " '__class__',\n",
       " '__contains__',\n",
       " '__delattr__',\n",
       " '__delitem__',\n",
       " '__dir__',\n",
       " '__doc__',\n",
       " '__eq__',\n",
       " '__format__',\n",
       " '__ge__',\n",
       " '__getattribute__',\n",
       " '__getitem__',\n",
       " '__gt__',\n",
       " '__hash__',\n",
       " '__iadd__',\n",
       " '__imul__',\n",
       " '__init__',\n",
       " '__init_subclass__',\n",
       " '__iter__',\n",
       " '__le__',\n",
       " '__len__',\n",
       " '__lt__',\n",
       " '__mul__',\n",
       " '__ne__',\n",
       " '__new__',\n",
       " '__reduce__',\n",
       " '__reduce_ex__',\n",
       " '__repr__',\n",
       " '__reversed__',\n",
       " '__rmul__',\n",
       " '__setattr__',\n",
       " '__setitem__',\n",
       " '__sizeof__',\n",
       " '__str__',\n",
       " '__subclasshook__',\n",
       " 'append',\n",
       " 'clear',\n",
       " 'copy',\n",
       " 'count',\n",
       " 'extend',\n",
       " 'index',\n",
       " 'insert',\n",
       " 'pop',\n",
       " 'remove',\n",
       " 'reverse',\n",
       " 'sort']"
      ]
     },
     "execution_count": 50,
     "metadata": {},
     "output_type": "execute_result"
    }
   ],
   "source": [
    "# inbuilt functions, private functions related to the list\n",
    "\n",
    "list1 = [1,2,3,4,5,6,7,8,9]\n",
    "dir(list1)                            # Directory of list"
   ]
  },
  {
   "cell_type": "code",
   "execution_count": null,
   "metadata": {},
   "outputs": [],
   "source": []
  },
  {
   "cell_type": "code",
   "execution_count": 55,
   "metadata": {},
   "outputs": [
    {
     "data": {
      "text/plain": [
       "55"
      ]
     },
     "execution_count": 55,
     "metadata": {},
     "output_type": "execute_result"
    }
   ],
   "source": [
    "list1 = [1,2,3,4,5,6,7,8,9,10]\n",
    "\n",
    "def add_sum(lst):\n",
    "    add = 0\n",
    "    for i in lst:\n",
    "        add = add + i\n",
    "    return add\n",
    "\n",
    "add_sum(list1)"
   ]
  },
  {
   "cell_type": "code",
   "execution_count": null,
   "metadata": {},
   "outputs": [],
   "source": []
  },
  {
   "cell_type": "code",
   "execution_count": 29,
   "metadata": {},
   "outputs": [
    {
     "data": {
      "text/plain": [
       "10"
      ]
     },
     "execution_count": 29,
     "metadata": {},
     "output_type": "execute_result"
    }
   ],
   "source": [
    "def absolute(num):\n",
    "    if num >= 0:\n",
    "        return(num)\n",
    "    if num <= 0:\n",
    "        return(abs(num))\n",
    "absolute(10)\n",
    "\n",
    "#It is a good practice to have return line in the function than print."
   ]
  },
  {
   "cell_type": "code",
   "execution_count": null,
   "metadata": {},
   "outputs": [],
   "source": []
  },
  {
   "cell_type": "markdown",
   "metadata": {},
   "source": [
    "## Variables in the functions"
   ]
  },
  {
   "cell_type": "code",
   "execution_count": 31,
   "metadata": {},
   "outputs": [
    {
     "name": "stdout",
     "output_type": "stream",
     "text": [
      "the value inside function :  10\n",
      "the value outside function :  20\n"
     ]
    }
   ],
   "source": [
    "def my_func():\n",
    "    x = 10\n",
    "    print(\"the value inside function : \",x)\n",
    "\n",
    "x = 20\n",
    "my_func()\n",
    "print(\"the value outside function : \", x)\n",
    "\n",
    "# concept of global and local variable"
   ]
  },
  {
   "cell_type": "code",
   "execution_count": 33,
   "metadata": {},
   "outputs": [
    {
     "name": "stdout",
     "output_type": "stream",
     "text": [
      "value inside function:  10\n",
      "value outside function:  10\n"
     ]
    }
   ],
   "source": [
    "x = 20\n",
    "\n",
    "def my_fun():\n",
    "    global x                                                               #calling global variable x\n",
    "    x = 10                                                                 #modify the value of global variable x from 20 to 10\n",
    "    print(\"value inside function: \",x)\n",
    "my_fun()\n",
    "print(\"value outside function: \",x)\n",
    "\n",
    "#By calling the global x in the function, the changes done in the function will change the value of the global x."
   ]
  },
  {
   "cell_type": "code",
   "execution_count": 34,
   "metadata": {},
   "outputs": [
    {
     "name": "stdout",
     "output_type": "stream",
     "text": [
      "the sum is 32\n"
     ]
    }
   ],
   "source": [
    "def add_num(x,y):\n",
    "    sum = x + y\n",
    "    return sum\n",
    "num1 = 10\n",
    "num2 = 22\n",
    "print(\"the sum is\", add_num(num1,num2))"
   ]
  },
  {
   "cell_type": "code",
   "execution_count": null,
   "metadata": {},
   "outputs": [],
   "source": []
  },
  {
   "cell_type": "markdown",
   "metadata": {},
   "source": [
    "### LAMBDA function\n",
    "\n",
    "Function witout a name. Defined using the keyword \"lambda\". It is also called anonymous function.  \n",
    "It is used when we need to use the function only once.  \n",
    "Mostly used for small codes for single use.  \n",
    "Often used with map and filter functions.\n"
   ]
  },
  {
   "cell_type": "code",
   "execution_count": 26,
   "metadata": {},
   "outputs": [
    {
     "name": "stdout",
     "output_type": "stream",
     "text": [
      "10\n"
     ]
    },
    {
     "data": {
      "text/plain": [
       "function"
      ]
     },
     "execution_count": 26,
     "metadata": {},
     "output_type": "execute_result"
    }
   ],
   "source": [
    "double = lambda x: x*2 # the function has no name. Lambda returns a function object reffered\n",
    "                        # double is not a function name. It is variable referring to the lambda function.\n",
    "    \n",
    "print(double(5))\n",
    "\n",
    "type(double)"
   ]
  },
  {
   "cell_type": "code",
   "execution_count": null,
   "metadata": {},
   "outputs": [],
   "source": []
  },
  {
   "cell_type": "code",
   "execution_count": 27,
   "metadata": {},
   "outputs": [
    {
     "name": "stdout",
     "output_type": "stream",
     "text": [
      "17\n"
     ]
    }
   ],
   "source": [
    "# with 2 input parameters\n",
    "\n",
    "def add(x,y):\n",
    "    print(x+y)                                                               #normal way of defining a function\n",
    "add(8,9)"
   ]
  },
  {
   "cell_type": "code",
   "execution_count": 28,
   "metadata": {},
   "outputs": [
    {
     "data": {
      "text/plain": [
       "7"
      ]
     },
     "execution_count": 28,
     "metadata": {},
     "output_type": "execute_result"
    }
   ],
   "source": [
    "add = lambda x,y : x + y                                                     #using lambda for the same function\n",
    "add(5,2)"
   ]
  },
  {
   "cell_type": "code",
   "execution_count": 29,
   "metadata": {},
   "outputs": [
    {
     "data": {
      "text/plain": [
       "False"
      ]
     },
     "execution_count": 29,
     "metadata": {},
     "output_type": "execute_result"
    }
   ],
   "source": [
    "# for single parameter\n",
    "\n",
    "a = lambda x : x % 2 == 0    \n",
    "a(5)"
   ]
  },
  {
   "cell_type": "code",
   "execution_count": null,
   "metadata": {},
   "outputs": [],
   "source": []
  },
  {
   "cell_type": "code",
   "execution_count": 30,
   "metadata": {},
   "outputs": [],
   "source": [
    "def square(i):\n",
    "    return i*i"
   ]
  },
  {
   "cell_type": "code",
   "execution_count": 31,
   "metadata": {},
   "outputs": [],
   "source": [
    "sq = lambda i : i*i"
   ]
  },
  {
   "cell_type": "code",
   "execution_count": 32,
   "metadata": {},
   "outputs": [
    {
     "data": {
      "text/plain": [
       "25"
      ]
     },
     "execution_count": 32,
     "metadata": {},
     "output_type": "execute_result"
    }
   ],
   "source": [
    "square(5)"
   ]
  },
  {
   "cell_type": "code",
   "execution_count": 33,
   "metadata": {},
   "outputs": [
    {
     "data": {
      "text/plain": [
       "36"
      ]
     },
     "execution_count": 33,
     "metadata": {},
     "output_type": "execute_result"
    }
   ],
   "source": [
    "sq(6)"
   ]
  },
  {
   "cell_type": "code",
   "execution_count": null,
   "metadata": {},
   "outputs": [],
   "source": []
  },
  {
   "cell_type": "code",
   "execution_count": 39,
   "metadata": {},
   "outputs": [],
   "source": [
    "f1 = lambda x,y : [(x*y) ,(x+y)]"
   ]
  },
  {
   "cell_type": "code",
   "execution_count": 40,
   "metadata": {},
   "outputs": [
    {
     "data": {
      "text/plain": [
       "[10, 7]"
      ]
     },
     "execution_count": 40,
     "metadata": {},
     "output_type": "execute_result"
    }
   ],
   "source": [
    "f1(2,5)"
   ]
  },
  {
   "cell_type": "code",
   "execution_count": null,
   "metadata": {},
   "outputs": [],
   "source": []
  },
  {
   "cell_type": "markdown",
   "metadata": {},
   "source": [
    "### Some special functions"
   ]
  },
  {
   "cell_type": "markdown",
   "metadata": {},
   "source": [
    "### FILTER() Func\n",
    "\n",
    "Two parameters ( func , iterable)  \n",
    "Function must be a condition. it must return a boolean value output.  \n",
    "The elements returning true will be appended in the output.  "
   ]
  },
  {
   "cell_type": "code",
   "execution_count": 59,
   "metadata": {},
   "outputs": [
    {
     "name": "stdout",
     "output_type": "stream",
     "text": [
      "[22, 54, 62, 3248]\n"
     ]
    }
   ],
   "source": [
    "# FILTER FUNCTION\n",
    "\n",
    "li = [5,7,22,97,54,62,61,3248]\n",
    "final_list = list(filter(lambda x : (x % 2 == 0),li))       #it has list function and filter function.\n",
    "print(final_list)\n",
    "# we cant compute anything using filter. it checks boolean results for the conditions and gives the filtered data."
   ]
  },
  {
   "cell_type": "code",
   "execution_count": 60,
   "metadata": {},
   "outputs": [
    {
     "name": "stdout",
     "output_type": "stream",
     "text": [
      "[4, 6, 8, 12]\n"
     ]
    }
   ],
   "source": [
    "# To print even numbers from list.\n",
    "\n",
    "my_list = [1,5,4,6,8,11,3,12]\n",
    "new_list = list(filter(lambda x: (x%2 == 0), my_list))\n",
    "print(new_list)"
   ]
  },
  {
   "cell_type": "code",
   "execution_count": null,
   "metadata": {},
   "outputs": [],
   "source": []
  },
  {
   "cell_type": "code",
   "execution_count": 61,
   "metadata": {},
   "outputs": [
    {
     "ename": "TypeError",
     "evalue": "filter expected 2 arguments, got 3",
     "output_type": "error",
     "traceback": [
      "\u001b[1;31m---------------------------------------------------------------------------\u001b[0m",
      "\u001b[1;31mTypeError\u001b[0m                                 Traceback (most recent call last)",
      "\u001b[1;32m<ipython-input-61-c66239ea8270>\u001b[0m in \u001b[0;36m<module>\u001b[1;34m\u001b[0m\n\u001b[0;32m      1\u001b[0m \u001b[0mlist01\u001b[0m \u001b[1;33m=\u001b[0m \u001b[1;33m[\u001b[0m\u001b[1;36m1\u001b[0m\u001b[1;33m,\u001b[0m\u001b[1;36m2\u001b[0m\u001b[1;33m,\u001b[0m\u001b[1;36m3\u001b[0m\u001b[1;33m,\u001b[0m\u001b[1;36m4\u001b[0m\u001b[1;33m]\u001b[0m\u001b[1;33m\u001b[0m\u001b[1;33m\u001b[0m\u001b[0m\n\u001b[0;32m      2\u001b[0m \u001b[0mlist02\u001b[0m \u001b[1;33m=\u001b[0m \u001b[1;33m[\u001b[0m\u001b[1;36m4\u001b[0m\u001b[1;33m,\u001b[0m\u001b[1;36m5\u001b[0m\u001b[1;33m,\u001b[0m\u001b[1;36m6\u001b[0m\u001b[1;33m,\u001b[0m\u001b[1;36m7\u001b[0m\u001b[1;33m]\u001b[0m\u001b[1;33m\u001b[0m\u001b[1;33m\u001b[0m\u001b[0m\n\u001b[1;32m----> 3\u001b[1;33m \u001b[0mprint\u001b[0m\u001b[1;33m(\u001b[0m\u001b[0mlist\u001b[0m\u001b[1;33m(\u001b[0m\u001b[0mfilter\u001b[0m\u001b[1;33m(\u001b[0m\u001b[1;32mlambda\u001b[0m \u001b[0mx\u001b[0m\u001b[1;33m,\u001b[0m\u001b[0my\u001b[0m \u001b[1;33m:\u001b[0m \u001b[1;33m(\u001b[0m\u001b[0mx\u001b[0m\u001b[1;33m%\u001b[0m\u001b[0my\u001b[0m\u001b[1;33m==\u001b[0m\u001b[1;36m0\u001b[0m\u001b[1;33m)\u001b[0m\u001b[1;33m,\u001b[0m\u001b[0mlist01\u001b[0m\u001b[1;33m,\u001b[0m\u001b[0mlist02\u001b[0m\u001b[1;33m)\u001b[0m\u001b[1;33m)\u001b[0m\u001b[1;33m)\u001b[0m\u001b[1;33m\u001b[0m\u001b[1;33m\u001b[0m\u001b[0m\n\u001b[0m",
      "\u001b[1;31mTypeError\u001b[0m: filter expected 2 arguments, got 3"
     ]
    }
   ],
   "source": [
    "list01 = [1,2,3,4]\n",
    "list02 = [4,5,6,7]\n",
    "print(list(filter(lambda x,y : (x%y==0),list01,list02)))"
   ]
  },
  {
   "cell_type": "code",
   "execution_count": 62,
   "metadata": {},
   "outputs": [
    {
     "name": "stdout",
     "output_type": "stream",
     "text": [
      "[1, 2, 3, 4]\n",
      "[4, 3, 2, 1]\n"
     ]
    }
   ],
   "source": [
    "print(list01)\n",
    "list01.reverse()\n",
    "print(list01)"
   ]
  },
  {
   "cell_type": "code",
   "execution_count": null,
   "metadata": {},
   "outputs": [],
   "source": []
  },
  {
   "cell_type": "markdown",
   "metadata": {},
   "source": [
    "### MAP() Function\n",
    "\n",
    "It takes two arguments.  \n",
    "A function and A sequence iterable.  \n",
    "\n",
    "Syntax: map( function, sequence)  \n",
    "\n",
    "####  When to use MAP( ) ?\n",
    "\n",
    "In case we have defined a function, we pass single attributes declared to get the function output. If in case we have to pass a list of attributs and get the output we can use MAP functionality."
   ]
  },
  {
   "cell_type": "code",
   "execution_count": 1,
   "metadata": {},
   "outputs": [
    {
     "name": "stdout",
     "output_type": "stream",
     "text": [
      "values are :  [0, 100, 0, 300, 10]\n"
     ]
    }
   ],
   "source": [
    "# MAP function using lambda fuction\n",
    "\n",
    "varlist = [0,10,0,30,1]\n",
    "out = list(map(lambda var : var*10, varlist))\n",
    "print(\"values are : \",out)"
   ]
  },
  {
   "cell_type": "code",
   "execution_count": 3,
   "metadata": {},
   "outputs": [
    {
     "name": "stdout",
     "output_type": "stream",
     "text": [
      "[5, 7, 9]\n"
     ]
    }
   ],
   "source": [
    "# element wise list addition using map.\n",
    "\n",
    "list_a = [1,2,3]\n",
    "list_b = [4,5,6]\n",
    "out = list(map(lambda x,y: x+y, list_a, list_b))\n",
    "print(out)"
   ]
  },
  {
   "cell_type": "code",
   "execution_count": 17,
   "metadata": {},
   "outputs": [
    {
     "name": "stdout",
     "output_type": "stream",
     "text": [
      "[9]\n"
     ]
    }
   ],
   "source": [
    "# element wise list addition using loops.\n",
    "\n",
    "list_a = [1,2,3]\n",
    "list_b = [4,5,6]\n",
    "for i in range(len(list_a)):\n",
    "               list_final = []\n",
    "               list_final.append(list_a[i]+list_b[i])\n",
    "print(list_final)"
   ]
  },
  {
   "cell_type": "code",
   "execution_count": null,
   "metadata": {},
   "outputs": [],
   "source": []
  },
  {
   "cell_type": "code",
   "execution_count": 14,
   "metadata": {},
   "outputs": [],
   "source": [
    "def num_sq(x):\n",
    "    return x*x"
   ]
  },
  {
   "cell_type": "code",
   "execution_count": 15,
   "metadata": {},
   "outputs": [
    {
     "data": {
      "text/plain": [
       "16"
      ]
     },
     "execution_count": 15,
     "metadata": {},
     "output_type": "execute_result"
    }
   ],
   "source": [
    "num_sq(4)"
   ]
  },
  {
   "cell_type": "code",
   "execution_count": 16,
   "metadata": {},
   "outputs": [
    {
     "ename": "TypeError",
     "evalue": "can't multiply sequence by non-int of type 'list'",
     "output_type": "error",
     "traceback": [
      "\u001b[1;31m---------------------------------------------------------------------------\u001b[0m",
      "\u001b[1;31mTypeError\u001b[0m                                 Traceback (most recent call last)",
      "\u001b[1;32m<ipython-input-16-a61e5e2bd022>\u001b[0m in \u001b[0;36m<module>\u001b[1;34m\u001b[0m\n\u001b[1;32m----> 1\u001b[1;33m \u001b[0mnum_sq\u001b[0m\u001b[1;33m(\u001b[0m\u001b[1;33m[\u001b[0m\u001b[1;36m1\u001b[0m\u001b[1;33m,\u001b[0m\u001b[1;36m2\u001b[0m\u001b[1;33m,\u001b[0m\u001b[1;36m3\u001b[0m\u001b[1;33m,\u001b[0m\u001b[1;36m4\u001b[0m\u001b[1;33m]\u001b[0m\u001b[1;33m)\u001b[0m\u001b[1;33m\u001b[0m\u001b[1;33m\u001b[0m\u001b[0m\n\u001b[0m",
      "\u001b[1;32m<ipython-input-14-f6c40f33834b>\u001b[0m in \u001b[0;36mnum_sq\u001b[1;34m(x)\u001b[0m\n\u001b[0;32m      1\u001b[0m \u001b[1;32mdef\u001b[0m \u001b[0mnum_sq\u001b[0m\u001b[1;33m(\u001b[0m\u001b[0mx\u001b[0m\u001b[1;33m)\u001b[0m\u001b[1;33m:\u001b[0m\u001b[1;33m\u001b[0m\u001b[1;33m\u001b[0m\u001b[0m\n\u001b[1;32m----> 2\u001b[1;33m     \u001b[1;32mreturn\u001b[0m \u001b[0mx\u001b[0m\u001b[1;33m*\u001b[0m\u001b[0mx\u001b[0m\u001b[1;33m\u001b[0m\u001b[1;33m\u001b[0m\u001b[0m\n\u001b[0m",
      "\u001b[1;31mTypeError\u001b[0m: can't multiply sequence by non-int of type 'list'"
     ]
    }
   ],
   "source": [
    "num_sq([1,2,3,4])"
   ]
  },
  {
   "cell_type": "code",
   "execution_count": 13,
   "metadata": {},
   "outputs": [
    {
     "data": {
      "text/plain": [
       "[1, 4, 9, 16, 25, 36]"
      ]
     },
     "execution_count": 13,
     "metadata": {},
     "output_type": "execute_result"
    }
   ],
   "source": [
    "list(map(num_sq,[1,2,3,4,5,6]))"
   ]
  },
  {
   "cell_type": "code",
   "execution_count": null,
   "metadata": {},
   "outputs": [],
   "source": []
  },
  {
   "cell_type": "code",
   "execution_count": 18,
   "metadata": {},
   "outputs": [],
   "source": [
    "def dollar(r):\n",
    "    return (r * 70)\n",
    "def rupee(r):\n",
    "    return (round(r/70,3))\n",
    "\n",
    "list0 = [10,25,32,71,55,50]"
   ]
  },
  {
   "cell_type": "code",
   "execution_count": 19,
   "metadata": {},
   "outputs": [
    {
     "data": {
      "text/plain": [
       "[700, 1750, 2240, 4970, 3850, 3500]"
      ]
     },
     "execution_count": 19,
     "metadata": {},
     "output_type": "execute_result"
    }
   ],
   "source": [
    "list(map(dollar, list0))"
   ]
  },
  {
   "cell_type": "code",
   "execution_count": 20,
   "metadata": {},
   "outputs": [
    {
     "data": {
      "text/plain": [
       "[0.143, 0.357, 0.457, 1.014, 0.786, 0.714]"
      ]
     },
     "execution_count": 20,
     "metadata": {},
     "output_type": "execute_result"
    }
   ],
   "source": [
    "list(map(rupee,list0))"
   ]
  },
  {
   "cell_type": "code",
   "execution_count": null,
   "metadata": {},
   "outputs": [],
   "source": []
  },
  {
   "cell_type": "code",
   "execution_count": 21,
   "metadata": {},
   "outputs": [
    {
     "data": {
      "text/plain": [
       "[100, 400, 900]"
      ]
     },
     "execution_count": 21,
     "metadata": {},
     "output_type": "execute_result"
    }
   ],
   "source": [
    "l = [10,20,30]\n",
    "b = [10,20,30]\n",
    "\n",
    "def area_rect(l,b):\n",
    "    return (l * b)\n",
    "\n",
    "list(map(area_rect,l,b))"
   ]
  },
  {
   "cell_type": "code",
   "execution_count": null,
   "metadata": {},
   "outputs": [],
   "source": []
  },
  {
   "cell_type": "markdown",
   "metadata": {},
   "source": [
    "### REDUCE() Function\n",
    "\n",
    "For adding up numbers in list, instead of for loop we can use reduce func for faster answer.  \n",
    "\n",
    "It can also handle strings as well as far as strings operation are used in function.  \n",
    "\n",
    "Finds the cumulative sum basically.  \n",
    "For ex: [10,11,12,13,14,15]  \n",
    "starts by adding 10 + 11 = 21,  \n",
    "add 12 to 21, 12 + 21 = 33,  \n",
    "add 13 to 33, 13 + 33 = 46,  \n",
    "add 14 to 46, 14 + 46 = 60,  \n",
    "add 15 to 60, 15 + 60 = 75.  \n",
    "The output will be 75.  "
   ]
  },
  {
   "cell_type": "code",
   "execution_count": 41,
   "metadata": {},
   "outputs": [
    {
     "ename": "TypeError",
     "evalue": "reduce expected at least 2 arguments, got 0",
     "output_type": "error",
     "traceback": [
      "\u001b[1;31m---------------------------------------------------------------------------\u001b[0m",
      "\u001b[1;31mTypeError\u001b[0m                                 Traceback (most recent call last)",
      "\u001b[1;32m<ipython-input-41-a0c7a7939ade>\u001b[0m in \u001b[0;36m<module>\u001b[1;34m\u001b[0m\n\u001b[0;32m      1\u001b[0m \u001b[1;32mimport\u001b[0m \u001b[0mfunctools\u001b[0m \u001b[1;32mas\u001b[0m \u001b[0mf\u001b[0m\u001b[1;33m\u001b[0m\u001b[1;33m\u001b[0m\u001b[0m\n\u001b[0;32m      2\u001b[0m \u001b[0mlst\u001b[0m \u001b[1;33m=\u001b[0m \u001b[1;33m[\u001b[0m\u001b[1;36m10\u001b[0m\u001b[1;33m,\u001b[0m\u001b[1;36m11\u001b[0m\u001b[1;33m,\u001b[0m\u001b[1;36m12\u001b[0m\u001b[1;33m,\u001b[0m\u001b[1;36m13\u001b[0m\u001b[1;33m,\u001b[0m\u001b[1;36m14\u001b[0m\u001b[1;33m,\u001b[0m\u001b[1;36m15\u001b[0m\u001b[1;33m]\u001b[0m\u001b[1;33m\u001b[0m\u001b[1;33m\u001b[0m\u001b[0m\n\u001b[1;32m----> 3\u001b[1;33m \u001b[0msum\u001b[0m \u001b[1;33m=\u001b[0m \u001b[0mf\u001b[0m\u001b[1;33m.\u001b[0m\u001b[0mreduce\u001b[0m\u001b[1;33m(\u001b[0m\u001b[1;33m)\u001b[0m\u001b[1;33m\u001b[0m\u001b[1;33m\u001b[0m\u001b[0m\n\u001b[0m",
      "\u001b[1;31mTypeError\u001b[0m: reduce expected at least 2 arguments, got 0"
     ]
    }
   ],
   "source": [
    "import functools as f\n",
    "lst = [10,11,12,13,14,15]\n",
    "sum = f.reduce()"
   ]
  },
  {
   "cell_type": "code",
   "execution_count": null,
   "metadata": {},
   "outputs": [],
   "source": []
  },
  {
   "cell_type": "code",
   "execution_count": 46,
   "metadata": {},
   "outputs": [
    {
     "name": "stdout",
     "output_type": "stream",
     "text": [
      "193\n"
     ]
    }
   ],
   "source": [
    "# REDUCER function\n",
    "\n",
    "import functools as f\n",
    "import operator as o\n",
    "li = [5,8,10,20,50,100]\n",
    "sum = f.reduce(o.add,li)\n",
    "print(sum)"
   ]
  },
  {
   "cell_type": "code",
   "execution_count": 47,
   "metadata": {},
   "outputs": [
    {
     "data": {
      "text/plain": [
       "113"
      ]
     },
     "execution_count": 47,
     "metadata": {},
     "output_type": "execute_result"
    }
   ],
   "source": [
    "# another method\n",
    "\n",
    "from functools import reduce\n",
    "lst=[47,11,42,13]\n",
    "reduce(lambda x,y : x+y,lst)"
   ]
  },
  {
   "cell_type": "code",
   "execution_count": null,
   "metadata": {},
   "outputs": [],
   "source": []
  },
  {
   "cell_type": "code",
   "execution_count": 48,
   "metadata": {},
   "outputs": [
    {
     "data": {
      "text/plain": [
       "5"
      ]
     },
     "execution_count": 48,
     "metadata": {},
     "output_type": "execute_result"
    }
   ],
   "source": [
    "# to find the max value in the container\n",
    "\n",
    "max_value = lambda a,b : a if a>b else b\n",
    "max_value(1,5)\n",
    "\n",
    "# The above function works only when we pass 2 value a,b.\n",
    "# But this does not work for sequence or containers.\n",
    "# so we can use reduce function here. "
   ]
  },
  {
   "cell_type": "code",
   "execution_count": 51,
   "metadata": {},
   "outputs": [
    {
     "data": {
      "text/plain": [
       "25"
      ]
     },
     "execution_count": 51,
     "metadata": {},
     "output_type": "execute_result"
    }
   ],
   "source": [
    "lst = [1,5,9,7,5,3,4,6,25,8]\n",
    "max_value = lambda a,b : a if a>b else b\n",
    "\n",
    "reduce(max_value,lst)"
   ]
  },
  {
   "cell_type": "code",
   "execution_count": 52,
   "metadata": {},
   "outputs": [],
   "source": [
    "# reducer first pass first 2 ele of the container as 2 args for func.\n",
    "# evaluate the function and then pass result and next ele of container to func.\n",
    "# the process repeats and finally a single output is given."
   ]
  },
  {
   "cell_type": "code",
   "execution_count": null,
   "metadata": {},
   "outputs": [],
   "source": []
  },
  {
   "cell_type": "code",
   "execution_count": 58,
   "metadata": {},
   "outputs": [
    {
     "data": {
      "text/plain": [
       "55"
      ]
     },
     "execution_count": 58,
     "metadata": {},
     "output_type": "execute_result"
    }
   ],
   "source": [
    "import functools\n",
    "from functools import reduce\n",
    "\n",
    "reduce(lambda x,y: x+y, [1,2,3,4,5,6,7,8,9,10])"
   ]
  },
  {
   "cell_type": "code",
   "execution_count": null,
   "metadata": {},
   "outputs": [],
   "source": []
  },
  {
   "cell_type": "markdown",
   "metadata": {},
   "source": [
    "### ACCUMULATOR() Function"
   ]
  },
  {
   "cell_type": "code",
   "execution_count": 77,
   "metadata": {},
   "outputs": [
    {
     "name": "stdout",
     "output_type": "stream",
     "text": [
      "the summation of list is : [1, 4, 8, 18, 22]\n"
     ]
    }
   ],
   "source": [
    "# ACCUMULATOR function\n",
    "\n",
    "import itertools as i\n",
    "lis = [1,3,4,10,4]\n",
    "print(\"the summation of list is : \", end = \"\")\n",
    "print(list(i.accumulate(lis,lambda x,y : x+y)))"
   ]
  },
  {
   "cell_type": "code",
   "execution_count": 78,
   "metadata": {},
   "outputs": [
    {
     "name": "stdout",
     "output_type": "stream",
     "text": [
      "[1, 3, 12, 120, 480]\n"
     ]
    }
   ],
   "source": [
    "print(list(i.accumulate(lis,lambda x,y : x*y)))"
   ]
  },
  {
   "cell_type": "code",
   "execution_count": null,
   "metadata": {},
   "outputs": [],
   "source": []
  },
  {
   "cell_type": "code",
   "execution_count": 23,
   "metadata": {},
   "outputs": [],
   "source": [
    "lst1 = [2,3,4,5,6,7]\n",
    "lst2 = [6,7,8,9,3,4]"
   ]
  },
  {
   "cell_type": "code",
   "execution_count": 54,
   "metadata": {},
   "outputs": [],
   "source": [
    "# Function for element wise addition of lists\n",
    "\n",
    "def list_add_ele (list1,list2):\n",
    "    final_list = []\n",
    "    for i in range(max(len(list1),len(list2))):\n",
    "        final_list.append(list1[i]+list2[i])\n",
    "    return(final_list)"
   ]
  },
  {
   "cell_type": "code",
   "execution_count": 55,
   "metadata": {},
   "outputs": [],
   "source": [
    "litter = list_add_ele(lst1,lst2)"
   ]
  },
  {
   "cell_type": "code",
   "execution_count": 56,
   "metadata": {},
   "outputs": [
    {
     "data": {
      "text/plain": [
       "[8, 10, 12, 14, 9, 11]"
      ]
     },
     "execution_count": 56,
     "metadata": {},
     "output_type": "execute_result"
    }
   ],
   "source": [
    "litter"
   ]
  },
  {
   "cell_type": "code",
   "execution_count": null,
   "metadata": {},
   "outputs": [],
   "source": []
  },
  {
   "cell_type": "code",
   "execution_count": null,
   "metadata": {},
   "outputs": [],
   "source": []
  }
 ],
 "metadata": {
  "kernelspec": {
   "display_name": "Python 3",
   "language": "python",
   "name": "python3"
  },
  "language_info": {
   "codemirror_mode": {
    "name": "ipython",
    "version": 3
   },
   "file_extension": ".py",
   "mimetype": "text/x-python",
   "name": "python",
   "nbconvert_exporter": "python",
   "pygments_lexer": "ipython3",
   "version": "3.7.4"
  }
 },
 "nbformat": 4,
 "nbformat_minor": 2
}
