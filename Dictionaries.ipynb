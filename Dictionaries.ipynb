{
 "cells": [
  {
   "cell_type": "markdown",
   "metadata": {},
   "source": [
    "# DICTIONARIES\n",
    "\n",
    "It is a datatype that has key ,value pairs.  \n",
    "The key and value can be of any data type.  \n",
    "Here, the indexing is done with refernce to KEYS.  \n",
    "We cant have same key. They should be unique. It overwrites with the latest one.  \n",
    "\n",
    "Dict are sored in flower brackets. \n",
    "Dict are mutable  \n",
    "\n",
    "### what's covered  \n",
    "constructing dictionary  \n",
    "accessing elements from dict.  \n",
    "nesting dict.  \n",
    "basic dictionary methods.  \n",
    "\n",
    "## MAPPING concept.\n",
    "mapping are a collection of objects that are stored by a key.  \n",
    "We cant retrive any value by indexing or slicing. We have to give a key value.  "
   ]
  },
  {
   "cell_type": "code",
   "execution_count": 1,
   "metadata": {},
   "outputs": [
    {
     "data": {
      "text/plain": [
       "dict"
      ]
     },
     "execution_count": 1,
     "metadata": {},
     "output_type": "execute_result"
    }
   ],
   "source": [
    "d = {}\n",
    "type(d)"
   ]
  },
  {
   "cell_type": "code",
   "execution_count": 2,
   "metadata": {},
   "outputs": [
    {
     "data": {
      "text/plain": [
       "set"
      ]
     },
     "execution_count": 2,
     "metadata": {},
     "output_type": "execute_result"
    }
   ],
   "source": [
    "d = {4}\n",
    "type(d)"
   ]
  },
  {
   "cell_type": "code",
   "execution_count": 3,
   "metadata": {},
   "outputs": [],
   "source": [
    "# by default { } is the dict, but when we enter the element it becomes set.\n",
    "# With key and value pair it is dictionary."
   ]
  },
  {
   "cell_type": "markdown",
   "metadata": {},
   "source": [
    "### Defining the dictionary and indexing example"
   ]
  },
  {
   "cell_type": "code",
   "execution_count": 4,
   "metadata": {},
   "outputs": [
    {
     "name": "stdout",
     "output_type": "stream",
     "text": [
      "{'k': 44}\n",
      "44\n"
     ]
    }
   ],
   "source": [
    "d = {\"k\":44}\n",
    "print(d)\n",
    "print(d['k'])"
   ]
  },
  {
   "cell_type": "code",
   "execution_count": 5,
   "metadata": {},
   "outputs": [
    {
     "name": "stdout",
     "output_type": "stream",
     "text": [
      "{'k': 55}\n",
      "55\n"
     ]
    }
   ],
   "source": [
    "# We cant have same key. it overwrites with the latest one.\n",
    "\n",
    "d = {\"k\":44, \"k\":55}\n",
    "print(d)\n",
    "print(d['k'])"
   ]
  },
  {
   "cell_type": "code",
   "execution_count": 6,
   "metadata": {},
   "outputs": [
    {
     "name": "stdout",
     "output_type": "stream",
     "text": [
      "{55: 44}\n",
      "44\n"
     ]
    }
   ],
   "source": [
    "d = {55:44}         # we can use number as key\n",
    "print(d)\n",
    "print(d[55])"
   ]
  },
  {
   "cell_type": "code",
   "execution_count": 7,
   "metadata": {},
   "outputs": [
    {
     "name": "stdout",
     "output_type": "stream",
     "text": [
      "{True: 44}\n",
      "44\n"
     ]
    }
   ],
   "source": [
    "d = {True:44}       # we can use bool values as key\n",
    "print(d)\n",
    "print(d[True])"
   ]
  },
  {
   "cell_type": "code",
   "execution_count": 8,
   "metadata": {},
   "outputs": [
    {
     "ename": "SyntaxError",
     "evalue": "invalid syntax (<ipython-input-8-8dd10868c236>, line 1)",
     "output_type": "error",
     "traceback": [
      "\u001b[1;36m  File \u001b[1;32m\"<ipython-input-8-8dd10868c236>\"\u001b[1;36m, line \u001b[1;32m1\u001b[0m\n\u001b[1;33m    d = {@:445}            # special char cant be key itself\u001b[0m\n\u001b[1;37m         ^\u001b[0m\n\u001b[1;31mSyntaxError\u001b[0m\u001b[1;31m:\u001b[0m invalid syntax\n"
     ]
    }
   ],
   "source": [
    "d = {@:445}            # special char cant be key itself\n",
    "print(d)\n",
    "print(d[@])"
   ]
  },
  {
   "cell_type": "code",
   "execution_count": 9,
   "metadata": {},
   "outputs": [
    {
     "name": "stdout",
     "output_type": "stream",
     "text": [
      "{'@': 445}\n",
      "445\n"
     ]
    }
   ],
   "source": [
    "d = {'@':445}          # spl char in strings can be key.\n",
    "print(d)\n",
    "print(d['@'])"
   ]
  },
  {
   "cell_type": "code",
   "execution_count": 10,
   "metadata": {},
   "outputs": [
    {
     "ename": "TypeError",
     "evalue": "unhashable type: 'list'",
     "output_type": "error",
     "traceback": [
      "\u001b[1;31m---------------------------------------------------------------------------\u001b[0m",
      "\u001b[1;31mTypeError\u001b[0m                                 Traceback (most recent call last)",
      "\u001b[1;32m<ipython-input-10-a02fb399a69b>\u001b[0m in \u001b[0;36m<module>\u001b[1;34m\u001b[0m\n\u001b[1;32m----> 1\u001b[1;33m \u001b[0md\u001b[0m \u001b[1;33m=\u001b[0m \u001b[1;33m{\u001b[0m\u001b[1;33m[\u001b[0m\u001b[1;36m1\u001b[0m\u001b[1;33m,\u001b[0m\u001b[1;36m2\u001b[0m\u001b[1;33m,\u001b[0m\u001b[1;36m3\u001b[0m\u001b[1;33m]\u001b[0m\u001b[1;33m:\u001b[0m\u001b[1;36m445\u001b[0m\u001b[1;33m}\u001b[0m       \u001b[1;31m# containers cant be key\u001b[0m\u001b[1;33m\u001b[0m\u001b[1;33m\u001b[0m\u001b[0m\n\u001b[0m\u001b[0;32m      2\u001b[0m \u001b[0mprint\u001b[0m\u001b[1;33m(\u001b[0m\u001b[0md\u001b[0m\u001b[1;33m)\u001b[0m\u001b[1;33m\u001b[0m\u001b[1;33m\u001b[0m\u001b[0m\n\u001b[0;32m      3\u001b[0m \u001b[0mprint\u001b[0m\u001b[1;33m(\u001b[0m\u001b[0md\u001b[0m\u001b[1;33m[\u001b[0m\u001b[1;33m[\u001b[0m\u001b[1;36m1\u001b[0m\u001b[1;33m,\u001b[0m\u001b[1;36m2\u001b[0m\u001b[1;33m,\u001b[0m\u001b[1;36m3\u001b[0m\u001b[1;33m]\u001b[0m\u001b[1;33m]\u001b[0m\u001b[1;33m)\u001b[0m\u001b[1;33m\u001b[0m\u001b[1;33m\u001b[0m\u001b[0m\n",
      "\u001b[1;31mTypeError\u001b[0m: unhashable type: 'list'"
     ]
    }
   ],
   "source": [
    "d = {[1,2,3]:445}       # containers cant be key\n",
    "print(d)\n",
    "print(d[[1,2,3]])"
   ]
  },
  {
   "cell_type": "code",
   "execution_count": 11,
   "metadata": {},
   "outputs": [
    {
     "name": "stdout",
     "output_type": "stream",
     "text": [
      "{445: [1, 2, 3]}\n",
      "[1, 2, 3]\n"
     ]
    }
   ],
   "source": [
    "d = {445:[1,2,3]}       # containers can be value(lists, tuple, sets, dictionary as well)\n",
    "print(d)\n",
    "print(d[445])"
   ]
  },
  {
   "cell_type": "markdown",
   "metadata": {},
   "source": [
    "### Summary\n",
    "\n",
    "1) KEYS should be unique.  \n",
    "2) Number, bool value(true and False), strings can be used as Keys.   \n",
    "3) spl char(@,!,...), containers(list, tuple,...) cant be used as Keys.  \n",
    "4) spl char enclosed as strings can be used as Keys.  \n",
    "5) containers can be used as values."
   ]
  },
  {
   "cell_type": "code",
   "execution_count": null,
   "metadata": {},
   "outputs": [],
   "source": []
  },
  {
   "cell_type": "markdown",
   "metadata": {},
   "source": [
    "### Mutability of dictionary.\n",
    "\n",
    "Dict are mutable.  \n",
    "Below example shows the mutability of the dict.  "
   ]
  },
  {
   "cell_type": "code",
   "execution_count": 12,
   "metadata": {},
   "outputs": [
    {
     "data": {
      "text/plain": [
       "{'a': 123, 'b': 124, 'c': 125}"
      ]
     },
     "execution_count": 12,
     "metadata": {},
     "output_type": "execute_result"
    }
   ],
   "source": [
    "dict = {\"a\":123, \"b\":124,\"c\":125}\n",
    "dict"
   ]
  },
  {
   "cell_type": "code",
   "execution_count": 14,
   "metadata": {},
   "outputs": [],
   "source": [
    "dict[\"a\"] = dict[\"a\"] - 23"
   ]
  },
  {
   "cell_type": "code",
   "execution_count": 15,
   "metadata": {},
   "outputs": [
    {
     "data": {
      "text/plain": [
       "100"
      ]
     },
     "execution_count": 15,
     "metadata": {},
     "output_type": "execute_result"
    }
   ],
   "source": [
    "dict[\"a\"]"
   ]
  },
  {
   "cell_type": "code",
   "execution_count": 16,
   "metadata": {},
   "outputs": [
    {
     "data": {
      "text/plain": [
       "{'a': 100, 'b': 124, 'c': 125}"
      ]
     },
     "execution_count": 16,
     "metadata": {},
     "output_type": "execute_result"
    }
   ],
   "source": [
    "dict"
   ]
  },
  {
   "cell_type": "code",
   "execution_count": 17,
   "metadata": {},
   "outputs": [],
   "source": [
    "# We can even add a key value pair in the dict.\n",
    "# if the key exists, then it gets replaced.\n",
    "# if key does not exist, then it gets added."
   ]
  },
  {
   "cell_type": "code",
   "execution_count": 18,
   "metadata": {},
   "outputs": [
    {
     "data": {
      "text/plain": [
       "{'a': 100, 'b': 124, 'c': 125}"
      ]
     },
     "execution_count": 18,
     "metadata": {},
     "output_type": "execute_result"
    }
   ],
   "source": [
    "dict"
   ]
  },
  {
   "cell_type": "code",
   "execution_count": 20,
   "metadata": {},
   "outputs": [
    {
     "data": {
      "text/plain": [
       "{'a': 100, 'b': 124, 'c': 125, 'd': 126}"
      ]
     },
     "execution_count": 20,
     "metadata": {},
     "output_type": "execute_result"
    }
   ],
   "source": [
    "dict[\"d\"] = 126\n",
    "dict\n",
    "\n",
    "# \"d\" was not there i the dict, so it got added."
   ]
  },
  {
   "cell_type": "code",
   "execution_count": 22,
   "metadata": {},
   "outputs": [
    {
     "data": {
      "text/plain": [
       "{'a': 100, 'b': 124, 'c': 300, 'd': 126}"
      ]
     },
     "execution_count": 22,
     "metadata": {},
     "output_type": "execute_result"
    }
   ],
   "source": [
    "dict[\"c\"] = 300\n",
    "dict\n",
    "\n",
    "# \"c\" was present in the dict so it got updated."
   ]
  },
  {
   "cell_type": "code",
   "execution_count": null,
   "metadata": {},
   "outputs": [],
   "source": []
  },
  {
   "cell_type": "markdown",
   "metadata": {},
   "source": [
    "### Nested Dictionaries and its indexing"
   ]
  },
  {
   "cell_type": "code",
   "execution_count": 23,
   "metadata": {},
   "outputs": [
    {
     "name": "stdout",
     "output_type": "stream",
     "text": [
      "the dict is {'k': {2, 3, 4, 5, 6}, 'key01': [3, 4, 8, 6], 'key02': {'key01': 'swaroop', 'key02': 'gudhal'}}\n",
      "swaroop\n"
     ]
    }
   ],
   "source": [
    "# nesting a dict and taking out a value from it.\n",
    "\n",
    "d = {\"k\":{4,5,6,6,6,2,3}, 'key01': [3,4,8,6], 'key02' : {'key01':\"swaroop\" , 'key02':\"gudhal\"}}\n",
    "print(\"the dict is\",d)\n",
    "print(d['key02']['key01'])"
   ]
  },
  {
   "cell_type": "code",
   "execution_count": 33,
   "metadata": {},
   "outputs": [
    {
     "name": "stdout",
     "output_type": "stream",
     "text": [
      "{'nestkey': {'subnestkey': 'value'}}\n",
      "{'subnestkey': 'value'}\n",
      "value\n"
     ]
    }
   ],
   "source": [
    "s = {'key1':{'nestkey':{'subnestkey':'value'}}}\n",
    "print(s[\"key1\"])\n",
    "print(s['key1']['nestkey'])\n",
    "print(s['key1']['nestkey']['subnestkey'])"
   ]
  },
  {
   "cell_type": "code",
   "execution_count": null,
   "metadata": {},
   "outputs": [],
   "source": []
  },
  {
   "cell_type": "markdown",
   "metadata": {},
   "source": [
    "### Mutability of the nested dicts."
   ]
  },
  {
   "cell_type": "code",
   "execution_count": 16,
   "metadata": {},
   "outputs": [
    {
     "name": "stdout",
     "output_type": "stream",
     "text": [
      "{'k': {2, 3, 4, 5, 6}, 'key01': [3, 4, 8, 6], 'key02': {'key01': 'swaroop', 'key02': 'gudhal'}}\n",
      "{'k': {2, 3, 4, 5, 6}, 'key01': [3, 4, 8, 6], 'key02': {'key01': 'swaroop', 'key02': 'gudhal'}, 'key03': [1, 2, 3, 5, 6]}\n"
     ]
    }
   ],
   "source": [
    "# add new key value pair to the dict.\n",
    "\n",
    "d = {\"k\":{4,5,6,6,6,2,3}, 'key01': [3,4,8,6], 'key02' : {'key01':\"swaroop\" , 'key02':\"gudhal\"}}\n",
    "print(d)\n",
    "d[\"key03\"] = [1,2,3,5,6]\n",
    "print(d)"
   ]
  },
  {
   "cell_type": "code",
   "execution_count": null,
   "metadata": {},
   "outputs": [],
   "source": []
  },
  {
   "cell_type": "code",
   "execution_count": 17,
   "metadata": {},
   "outputs": [
    {
     "name": "stdout",
     "output_type": "stream",
     "text": [
      "{'k': {2, 3, 4, 5, 6}, 'key01': [3, 4, 8, 6], 'key02': {'key01': 'swaroop', 'key02': 'gudhal'}, 'key03': [1, 2, 3, 5, 6]}\n",
      "{'k': {2, 3, 4, 5, 6}, 'key01': [3, 4, 8, 6], 'key02': 'editted', 'key03': [1, 2, 3, 5, 6]}\n"
     ]
    }
   ],
   "source": [
    "# edit a value to the given key\n",
    "\n",
    "print(d)\n",
    "d[\"key02\"] = \"editted\"\n",
    "print(d)\n",
    "\n",
    "# if keys is available it edits it, if not it will add the new key value pair."
   ]
  },
  {
   "cell_type": "code",
   "execution_count": null,
   "metadata": {},
   "outputs": [],
   "source": []
  },
  {
   "cell_type": "markdown",
   "metadata": {},
   "source": [
    "### In case of same KEY value used."
   ]
  },
  {
   "cell_type": "code",
   "execution_count": 1,
   "metadata": {},
   "outputs": [
    {
     "name": "stdout",
     "output_type": "stream",
     "text": [
      "{'JJ': 25, 'DD': 50, 'EE': 44}\n"
     ]
    },
    {
     "data": {
      "text/plain": [
       "dict"
      ]
     },
     "execution_count": 1,
     "metadata": {},
     "output_type": "execute_result"
    }
   ],
   "source": [
    "mydict = {'JJ' : 25, 'DD' : 50, 'EE' : 44}\n",
    "print(mydict)\n",
    "type(mydict)"
   ]
  },
  {
   "cell_type": "markdown",
   "metadata": {},
   "source": [
    "Note the key 'DD' used twice in a dictionery. the one that is read at last will be stored as evident from the below example.  \n",
    "but for remove or pop in the list the condition runs till it satisfies one and loop stops.  \n",
    "Here the loop continues till end and last key value is stored ie. value gets over-written."
   ]
  },
  {
   "cell_type": "code",
   "execution_count": 2,
   "metadata": {},
   "outputs": [
    {
     "name": "stdout",
     "output_type": "stream",
     "text": [
      "{'JJ': 25, 'DD': 75, 'EE': 44}\n"
     ]
    }
   ],
   "source": [
    "mydict01 = {'JJ' : 25, 'DD' : 50, 'EE' : 44, 'DD': 75}\n",
    "print(mydict01) "
   ]
  },
  {
   "cell_type": "code",
   "execution_count": 3,
   "metadata": {},
   "outputs": [
    {
     "data": {
      "text/plain": [
       "75"
      ]
     },
     "execution_count": 3,
     "metadata": {},
     "output_type": "execute_result"
    }
   ],
   "source": [
    "mydict01['DD']                  # For indexing the value using the key"
   ]
  },
  {
   "cell_type": "code",
   "execution_count": 4,
   "metadata": {},
   "outputs": [
    {
     "data": {
      "text/plain": [
       "3"
      ]
     },
     "execution_count": 4,
     "metadata": {},
     "output_type": "execute_result"
    }
   ],
   "source": [
    "len(mydict01)                    # to know the length of the dict or number of key pair entries."
   ]
  },
  {
   "cell_type": "markdown",
   "metadata": {},
   "source": [
    "## Methods in dict."
   ]
  },
  {
   "cell_type": "code",
   "execution_count": 56,
   "metadata": {},
   "outputs": [],
   "source": [
    "d = {\"k\":{4,5,6,6,6,2,3}, 'key01': [3,4,8,6], 'key02' : {'key03':\"swaroop\" , 'key04':\"gudhal\"}}"
   ]
  },
  {
   "cell_type": "code",
   "execution_count": 57,
   "metadata": {},
   "outputs": [
    {
     "data": {
      "text/plain": [
       "dict_values([{2, 3, 4, 5, 6}, [3, 4, 8, 6], {'key03': 'swaroop', 'key04': 'gudhal'}])"
      ]
     },
     "execution_count": 57,
     "metadata": {},
     "output_type": "execute_result"
    }
   ],
   "source": [
    "# Returns only the values of the dict without keys.\n",
    "\n",
    "d.values()"
   ]
  },
  {
   "cell_type": "code",
   "execution_count": 49,
   "metadata": {},
   "outputs": [
    {
     "data": {
      "text/plain": [
       "dict_keys(['k', 'key01', 'key02'])"
      ]
     },
     "execution_count": 49,
     "metadata": {},
     "output_type": "execute_result"
    }
   ],
   "source": [
    "# Returns only the keys without values\n",
    "\n",
    "d.keys()"
   ]
  },
  {
   "cell_type": "code",
   "execution_count": 46,
   "metadata": {},
   "outputs": [
    {
     "data": {
      "text/plain": [
       "dict_items([('k', {2, 3, 4, 5, 6}), ('key01', [3, 4, 8, 6]), ('key02', {'key03': 'swaroop', 'key04': 'gudhal'})])"
      ]
     },
     "execution_count": 46,
     "metadata": {},
     "output_type": "execute_result"
    }
   ],
   "source": [
    "# returns the list of key value pairs in tuple.\n",
    "\n",
    "d.items()"
   ]
  },
  {
   "cell_type": "code",
   "execution_count": 4,
   "metadata": {},
   "outputs": [
    {
     "data": {
      "text/plain": [
       "{'k': {2, 3, 4, 5, 6},\n",
       " 'key01': [3, 4, 8, 6],\n",
       " 'key02': {'key03': 'swaroop', 'key04': 'gudhal'}}"
      ]
     },
     "execution_count": 4,
     "metadata": {},
     "output_type": "execute_result"
    }
   ],
   "source": [
    "# it creates the shallow copy of the dict.\n",
    "\n",
    "# by using f = d, we create deep copy and its a problem.\n",
    "\n",
    "f = d.copy()\n",
    "f"
   ]
  },
  {
   "cell_type": "code",
   "execution_count": 17,
   "metadata": {},
   "outputs": [
    {
     "data": {
      "text/plain": [
       "{2, 3, 4, 5, 6}"
      ]
     },
     "execution_count": 17,
     "metadata": {},
     "output_type": "execute_result"
    }
   ],
   "source": [
    "# returns the value of the key passed. If no key present returns the default value entered.\n",
    "\n",
    "d.get(\"k\", 500)"
   ]
  },
  {
   "cell_type": "code",
   "execution_count": 32,
   "metadata": {},
   "outputs": [
    {
     "name": "stdout",
     "output_type": "stream",
     "text": [
      "{2, 3, 4, 5, 6}\n",
      "{'key01': [3, 4, 8, 6], 'key02': {'key03': 'swaroop', 'key04': 'gudhal'}}\n"
     ]
    }
   ],
   "source": [
    "# deletes the key value pair from the dict of the key passed.\n",
    "# it returns only the value of the deleted pair.\n",
    "\n",
    "d = {\"k\":{4,5,6,6,6,2,3}, 'key01': [3,4,8,6], 'key02' : {'key03':\"swaroop\" , 'key04':\"gudhal\"}}\n",
    "print(d.pop(\"k\"))\n",
    "print(d)"
   ]
  },
  {
   "cell_type": "code",
   "execution_count": 39,
   "metadata": {},
   "outputs": [
    {
     "data": {
      "text/plain": [
       "('key01', [3, 4, 8, 6])"
      ]
     },
     "execution_count": 39,
     "metadata": {},
     "output_type": "execute_result"
    }
   ],
   "source": [
    "# .pop() removes the pair of ey passed.\n",
    "# .popitem() removes the last pair.\n",
    "\n",
    "d = {\"k\":{4,5,6,6,6,2,3}, 'key01': [3,4,8,6], 'key02' : {'key03':\"swaroop\" , 'key04':\"gudhal\"}}\n",
    "d.popitem()\n",
    "d.popitem()"
   ]
  },
  {
   "cell_type": "code",
   "execution_count": 48,
   "metadata": {},
   "outputs": [
    {
     "data": {
      "text/plain": [
       "{'k': {2, 3, 4, 5, 6},\n",
       " 'key01': [3, 4, 8, 6],\n",
       " 'key02': {'key03': 'swaroop', 'key04': 'gudhal'},\n",
       " 'k22': 250}"
      ]
     },
     "execution_count": 48,
     "metadata": {},
     "output_type": "execute_result"
    }
   ],
   "source": [
    "# adds a default value to the dict if key is not present.\n",
    "\n",
    "d.setdefault(\"k22\", 250)\n",
    "d"
   ]
  },
  {
   "cell_type": "code",
   "execution_count": null,
   "metadata": {},
   "outputs": [],
   "source": []
  },
  {
   "cell_type": "code",
   "execution_count": 51,
   "metadata": {},
   "outputs": [],
   "source": [
    "# deletes every pairs in the dict and returns an empty dict. \n",
    "\n",
    "d.clear()"
   ]
  },
  {
   "cell_type": "code",
   "execution_count": null,
   "metadata": {},
   "outputs": [],
   "source": []
  },
  {
   "cell_type": "code",
   "execution_count": 54,
   "metadata": {},
   "outputs": [
    {
     "name": "stdout",
     "output_type": "stream",
     "text": [
      "k\n",
      "key01\n",
      "key02\n"
     ]
    }
   ],
   "source": [
    "# iteration test in dict\n",
    "\n",
    "# returns only key\n",
    "d = {\"k\":{4,5,6,6,6,2,3}, 'key01': [3,4,8,6], 'key02' : {'key03':\"swaroop\" , 'key04':\"gudhal\"}}\n",
    "for i in d:\n",
    "    print(i)"
   ]
  },
  {
   "cell_type": "code",
   "execution_count": 55,
   "metadata": {},
   "outputs": [
    {
     "name": "stdout",
     "output_type": "stream",
     "text": [
      "{2, 3, 4, 5, 6}\n",
      "[3, 4, 8, 6]\n",
      "{'key03': 'swaroop', 'key04': 'gudhal'}\n"
     ]
    }
   ],
   "source": [
    "# returns only value\n",
    "\n",
    "for i in d:\n",
    "    print(d[i])"
   ]
  },
  {
   "cell_type": "code",
   "execution_count": 58,
   "metadata": {},
   "outputs": [
    {
     "name": "stdout",
     "output_type": "stream",
     "text": [
      "{2, 3, 4, 5, 6}\n",
      "[3, 4, 8, 6]\n",
      "{'key03': 'swaroop', 'key04': 'gudhal'}\n"
     ]
    }
   ],
   "source": [
    "for i in d.values():   # similar to above\n",
    "    print(i)"
   ]
  },
  {
   "cell_type": "code",
   "execution_count": null,
   "metadata": {},
   "outputs": [],
   "source": []
  },
  {
   "cell_type": "code",
   "execution_count": 22,
   "metadata": {},
   "outputs": [
    {
     "data": {
      "text/plain": [
       "dict_items([('k', {2, 3, 4, 5, 6}), ('key01', [3, 4, 8, 6]), ('key02', 'editted'), ('key03', [1, 2, 3, 5, 6])])"
      ]
     },
     "execution_count": 22,
     "metadata": {},
     "output_type": "execute_result"
    }
   ],
   "source": [
    "# get tuple of key and value pair\n",
    "\n",
    "d.items()"
   ]
  },
  {
   "cell_type": "code",
   "execution_count": null,
   "metadata": {},
   "outputs": [],
   "source": []
  },
  {
   "cell_type": "code",
   "execution_count": 23,
   "metadata": {},
   "outputs": [
    {
     "data": {
      "text/plain": [
       "dict_values([{2, 3, 4, 5, 6}, [3, 4, 8, 6], 'editted', [1, 2, 3, 5, 6]])"
      ]
     },
     "execution_count": 23,
     "metadata": {},
     "output_type": "execute_result"
    }
   ],
   "source": [
    "# get all the values of dict\n",
    "\n",
    "d.values()"
   ]
  },
  {
   "cell_type": "code",
   "execution_count": null,
   "metadata": {},
   "outputs": [],
   "source": []
  },
  {
   "cell_type": "markdown",
   "metadata": {},
   "source": [
    "### Dictionary Comprehensions"
   ]
  },
  {
   "cell_type": "code",
   "execution_count": 59,
   "metadata": {},
   "outputs": [
    {
     "data": {
      "text/plain": [
       "{0: 0, 1: 1, 2: 4, 3: 9, 4: 16, 5: 25, 6: 36, 7: 49, 8: 64, 9: 81}"
      ]
     },
     "execution_count": 59,
     "metadata": {},
     "output_type": "execute_result"
    }
   ],
   "source": [
    "# dictionary comprehension\n",
    "\n",
    "{i:i**2 for i in range(10)}"
   ]
  },
  {
   "cell_type": "code",
   "execution_count": 64,
   "metadata": {},
   "outputs": [
    {
     "data": {
      "text/plain": [
       "{(1, 2): 3, (2, 3): 5, (3, 4): 7, (7, 8): 15, (8, 9): 17, (9, 10): 19}"
      ]
     },
     "execution_count": 64,
     "metadata": {},
     "output_type": "execute_result"
    }
   ],
   "source": [
    "{(i,i+1):i+(i+1) for i in [1,2,3,7,8,9]}"
   ]
  },
  {
   "cell_type": "code",
   "execution_count": null,
   "metadata": {},
   "outputs": [],
   "source": []
  },
  {
   "cell_type": "code",
   "execution_count": 63,
   "metadata": {},
   "outputs": [
    {
     "name": "stdout",
     "output_type": "stream",
     "text": [
      "[23, 78, 78]\n",
      "k2\n",
      "k3\n"
     ]
    }
   ],
   "source": [
    "# code to get find the max value in the dict and then return the key of it.\n",
    "\n",
    "d = {'k1':23,'k2':78,'k3':78}\n",
    "l=[]\n",
    "for i in d.items():\n",
    "    l.append(i[1])\n",
    "print(l)\n",
    "max(l)\n",
    "d.items()\n",
    "for i in d.items():\n",
    "    if i[1]==max(l):\n",
    "        print(i[0])"
   ]
  },
  {
   "cell_type": "code",
   "execution_count": null,
   "metadata": {},
   "outputs": [],
   "source": []
  }
 ],
 "metadata": {
  "kernelspec": {
   "display_name": "Python 3",
   "language": "python",
   "name": "python3"
  },
  "language_info": {
   "codemirror_mode": {
    "name": "ipython",
    "version": 3
   },
   "file_extension": ".py",
   "mimetype": "text/x-python",
   "name": "python",
   "nbconvert_exporter": "python",
   "pygments_lexer": "ipython3",
   "version": "3.7.4"
  }
 },
 "nbformat": 4,
 "nbformat_minor": 2
}
