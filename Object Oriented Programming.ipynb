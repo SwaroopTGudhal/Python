{
 "cells": [
  {
   "cell_type": "markdown",
   "metadata": {},
   "source": [
    "# Class and object\n",
    "\n",
    "class is a definition, a blue print to create an object.  \n",
    "Classes are objects that we can see in the real time.  \n",
    "Classes is a real world object. They have some property and methods.  \n",
    "\n",
    "Example: CAR is a class. audi is an object.  \n",
    "\n",
    "## Syntax:   \n",
    "class class_name:  \n",
    "    ........  \n",
    "    ........  \n",
    "    ........  \n",
    "\n",
    "object is an encapsulated code with functions, variables and data.  \n",
    "objects are created form the blue print and assigned a name.  \n",
    "OOP makes the coding modular, easy to understand and reuse.  \n",
    "\n",
    "#### 4 pillars of OOPS\n",
    "1> Inheritance  \n",
    "2> Polymorphism  \n",
    "3> Encapsulation  \n",
    "4> abstraction  "
   ]
  },
  {
   "cell_type": "code",
   "execution_count": 1,
   "metadata": {},
   "outputs": [],
   "source": [
    "# defining the class.\n",
    "\n",
    "# class class_name:\n",
    "\n",
    "class car:\n",
    "    pass"
   ]
  },
  {
   "cell_type": "code",
   "execution_count": 52,
   "metadata": {},
   "outputs": [],
   "source": [
    "# initializing an object\n",
    "\n",
    "bmw = car()"
   ]
  },
  {
   "cell_type": "code",
   "execution_count": 53,
   "metadata": {},
   "outputs": [
    {
     "data": {
      "text/plain": [
       "<__main__.car at 0x1ce99783e48>"
      ]
     },
     "execution_count": 53,
     "metadata": {},
     "output_type": "execute_result"
    }
   ],
   "source": [
    "bmw"
   ]
  },
  {
   "cell_type": "code",
   "execution_count": 54,
   "metadata": {},
   "outputs": [
    {
     "data": {
      "text/plain": [
       "__main__.car"
      ]
     },
     "execution_count": 54,
     "metadata": {},
     "output_type": "execute_result"
    }
   ],
   "source": [
    "type(bmw)"
   ]
  },
  {
   "cell_type": "code",
   "execution_count": 55,
   "metadata": {},
   "outputs": [
    {
     "data": {
      "text/plain": [
       "True"
      ]
     },
     "execution_count": 55,
     "metadata": {},
     "output_type": "execute_result"
    }
   ],
   "source": [
    "bmw.wheels = 4               # property\n",
    "bmw.brakes = True            # property\n",
    "bmw.brakes"
   ]
  },
  {
   "cell_type": "code",
   "execution_count": 56,
   "metadata": {},
   "outputs": [],
   "source": [
    "audi = car()"
   ]
  },
  {
   "cell_type": "code",
   "execution_count": 57,
   "metadata": {},
   "outputs": [
    {
     "data": {
      "text/plain": [
       "True"
      ]
     },
     "execution_count": 57,
     "metadata": {},
     "output_type": "execute_result"
    }
   ],
   "source": [
    "audi.wheels = 4               # property\n",
    "audi.brakes = True            # property\n",
    "audi.brakes"
   ]
  },
  {
   "cell_type": "code",
   "execution_count": 59,
   "metadata": {},
   "outputs": [
    {
     "data": {
      "text/plain": [
       "['__class__',\n",
       " '__delattr__',\n",
       " '__dict__',\n",
       " '__dir__',\n",
       " '__doc__',\n",
       " '__eq__',\n",
       " '__format__',\n",
       " '__ge__',\n",
       " '__getattribute__',\n",
       " '__gt__',\n",
       " '__hash__',\n",
       " '__init__',\n",
       " '__init_subclass__',\n",
       " '__le__',\n",
       " '__lt__',\n",
       " '__module__',\n",
       " '__ne__',\n",
       " '__new__',\n",
       " '__reduce__',\n",
       " '__reduce_ex__',\n",
       " '__repr__',\n",
       " '__setattr__',\n",
       " '__sizeof__',\n",
       " '__str__',\n",
       " '__subclasshook__',\n",
       " '__weakref__',\n",
       " 'brakes',\n",
       " 'wheels']"
      ]
     },
     "execution_count": 59,
     "metadata": {},
     "output_type": "execute_result"
    }
   ],
   "source": [
    "dir(audi)                      # __init__ is an constructor"
   ]
  },
  {
   "cell_type": "code",
   "execution_count": null,
   "metadata": {},
   "outputs": [],
   "source": []
  },
  {
   "cell_type": "code",
   "execution_count": 60,
   "metadata": {},
   "outputs": [],
   "source": [
    "class Person:\n",
    "    pass\n",
    "\n",
    "# we can create a class without creating the body."
   ]
  },
  {
   "cell_type": "code",
   "execution_count": 63,
   "metadata": {},
   "outputs": [
    {
     "name": "stdout",
     "output_type": "stream",
     "text": [
      "<__main__.Person object at 0x000001CE99775748>\n"
     ]
    }
   ],
   "source": [
    "jhon_duff = Person()         # creating a variable of class\n",
    "jhon_duff.name = \"Alen\"      # object.name\n",
    "jhon_duff.surname = \"walker\" # object.surname\n",
    "\n",
    "print(jhon_duff)            #printing(object)\n",
    "\n",
    "# object is the key for access the variables and attributes in the class."
   ]
  },
  {
   "cell_type": "code",
   "execution_count": 65,
   "metadata": {},
   "outputs": [
    {
     "name": "stdout",
     "output_type": "stream",
     "text": [
      "Alen\n",
      "walker\n"
     ]
    }
   ],
   "source": [
    "print(jhon_duff.name)        # printing variables of the object\n",
    "print(jhon_duff.surname)"
   ]
  },
  {
   "cell_type": "code",
   "execution_count": null,
   "metadata": {},
   "outputs": [],
   "source": []
  },
  {
   "cell_type": "code",
   "execution_count": 67,
   "metadata": {},
   "outputs": [
    {
     "name": "stdout",
     "output_type": "stream",
     "text": [
      "<__main__.Person object at 0x000001CE998BD888>\n",
      "Swaroop\n",
      "Gudhal\n",
      "1996\n"
     ]
    }
   ],
   "source": [
    "# self is a pointer not an argument.\n",
    "# INIT will be called automatically called when we create object of a class. \n",
    "\n",
    "class Person: \n",
    "    def __init__(self, name, surname, dob):\n",
    "        self.name = name\n",
    "        self.surname = surname\n",
    "        self.dob = dob\n",
    "\n",
    "alen = Person(\"Swaroop\", \"Gudhal\", 1996)\n",
    "print(alen)\n",
    "print(alen.name)\n",
    "print(alen.surname)\n",
    "print(alen.dob)"
   ]
  },
  {
   "cell_type": "code",
   "execution_count": 68,
   "metadata": {},
   "outputs": [
    {
     "name": "stdout",
     "output_type": "stream",
     "text": [
      "<__main__.Person object at 0x000001CE99778C08>\n",
      "Swaroop\n",
      "Gudhal\n",
      "1996\n"
     ]
    }
   ],
   "source": [
    "# a is a pointer not an argument.\n",
    "\n",
    "class Person:\n",
    "    def __init__(a, name, surname, dob):\n",
    "        a.name = name\n",
    "        a.surname = surname\n",
    "        a.dob = dob\n",
    "\n",
    "alen = Person(\"Swaroop\", \"Gudhal\", 1996)\n",
    "print(alen)\n",
    "print(alen.name)\n",
    "print(alen.surname)\n",
    "print(alen.dob)"
   ]
  },
  {
   "cell_type": "code",
   "execution_count": 69,
   "metadata": {},
   "outputs": [
    {
     "data": {
      "text/plain": [
       "['__class__',\n",
       " '__delattr__',\n",
       " '__dict__',\n",
       " '__dir__',\n",
       " '__doc__',\n",
       " '__eq__',\n",
       " '__format__',\n",
       " '__ge__',\n",
       " '__getattribute__',\n",
       " '__gt__',\n",
       " '__hash__',\n",
       " '__init__',\n",
       " '__init_subclass__',\n",
       " '__le__',\n",
       " '__lt__',\n",
       " '__module__',\n",
       " '__ne__',\n",
       " '__new__',\n",
       " '__reduce__',\n",
       " '__reduce_ex__',\n",
       " '__repr__',\n",
       " '__setattr__',\n",
       " '__sizeof__',\n",
       " '__str__',\n",
       " '__subclasshook__',\n",
       " '__weakref__']"
      ]
     },
     "execution_count": 69,
     "metadata": {},
     "output_type": "execute_result"
    }
   ],
   "source": [
    "dir(Person)            # see end of O/P"
   ]
  },
  {
   "cell_type": "code",
   "execution_count": 71,
   "metadata": {},
   "outputs": [
    {
     "data": {
      "text/plain": [
       "['__class__',\n",
       " '__delattr__',\n",
       " '__dict__',\n",
       " '__dir__',\n",
       " '__doc__',\n",
       " '__eq__',\n",
       " '__format__',\n",
       " '__ge__',\n",
       " '__getattribute__',\n",
       " '__gt__',\n",
       " '__hash__',\n",
       " '__init__',\n",
       " '__init_subclass__',\n",
       " '__le__',\n",
       " '__lt__',\n",
       " '__module__',\n",
       " '__ne__',\n",
       " '__new__',\n",
       " '__reduce__',\n",
       " '__reduce_ex__',\n",
       " '__repr__',\n",
       " '__setattr__',\n",
       " '__sizeof__',\n",
       " '__str__',\n",
       " '__subclasshook__',\n",
       " '__weakref__',\n",
       " 'dob',\n",
       " 'name',\n",
       " 'surname']"
      ]
     },
     "execution_count": 71,
     "metadata": {},
     "output_type": "execute_result"
    }
   ],
   "source": [
    "dir(alen)                      # see the end of O/P"
   ]
  },
  {
   "cell_type": "code",
   "execution_count": 72,
   "metadata": {},
   "outputs": [
    {
     "name": "stdout",
     "output_type": "stream",
     "text": [
      "<__main__.Person object at 0x000001CE998E09C8>\n",
      "Swaroop Gudhal was born in 1996\n"
     ]
    }
   ],
   "source": [
    "alen = Person(\"Swaroop\", \"Gudhal\", 1996)\n",
    "print(alen)\n",
    "print(\"%s %s was born in %d\" % (alen.name, alen.surname, alen.dob))"
   ]
  },
  {
   "cell_type": "code",
   "execution_count": null,
   "metadata": {},
   "outputs": [],
   "source": []
  },
  {
   "cell_type": "code",
   "execution_count": 2,
   "metadata": {},
   "outputs": [
    {
     "name": "stdout",
     "output_type": "stream",
     "text": [
      "swaroop gudhal is the name. id is 1369987.\n"
     ]
    }
   ],
   "source": [
    "first = \"swaroop\"\n",
    "last = \"gudhal\"\n",
    "empid = 1369987\n",
    "print(\"%s %s is the name. id is %d.\" % (first, last,empid))"
   ]
  },
  {
   "cell_type": "markdown",
   "metadata": {},
   "source": [
    "### Creating methods in class"
   ]
  },
  {
   "cell_type": "code",
   "execution_count": 11,
   "metadata": {},
   "outputs": [
    {
     "name": "stdout",
     "output_type": "stream",
     "text": [
      "Swaroop Gudhal was born in 1996\n",
      "Swaroop\n",
      "Gudhal\n",
      "24\n"
     ]
    }
   ],
   "source": [
    "class Person:\n",
    "    def __init__(a, name, surname, dob):         # inbuilt method\n",
    "        a.name = name\n",
    "        a.surname = surname\n",
    "        a.dob = dob\n",
    "    def age(a, this_year):                         # defined new method\n",
    "        return this_year-a.dob\n",
    "    def __str__(a):                              # inbuilt methods\n",
    "        return \"%s %s was born in %d\" % (a.name, a.surname, a.dob)\n",
    "\n",
    "\n",
    "# when we use __str__ in class and print the object, it will not display the\n",
    "#object name and location. It displays the print statement in __str__.\n",
    "\n",
    "alen = Person(\"Swaroop\", \"Gudhal\", 1996)\n",
    "print(alen)\n",
    "print(alen.name)\n",
    "print(alen.surname)\n",
    "print(alen.age(2020))\n",
    "\n",
    "#We can create the class with the __init__ method, but it is a bad practice to do so.\n",
    "# as per standards it is suitable to use "
   ]
  },
  {
   "cell_type": "code",
   "execution_count": 12,
   "metadata": {},
   "outputs": [],
   "source": [
    "class Person:\n",
    "    def __init__(a, name, surname, dob):         # inbuilt method\n",
    "        a.name = name\n",
    "        a.surname = surname\n",
    "        a.dob = dob\n",
    "    def age(a, this_year):                         # defined new method\n",
    "        return this_year-a.dob\n",
    "    def __str__(a):                              # inbuilt methods\n",
    "        return \"%s %s was born in %d\" % (a.name, a.surname, a.dob)"
   ]
  },
  {
   "cell_type": "code",
   "execution_count": 13,
   "metadata": {},
   "outputs": [
    {
     "name": "stdout",
     "output_type": "stream",
     "text": [
      "alen walker was born in 1996\n"
     ]
    },
    {
     "data": {
      "text/plain": [
       "<__main__.Person at 0x21b0cbe5108>"
      ]
     },
     "execution_count": 13,
     "metadata": {},
     "output_type": "execute_result"
    }
   ],
   "source": [
    "alen = Person(\"alen\", \"walker\", 1996)\n",
    "print(alen)\n",
    "alen\n",
    "\n",
    "# check the output for alen and print(alen). This is because we have __str__\n",
    "#method called in the person class."
   ]
  },
  {
   "cell_type": "code",
   "execution_count": 16,
   "metadata": {},
   "outputs": [
    {
     "data": {
      "text/plain": [
       "4"
      ]
     },
     "execution_count": 16,
     "metadata": {},
     "output_type": "execute_result"
    }
   ],
   "source": [
    "alen.age(2000)"
   ]
  },
  {
   "cell_type": "code",
   "execution_count": null,
   "metadata": {},
   "outputs": [],
   "source": []
  },
  {
   "cell_type": "code",
   "execution_count": 75,
   "metadata": {},
   "outputs": [
    {
     "ename": "TypeError",
     "evalue": "__init__() missing 3 required positional arguments: 'name', 'surname', and 'dob'",
     "output_type": "error",
     "traceback": [
      "\u001b[1;31m---------------------------------------------------------------------------\u001b[0m",
      "\u001b[1;31mTypeError\u001b[0m                                 Traceback (most recent call last)",
      "\u001b[1;32m<ipython-input-75-07880f861522>\u001b[0m in \u001b[0;36m<module>\u001b[1;34m\u001b[0m\n\u001b[1;32m----> 1\u001b[1;33m \u001b[0mpresident\u001b[0m \u001b[1;33m=\u001b[0m \u001b[0mPerson\u001b[0m\u001b[1;33m(\u001b[0m\u001b[1;33m)\u001b[0m\u001b[1;33m\u001b[0m\u001b[1;33m\u001b[0m\u001b[0m\n\u001b[0m",
      "\u001b[1;31mTypeError\u001b[0m: __init__() missing 3 required positional arguments: 'name', 'surname', and 'dob'"
     ]
    }
   ],
   "source": [
    "president = Person()"
   ]
  },
  {
   "cell_type": "code",
   "execution_count": 76,
   "metadata": {},
   "outputs": [
    {
     "ename": "NameError",
     "evalue": "name 'president' is not defined",
     "output_type": "error",
     "traceback": [
      "\u001b[1;31m---------------------------------------------------------------------------\u001b[0m",
      "\u001b[1;31mNameError\u001b[0m                                 Traceback (most recent call last)",
      "\u001b[1;32m<ipython-input-76-b13ace168670>\u001b[0m in \u001b[0;36m<module>\u001b[1;34m\u001b[0m\n\u001b[1;32m----> 1\u001b[1;33m \u001b[0mprint\u001b[0m\u001b[1;33m(\u001b[0m\u001b[0mpresident\u001b[0m\u001b[1;33m.\u001b[0m\u001b[0mname\u001b[0m\u001b[1;33m)\u001b[0m\u001b[1;33m\u001b[0m\u001b[1;33m\u001b[0m\u001b[0m\n\u001b[0m",
      "\u001b[1;31mNameError\u001b[0m: name 'president' is not defined"
     ]
    }
   ],
   "source": [
    "print(president.name)"
   ]
  },
  {
   "cell_type": "markdown",
   "metadata": {},
   "source": [
    "## Protect your abstraction\n",
    "\n",
    "Protects the code from the user. The user will not be able to get what the  \n",
    "backgound coding is doing .\n",
    "\n",
    "In python we dont have private ,public or protected.  \n",
    "\n",
    "__ double underscore = private  \n",
    "\n",
    "_ single underscore = protected  "
   ]
  },
  {
   "cell_type": "code",
   "execution_count": 82,
   "metadata": {},
   "outputs": [
    {
     "name": "stdout",
     "output_type": "stream",
     "text": [
      "Swaroop Gudhal was born in 1996\n",
      "Swaroop\n",
      "Gudhal\n",
      "24\n"
     ]
    }
   ],
   "source": [
    "# for protected mode\n",
    "\n",
    "class Person:\n",
    "    def __init__(a, name, surname, dob):         # inbuilt method\n",
    "        a._name = name\n",
    "        a._surname = surname\n",
    "        a._dob = dob\n",
    "    def age(a, this_year):                         # defined new method\n",
    "        return this_year-a._dob\n",
    "    def __str__(a):                              # inbuilt methods\n",
    "        return \"%s %s was born in %d\" % (a._name, a._surname, a._dob)\n",
    "\n",
    "alen = Person(\"Swaroop\", \"Gudhal\", 1996)\n",
    "print(alen)\n",
    "print(alen._name)\n",
    "print(alen._surname)\n",
    "print(alen.age(2020))"
   ]
  },
  {
   "cell_type": "code",
   "execution_count": 86,
   "metadata": {},
   "outputs": [
    {
     "name": "stdout",
     "output_type": "stream",
     "text": [
      "Swaroop Gudhal was born in 1996\n"
     ]
    },
    {
     "ename": "AttributeError",
     "evalue": "'Person' object has no attribute '__name'",
     "output_type": "error",
     "traceback": [
      "\u001b[1;31m---------------------------------------------------------------------------\u001b[0m",
      "\u001b[1;31mAttributeError\u001b[0m                            Traceback (most recent call last)",
      "\u001b[1;32m<ipython-input-86-5fe8a86d3d29>\u001b[0m in \u001b[0;36m<module>\u001b[1;34m\u001b[0m\n\u001b[0;32m     13\u001b[0m \u001b[0malen\u001b[0m \u001b[1;33m=\u001b[0m \u001b[0mPerson\u001b[0m\u001b[1;33m(\u001b[0m\u001b[1;34m\"Swaroop\"\u001b[0m\u001b[1;33m,\u001b[0m \u001b[1;34m\"Gudhal\"\u001b[0m\u001b[1;33m,\u001b[0m \u001b[1;36m1996\u001b[0m\u001b[1;33m)\u001b[0m\u001b[1;33m\u001b[0m\u001b[1;33m\u001b[0m\u001b[0m\n\u001b[0;32m     14\u001b[0m \u001b[0mprint\u001b[0m\u001b[1;33m(\u001b[0m\u001b[0malen\u001b[0m\u001b[1;33m)\u001b[0m\u001b[1;33m\u001b[0m\u001b[1;33m\u001b[0m\u001b[0m\n\u001b[1;32m---> 15\u001b[1;33m \u001b[0mprint\u001b[0m\u001b[1;33m(\u001b[0m\u001b[0malen\u001b[0m\u001b[1;33m.\u001b[0m\u001b[0m__name\u001b[0m\u001b[1;33m)\u001b[0m\u001b[1;33m\u001b[0m\u001b[1;33m\u001b[0m\u001b[0m\n\u001b[0m\u001b[0;32m     16\u001b[0m \u001b[0mprint\u001b[0m\u001b[1;33m(\u001b[0m\u001b[0malen\u001b[0m\u001b[1;33m.\u001b[0m\u001b[0m__surname\u001b[0m\u001b[1;33m)\u001b[0m\u001b[1;33m\u001b[0m\u001b[1;33m\u001b[0m\u001b[0m\n\u001b[0;32m     17\u001b[0m \u001b[0mprint\u001b[0m\u001b[1;33m(\u001b[0m\u001b[0malen\u001b[0m\u001b[1;33m.\u001b[0m\u001b[0mage\u001b[0m\u001b[1;33m(\u001b[0m\u001b[1;36m2020\u001b[0m\u001b[1;33m)\u001b[0m\u001b[1;33m)\u001b[0m\u001b[1;33m\u001b[0m\u001b[1;33m\u001b[0m\u001b[0m\n",
      "\u001b[1;31mAttributeError\u001b[0m: 'Person' object has no attribute '__name'"
     ]
    }
   ],
   "source": [
    "# for private mode\n",
    "\n",
    "class Person:\n",
    "    def __init__(a, name, surname, dob):         # inbuilt method\n",
    "        a.__name = name\n",
    "        a.__surname = surname\n",
    "        a.__dob = dob\n",
    "    def age(a, this_year):                         # defined new method\n",
    "        return this_year-a.__dob\n",
    "    def __str__(a):                              # inbuilt methods\n",
    "        return \"%s %s was born in %d\" % (a.__name, a.__surname, a.__dob)\n",
    "\n",
    "alen = Person(\"Swaroop\", \"Gudhal\", 1996)\n",
    "print(alen)\n",
    "print(alen.__name)\n",
    "print(alen.__surname)\n",
    "print(alen.age(2020))\n",
    "\n",
    "# PLease note that since the variable name is private in class we cants call it with object only.\n",
    "# therefore we call the class along with attribute.( as below )"
   ]
  },
  {
   "cell_type": "code",
   "execution_count": 89,
   "metadata": {},
   "outputs": [
    {
     "name": "stdout",
     "output_type": "stream",
     "text": [
      "Swaroop Gudhal was born in 1996\n",
      "Swaroop\n",
      "Gudhal\n",
      "24\n"
     ]
    }
   ],
   "source": [
    "print(alen)\n",
    "print(alen._Person__name)\n",
    "print(alen._Person__surname)\n",
    "print(alen.age(2020))"
   ]
  },
  {
   "cell_type": "code",
   "execution_count": null,
   "metadata": {},
   "outputs": [],
   "source": []
  },
  {
   "cell_type": "markdown",
   "metadata": {},
   "source": [
    "## Inheritance\n",
    "\n",
    "It is used to transfer attributes from class to the child class.  \n",
    "Similar to the inheritance in humans.  \n",
    "\n",
    "In other languages we have \"extend\" key word. in python we dont have it.  \n",
    "\n",
    "Child class is releted to the parent class.  \n",
    "But the parent class is not related to child class.  \n",
    "\n",
    "Object class is the parent class of every class.  "
   ]
  },
  {
   "cell_type": "code",
   "execution_count": 31,
   "metadata": {},
   "outputs": [
    {
     "name": "stdout",
     "output_type": "stream",
     "text": [
      "123\n",
      "charlie\n",
      "<class '__main__.Student'>\n",
      "True\n",
      "True\n"
     ]
    }
   ],
   "source": [
    "class Student(Person):                          # person class passed as arg in Student class\n",
    "    def __init__(self,student_id, *args):       #(self-pointer), (local var of student-student_id), (*args - brings all the attributes from parent to child class).\n",
    "        super(Student, self).__init__(*args)    #( super of student - Person class), (_init_ - from person class to child class)\n",
    "        self._student_id = student_id           #creating local attribute.\n",
    "\n",
    "# Super is a keyword that points to the immediate parent of a class.\n",
    "        \n",
    "charlie = Student(123, \"charlie\",\"brown\",1996)\n",
    "print(charlie._student_id)\n",
    "print(charlie.name)\n",
    "print(type(charlie))\n",
    "print(isinstance(charlie,Person))               # Is charlie a variable of person class?\n",
    "print(isinstance(charlie, object))              # Is charlie a variable of the object?"
   ]
  },
  {
   "cell_type": "code",
   "execution_count": 57,
   "metadata": {},
   "outputs": [
    {
     "data": {
      "text/plain": [
       "(__main__.Student, __main__.Person, object)"
      ]
     },
     "execution_count": 57,
     "metadata": {},
     "output_type": "execute_result"
    }
   ],
   "source": [
    "Student.__mro__  #(MRO - method resolution order)\n",
    "                 # shows tree of class checked from called class to top class."
   ]
  },
  {
   "cell_type": "markdown",
   "metadata": {},
   "source": [
    "## Multiple Inheritance\n",
    "\n",
    "## multi level inheritance\n",
    "\n",
    "\n",
    "."
   ]
  },
  {
   "cell_type": "code",
   "execution_count": 66,
   "metadata": {},
   "outputs": [
    {
     "data": {
      "text/plain": [
       "(__main__.D, __main__.A, __main__.B, __main__.C, object)"
      ]
     },
     "execution_count": 66,
     "metadata": {},
     "output_type": "execute_result"
    }
   ],
   "source": [
    "class A:\n",
    "    pass\n",
    "class B:\n",
    "    pass\n",
    "class C:\n",
    "    pass\n",
    "class D (A,B,C):    # multiple inheritance\n",
    "    pass\n",
    "D.__mro__"
   ]
  },
  {
   "cell_type": "code",
   "execution_count": 67,
   "metadata": {},
   "outputs": [
    {
     "data": {
      "text/plain": [
       "(__main__.D, __main__.C, __main__.B, __main__.A, object)"
      ]
     },
     "execution_count": 67,
     "metadata": {},
     "output_type": "execute_result"
    }
   ],
   "source": [
    "# multi level inheritance.\n",
    "class A:\n",
    "    pass\n",
    "class B(A):  \n",
    "    pass\n",
    "class C(B):\n",
    "    pass\n",
    "class D(C):    \n",
    "    pass\n",
    "\n",
    "D.__mro__"
   ]
  },
  {
   "cell_type": "code",
   "execution_count": null,
   "metadata": {},
   "outputs": [],
   "source": []
  },
  {
   "cell_type": "code",
   "execution_count": null,
   "metadata": {},
   "outputs": [],
   "source": []
  },
  {
   "cell_type": "markdown",
   "metadata": {},
   "source": [
    "## Method Overriding\n",
    "\n",
    "Basic diff between overloading and overriding:  \n",
    "overloading occurs in single/same class.  \n",
    "overriding occurs in different classes, when we have inheritance concept.  \n",
    "without parent and child arcitecture overriding is not possible.  \n",
    "\n",
    "\n",
    "#### Please refer to the below two cells: \n",
    "\n",
    "In the second class we dont have age method in the student class.  \n",
    "It is called from the parent class ie from person.  \n",
    "\n",
    "In the first cell we can see that new method with same name age is defined in the class student. so in this case the age method is overridden from the parent class and replaced with the new age method."
   ]
  },
  {
   "cell_type": "code",
   "execution_count": 36,
   "metadata": {},
   "outputs": [
    {
     "name": "stdout",
     "output_type": "stream",
     "text": [
      "charlie brown was born in 1996 And has ID: 1\n",
      "2010\n"
     ]
    }
   ],
   "source": [
    "class Student(Person):\n",
    "    def __init__(self, student_id, *args, **kwargs):\n",
    "        super(Student, self).__init__(*args, **kwargs)\n",
    "        self._student_id = student_id\n",
    "        \n",
    "    def age(self, current_year):\n",
    "        return current_year - 10\n",
    "        \n",
    "    def __str__(self):\n",
    "        return super(Student, self).__str__() + \" And has ID: %d\" % self._student_id\n",
    "    \n",
    "charlie = Student(1,\"charlie\", \"brown\", 1996)\n",
    "print(charlie)\n",
    "print(charlie.age(2020))"
   ]
  },
  {
   "cell_type": "code",
   "execution_count": 37,
   "metadata": {},
   "outputs": [
    {
     "name": "stdout",
     "output_type": "stream",
     "text": [
      "charlie brown was born in 1996 And has ID: 1\n",
      "24\n"
     ]
    }
   ],
   "source": [
    "class Student(Person):\n",
    "    def __init__(self, student_id, *args, **kwargs):\n",
    "        super(Student, self).__init__(*args, **kwargs)\n",
    "        self._student_id = student_id\n",
    "        \n",
    "    #def age(self, current_year):\n",
    "     #   return current_year - 10\n",
    "        \n",
    "    def __str__(self):\n",
    "        return super(Student, self).__str__() + \" And has ID: %d\" % self._student_id\n",
    "    \n",
    "charlie = Student(1,\"charlie\", \"brown\", 1996)\n",
    "print(charlie)\n",
    "print(charlie.age(2020))"
   ]
  },
  {
   "cell_type": "code",
   "execution_count": null,
   "metadata": {},
   "outputs": [],
   "source": []
  },
  {
   "cell_type": "markdown",
   "metadata": {},
   "source": [
    "## Encapsulation\n",
    "\n",
    "Wrappng a object with a second one.\n",
    "Same concept of the capsule.  \n",
    "If we follow oops we have to have all code under class.  \n",
    "Not even a single line should be outside a class for a 100% OOPS.  \n",
    "\n",
    "variables --> function --> classes --> packages --> project.  \n",
    "\n",
    "Two main reasons to use encapsulation:  \n",
    "Composition  \n",
    "Dynamic Extension  "
   ]
  },
  {
   "cell_type": "code",
   "execution_count": 69,
   "metadata": {},
   "outputs": [],
   "source": [
    "# composition\n",
    "\n",
    "class Tyres:\n",
    "    def __init__(self,branch, belted_bias, opt_pressure):\n",
    "        self.branch = branch\n",
    "        self.belted_bias = belted_bias\n",
    "        self.opt_pressure = opt_pressure\n",
    "        \n",
    "    def __str__(self):\n",
    "        return(\" tyres: \\n \\tBranch: \" + self.branch + \n",
    "              \"\\n \\t Belted_bias: \" + str(self.belted_bias) + \n",
    "              \"\\n \\t Optimal pressure: \" + str(self.opt_pressure))\n",
    "class Engine:\n",
    "    def __init__(self,fuel_type, noise_level):\n",
    "        self.fuel_type = fuel_type\n",
    "        self.noise_level = noise_level\n",
    "        \n",
    "    def __str__(self):\n",
    "        return(\" tyres: \\n \\tFuel type: \" + self.fuel_type + \n",
    "              \"\\n \\t Noise level: \" + str(self.noise_level))\n",
    "    \n",
    "class Body:\n",
    "    def __init__(self, size):\n",
    "        self.size = size\n",
    "    def __str__(self):\n",
    "        return \"Body: \\n \\tSize: \" + self.size\n",
    "    \n",
    "class Car:\n",
    "    def __init__(self, tyres, engine, body):\n",
    "        self.tyres = tyres       #tyres, engine, body are not inheritance  \n",
    "        self.engine = engine\n",
    "        self.body = body\n",
    "        \n",
    "    def __str__(self):\n",
    "        return str(self.tyres)+\"\\n\"+str(self.engine)+\"\\n\"+str(self.body)"
   ]
  },
  {
   "cell_type": "code",
   "execution_count": 71,
   "metadata": {},
   "outputs": [
    {
     "name": "stdout",
     "output_type": "stream",
     "text": [
      " tyres: \n",
      " \tBranch: MRF\n",
      " \t Belted_bias: True\n",
      " \t Optimal pressure: 2.0\n",
      " tyres: \n",
      " \tFuel type: petrol\n",
      " \t Noise level: 3\n",
      "Body: \n",
      " \tSize: medium\n"
     ]
    }
   ],
   "source": [
    "t = Tyres(\"MRF\", True, 2.0)\n",
    "e = Engine(\"petrol\", 3)\n",
    "b = Body(\"medium\")\n",
    "c = Car(t, e, b)\n",
    "print(c)"
   ]
  },
  {
   "cell_type": "code",
   "execution_count": null,
   "metadata": {},
   "outputs": [],
   "source": []
  },
  {
   "cell_type": "markdown",
   "metadata": {},
   "source": [
    "### Dynamic extension\n",
    "\n",
    " In other languages we define the variable by its type. For ex:  \n",
    " int a;  \n",
    " a = 5  \n",
    " In this case first type is checked and then variable value is assigned.  \n",
    " It is not the case in python. We need not declare the type of the variable.  \n",
    " Based on the value assigned, the type will be automatically selected.  \n",
    "\n",
    " a = 5 / 5.0 / \"apple\" / 2+5j.  \n",
    " Based on the value input the type of a will change.  \n",
    "\n",
    " This is called dynamic typing in python  "
   ]
  },
  {
   "cell_type": "code",
   "execution_count": 73,
   "metadata": {},
   "outputs": [
    {
     "name": "stdout",
     "output_type": "stream",
     "text": [
      "kudrjavka is a laika born in 1994.\n"
     ]
    }
   ],
   "source": [
    "class Dog:\n",
    "    def __init__(self, name, year_of_birth, breed):\n",
    "        self.name = name\n",
    "        self.year_of_birth = year_of_birth\n",
    "        self.breed = breed\n",
    "    def __str__(self):\n",
    "        return \"%s is a %s born in %d.\" % (self.name, self.breed, self.year_of_birth)\n",
    "\n",
    "kudrjavka = Dog(\"kudrjavka\", 1994, \"laika\")\n",
    "print(kudrjavka)"
   ]
  },
  {
   "cell_type": "code",
   "execution_count": 79,
   "metadata": {},
   "outputs": [
    {
     "name": "stdout",
     "output_type": "stream",
     "text": [
      "Alec student ID: 1234\n",
      "kudrjavka is a laika born in 1994. student ID: 12365\n"
     ]
    }
   ],
   "source": [
    "class Student:\n",
    "    def __init__ (self, anagraphic, student_id):\n",
    "        self.anagraphic = anagraphic\n",
    "        self.student_id = student_id\n",
    "    def __str__ (self):\n",
    "        return str(self.anagraphic) + \" student ID: %d\" % self.student_id\n",
    "    \n",
    "alec_student = Student(\"Alec\", 1234)    # value passed is string\n",
    "kudrjavka_student = Student(kudrjavka, 12365)  # value passed is object of dog class.\n",
    "\n",
    "# anagraphic first gets string value. Next it gets object (dog) value.\n",
    "# anagraphic has no predefined type as python is dynamically assigned.\n",
    "# we can pass any int , float, str, obj,... for anagrphic and other variables in general.\n",
    "\n",
    "print(alec_student)\n",
    "print(kudrjavka_student)"
   ]
  },
  {
   "cell_type": "markdown",
   "metadata": {},
   "source": [
    "## Polymorphism & Duck typing\n",
    "\n",
    "Python uses dynamic typing also called duck typing\n",
    "\n",
    "When a single object behaves in a multiple way.  \n",
    "poly + morphic  \n",
    "function overloading and function overriding  \n"
   ]
  },
  {
   "cell_type": "code",
   "execution_count": 91,
   "metadata": {},
   "outputs": [
    {
     "name": "stdout",
     "output_type": "stream",
     "text": [
      "2\n",
      "['a', 'b', 'c', 'd', 'e']\n",
      "abracadabra\n"
     ]
    }
   ],
   "source": [
    "def summ(a,b):\n",
    "    return a + b\n",
    "\n",
    "print(summ(1,1))\n",
    "print(summ([\"a\",\"b\",\"c\"],[\"d\",\"e\"]))\n",
    "print(summ(\"abra\", \"cadabra\"))"
   ]
  },
  {
   "cell_type": "markdown",
   "metadata": {},
   "source": [
    "### Duck typing\n",
    "\n",
    "Duck Typing is a concept related to Dynamic Typing, where the type or the class of an object is less important than the method it defines.  \n",
    "Using Duck Typing, we do not check types at all. Instead we check for the presence of a given method or attribute.  \n",
    "The reason behind the name is the duck test: “If it looks like a duck, swims like a duck, and quack like a duck, then it probably is a duck”.  \n",
    "\n",
    "Let’s take a simple Python code example to understand it clearly:"
   ]
  },
  {
   "cell_type": "code",
   "execution_count": 90,
   "metadata": {},
   "outputs": [
    {
     "name": "stdout",
     "output_type": "stream",
     "text": [
      "Quack\n",
      "Quack Quack\n"
     ]
    },
    {
     "ename": "AttributeError",
     "evalue": "'Dog' object has no attribute 'quack'",
     "output_type": "error",
     "traceback": [
      "\u001b[1;31m---------------------------------------------------------------------------\u001b[0m",
      "\u001b[1;31mAttributeError\u001b[0m                            Traceback (most recent call last)",
      "\u001b[1;32m<ipython-input-90-f8bd8bfd9326>\u001b[0m in \u001b[0;36m<module>\u001b[1;34m\u001b[0m\n\u001b[0;32m     17\u001b[0m \u001b[0mItQuacks\u001b[0m\u001b[1;33m(\u001b[0m\u001b[0mDuck\u001b[0m\u001b[1;33m(\u001b[0m\u001b[1;33m)\u001b[0m\u001b[1;33m)\u001b[0m\u001b[1;33m\u001b[0m\u001b[1;33m\u001b[0m\u001b[0m\n\u001b[0;32m     18\u001b[0m \u001b[0mItQuacks\u001b[0m\u001b[1;33m(\u001b[0m\u001b[0mGoose\u001b[0m\u001b[1;33m(\u001b[0m\u001b[1;33m)\u001b[0m\u001b[1;33m)\u001b[0m\u001b[1;33m\u001b[0m\u001b[1;33m\u001b[0m\u001b[0m\n\u001b[1;32m---> 19\u001b[1;33m \u001b[0mItQuacks\u001b[0m\u001b[1;33m(\u001b[0m\u001b[0mDog\u001b[0m\u001b[1;33m(\u001b[0m\u001b[1;33m)\u001b[0m\u001b[1;33m)\u001b[0m\u001b[1;33m\u001b[0m\u001b[1;33m\u001b[0m\u001b[0m\n\u001b[0m",
      "\u001b[1;32m<ipython-input-90-f8bd8bfd9326>\u001b[0m in \u001b[0;36m__init__\u001b[1;34m(self, animal)\u001b[0m\n\u001b[0;32m     13\u001b[0m \u001b[1;32mclass\u001b[0m \u001b[0mItQuacks\u001b[0m\u001b[1;33m:\u001b[0m\u001b[1;33m\u001b[0m\u001b[1;33m\u001b[0m\u001b[0m\n\u001b[0;32m     14\u001b[0m     \u001b[1;32mdef\u001b[0m \u001b[0m__init__\u001b[0m\u001b[1;33m(\u001b[0m\u001b[0mself\u001b[0m\u001b[1;33m,\u001b[0m \u001b[0manimal\u001b[0m\u001b[1;33m)\u001b[0m\u001b[1;33m:\u001b[0m\u001b[1;33m\u001b[0m\u001b[1;33m\u001b[0m\u001b[0m\n\u001b[1;32m---> 15\u001b[1;33m         \u001b[0manimal\u001b[0m\u001b[1;33m.\u001b[0m\u001b[0mquack\u001b[0m\u001b[1;33m(\u001b[0m\u001b[1;33m)\u001b[0m\u001b[1;33m\u001b[0m\u001b[1;33m\u001b[0m\u001b[0m\n\u001b[0m\u001b[0;32m     16\u001b[0m \u001b[1;33m\u001b[0m\u001b[0m\n\u001b[0;32m     17\u001b[0m \u001b[0mItQuacks\u001b[0m\u001b[1;33m(\u001b[0m\u001b[0mDuck\u001b[0m\u001b[1;33m(\u001b[0m\u001b[1;33m)\u001b[0m\u001b[1;33m)\u001b[0m\u001b[1;33m\u001b[0m\u001b[1;33m\u001b[0m\u001b[0m\n",
      "\u001b[1;31mAttributeError\u001b[0m: 'Dog' object has no attribute 'quack'"
     ]
    }
   ],
   "source": [
    "class Duck: \n",
    "    def quack(self): \n",
    "        print(\"Quack\")\n",
    "        \n",
    "class Goose: \n",
    "    def quack(self): \n",
    "        print(\"Quack Quack\")\n",
    "        \n",
    "class Dog: \n",
    "    def bark(self): \n",
    "        print(\"I just bark\")\n",
    "        \n",
    "class ItQuacks: \n",
    "    def __init__(self, animal): \n",
    "        animal.quack() \n",
    "\n",
    "ItQuacks(Duck()) \n",
    "ItQuacks(Goose()) \n",
    "ItQuacks(Dog())"
   ]
  },
  {
   "cell_type": "code",
   "execution_count": null,
   "metadata": {},
   "outputs": [],
   "source": []
  },
  {
   "cell_type": "markdown",
   "metadata": {},
   "source": [
    "### How long can a class be?\n",
    "\n",
    "There is a OOPS principle called SRP(single responsibility principle.  \n",
    "It states that \"a class should have one single responsibility\" or \n",
    "\" a class should have only one reason to change\"\n",
    "\n",
    "For ex in Car class. Wehave diff class for tyre, engine ,.... This is the principle it follows. Its not a good practice to have all in one class."
   ]
  },
  {
   "cell_type": "code",
   "execution_count": null,
   "metadata": {},
   "outputs": [],
   "source": []
  },
  {
   "cell_type": "code",
   "execution_count": null,
   "metadata": {},
   "outputs": [],
   "source": []
  },
  {
   "cell_type": "code",
   "execution_count": null,
   "metadata": {},
   "outputs": [],
   "source": []
  },
  {
   "cell_type": "code",
   "execution_count": 58,
   "metadata": {},
   "outputs": [],
   "source": [
    "# Example \n",
    "\n",
    "class class1:                                            # defining and creating a class.\n",
    "    name = \"Satish\"                          #Defining a variable in class. Code line indented to show it belogs to the class1\n",
    "    number = 177003\n",
    "    def nameinside(self):                                # creating a function inside the class1\n",
    "        id = 10\n",
    "        print(\" the name inside class is: \", self.name, self.number, id) #function code line indented to show it belongs to func nameinside."
   ]
  },
  {
   "cell_type": "code",
   "execution_count": 59,
   "metadata": {},
   "outputs": [
    {
     "name": "stdout",
     "output_type": "stream",
     "text": [
      " the name inside class is:  Satish 177003 10\n"
     ]
    }
   ],
   "source": [
    "c1 = class1()         # an object c1 is created using class1\n",
    "\n",
    "c1.nameinside()        # to use the function in the class object c1"
   ]
  },
  {
   "cell_type": "code",
   "execution_count": 60,
   "metadata": {},
   "outputs": [
    {
     "name": "stdout",
     "output_type": "stream",
     "text": [
      " the name inside class is:  Lakshmana 1432556 10\n"
     ]
    }
   ],
   "source": [
    "c2 = class1()          # creating an object c2 using class1\n",
    "\n",
    "c2.name = \"Lakshmana\"  #replacing the name with new one.\n",
    "c2.number = 1432556\n",
    "c2.nameinside()        # use function in class object c2\n",
    "\n",
    "# In c1 we can see that there is no name changed.\n",
    "# in c2 the name can be changed by accessing it using the code (class_name.variable = \" anything \")\n",
    "#This is possible because we have used the word self. Self refers to the object if its c1 or c2.\n",
    "# Self is not a keyword we can use any word. But to use self is a good practice."
   ]
  },
  {
   "cell_type": "code",
   "execution_count": 61,
   "metadata": {},
   "outputs": [],
   "source": [
    "# class1.function() and c1. function() are both different.\n",
    "# first one is the function and second one is the method."
   ]
  },
  {
   "cell_type": "code",
   "execution_count": null,
   "metadata": {},
   "outputs": [],
   "source": []
  },
  {
   "cell_type": "code",
   "execution_count": 46,
   "metadata": {},
   "outputs": [],
   "source": [
    "class class2:\n",
    "    @staticmethod\n",
    "    def calc(num1, num2, operator):\n",
    "        #num1 = int(input(\"enter the first number\"))\n",
    "        #num2 = int(input(\"enter the second number\"))\n",
    "        #operator = input(\" enter the operator +, - or *.\")\n",
    "        if operator == \"+\":\n",
    "            sum = num1 + num2\n",
    "            print(\" the sum of numbers is: \",sum)\n",
    "        elif operator == \"-\":\n",
    "            diff = num1 - num2\n",
    "            print(\" the diff of numbers is: \",diff)\n",
    "        elif operator == \"*\":\n",
    "            mult = num1 * num2\n",
    "            print(\" the product of numbers is: \",mult)\n",
    "        else:\n",
    "            print(\"enter the operator from +, - and * options\")\n",
    "            \n",
    "# Why staticmethod?\n",
    "\n",
    "# Upon calling a function from the class, the self is taken as a standard argument along with other arguments passed.\n",
    "# If we use the @staticmethod we get rid of that self argument."
   ]
  },
  {
   "cell_type": "code",
   "execution_count": 47,
   "metadata": {},
   "outputs": [
    {
     "name": "stdout",
     "output_type": "stream",
     "text": [
      " the sum of numbers is:  3\n"
     ]
    }
   ],
   "source": [
    "c5 = class2()\n",
    "c5.calc(1,2,\"+\")"
   ]
  },
  {
   "cell_type": "code",
   "execution_count": 48,
   "metadata": {},
   "outputs": [
    {
     "name": "stdout",
     "output_type": "stream",
     "text": [
      " the diff of numbers is:  -1\n"
     ]
    }
   ],
   "source": [
    "c5 = class2()\n",
    "c5.calc(1,2,\"-\")"
   ]
  },
  {
   "cell_type": "code",
   "execution_count": 49,
   "metadata": {},
   "outputs": [
    {
     "name": "stdout",
     "output_type": "stream",
     "text": [
      " the product of numbers is:  2\n"
     ]
    }
   ],
   "source": [
    "c5 = class2()\n",
    "c5.calc(1,2,\"*\")"
   ]
  },
  {
   "cell_type": "code",
   "execution_count": 50,
   "metadata": {},
   "outputs": [
    {
     "name": "stdout",
     "output_type": "stream",
     "text": [
      "enter the operator from +, - and * options\n"
     ]
    }
   ],
   "source": [
    "c5 = class2()\n",
    "c5.calc(1,2,\"/\")"
   ]
  },
  {
   "cell_type": "code",
   "execution_count": null,
   "metadata": {},
   "outputs": [],
   "source": []
  },
  {
   "cell_type": "code",
   "execution_count": null,
   "metadata": {},
   "outputs": [],
   "source": []
  },
  {
   "cell_type": "code",
   "execution_count": 10,
   "metadata": {},
   "outputs": [],
   "source": [
    "# Class problem"
   ]
  },
  {
   "cell_type": "code",
   "execution_count": 1,
   "metadata": {},
   "outputs": [
    {
     "name": "stdout",
     "output_type": "stream",
     "text": [
      "Enter school nameineuron\n",
      "Enter the namekrish naik\n",
      "Enter the surnamenaik\n",
      "Enter year of birth1982\n",
      "Enter the class10\n"
     ]
    },
    {
     "data": {
      "text/html": [
       "<div>\n",
       "<style scoped>\n",
       "    .dataframe tbody tr th:only-of-type {\n",
       "        vertical-align: middle;\n",
       "    }\n",
       "\n",
       "    .dataframe tbody tr th {\n",
       "        vertical-align: top;\n",
       "    }\n",
       "\n",
       "    .dataframe thead th {\n",
       "        text-align: right;\n",
       "    }\n",
       "</style>\n",
       "<table border=\"1\" class=\"dataframe\">\n",
       "  <thead>\n",
       "    <tr style=\"text-align: right;\">\n",
       "      <th></th>\n",
       "      <th>school_name</th>\n",
       "      <th>name</th>\n",
       "      <th>surname</th>\n",
       "      <th>year_of_birth</th>\n",
       "      <th>nclass</th>\n",
       "    </tr>\n",
       "  </thead>\n",
       "  <tbody>\n",
       "    <tr>\n",
       "      <td>0</td>\n",
       "      <td>ineuron</td>\n",
       "      <td>krish naik</td>\n",
       "      <td>naik</td>\n",
       "      <td>1982</td>\n",
       "      <td>10</td>\n",
       "    </tr>\n",
       "  </tbody>\n",
       "</table>\n",
       "</div>"
      ],
      "text/plain": [
       "  school_name        name surname  year_of_birth  nclass\n",
       "0     ineuron  krish naik    naik           1982      10"
      ]
     },
     "execution_count": 1,
     "metadata": {},
     "output_type": "execute_result"
    }
   ],
   "source": [
    "import pandas as pd\n",
    "\n",
    "class Student:\n",
    "    def __init__(self):\n",
    "        self.name = input(\"Enter the name\")\n",
    "        self.surname = input(\"Enter the surname\")\n",
    "        self.year_of_birth = int(input(\"Enter year of birth\"))\n",
    "        self.nclass = int(input(\"Enter the class\"))\n",
    "        \n",
    "    def __str__ (self):\n",
    "        return self.name +\" \"+ self.surname + \" born in \" + str(self.year_of_birth) + \" of class \" + str(self.nclass)\n",
    "\n",
    "class School(Student):\n",
    "    def __init__(self, *args):\n",
    "        self.school_name = input(\"Enter school name\")\n",
    "        super().__init__(*args)\n",
    "    def __str__(self):\n",
    "        return super(School,self).__str__() +\" \"+ self.school_name + \" School\"\n",
    "    \n",
    "a = School()\n",
    "pd.DataFrame.from_records([a.__dict__])"
   ]
  },
  {
   "cell_type": "code",
   "execution_count": null,
   "metadata": {},
   "outputs": [],
   "source": [
    "no_stu = int(input(\"Enter the number of Students\"))\n",
    "table = []\n",
    "for i in range(no_stu):\n",
    "    school_obj = School()\n",
    "    table.append(school_obj)\n",
    "pd.DataFrame.from_records([s.__dict__ for s in table])"
   ]
  },
  {
   "cell_type": "code",
   "execution_count": null,
   "metadata": {},
   "outputs": [],
   "source": []
  }
 ],
 "metadata": {
  "kernelspec": {
   "display_name": "Python 3",
   "language": "python",
   "name": "python3"
  },
  "language_info": {
   "codemirror_mode": {
    "name": "ipython",
    "version": 3
   },
   "file_extension": ".py",
   "mimetype": "text/x-python",
   "name": "python",
   "nbconvert_exporter": "python",
   "pygments_lexer": "ipython3",
   "version": "3.7.4"
  }
 },
 "nbformat": 4,
 "nbformat_minor": 2
}
